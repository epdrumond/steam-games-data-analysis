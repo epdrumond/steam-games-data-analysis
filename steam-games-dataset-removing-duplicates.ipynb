{
 "cells": [
  {
   "cell_type": "markdown",
   "id": "4f4189a4",
   "metadata": {
    "papermill": {
     "duration": 0.006314,
     "end_time": "2025-02-19T21:57:48.456384",
     "exception": false,
     "start_time": "2025-02-19T21:57:48.450070",
     "status": "completed"
    },
    "tags": []
   },
   "source": [
    "# Removing Duplicates\n",
    "\n",
    "A superficial analysis of the Steam Games dataset will point to no duplicates existing whithin the data. However, on a closer inspection, we do see some records that refer to the same title. In this notebook we'll show how we identified and adressed this matter."
   ]
  },
  {
   "cell_type": "code",
   "execution_count": 1,
   "id": "a4b45432",
   "metadata": {
    "_cell_guid": "b1076dfc-b9ad-4769-8c92-a6c4dae69d19",
    "_uuid": "8f2839f25d086af736a60e9eeb907d3b93b6e0e5",
    "execution": {
     "iopub.execute_input": "2025-02-19T21:57:48.469297Z",
     "iopub.status.busy": "2025-02-19T21:57:48.468666Z",
     "iopub.status.idle": "2025-02-19T21:57:50.762629Z",
     "shell.execute_reply": "2025-02-19T21:57:50.761427Z"
    },
    "papermill": {
     "duration": 2.302711,
     "end_time": "2025-02-19T21:57:50.764649",
     "exception": false,
     "start_time": "2025-02-19T21:57:48.461938",
     "status": "completed"
    },
    "tags": []
   },
   "outputs": [],
   "source": [
    "#Import packages\n",
    "import pandas as pd\n",
    "import json\n",
    "\n",
    "import requests\n",
    "from bs4 import BeautifulSoup"
   ]
  },
  {
   "cell_type": "code",
   "execution_count": 2,
   "id": "2961ba31",
   "metadata": {
    "execution": {
     "iopub.execute_input": "2025-02-19T21:57:50.777122Z",
     "iopub.status.busy": "2025-02-19T21:57:50.776537Z",
     "iopub.status.idle": "2025-02-19T21:58:17.042965Z",
     "shell.execute_reply": "2025-02-19T21:58:17.041741Z"
    },
    "papermill": {
     "duration": 26.275239,
     "end_time": "2025-02-19T21:58:17.045371",
     "exception": false,
     "start_time": "2025-02-19T21:57:50.770132",
     "status": "completed"
    },
    "tags": []
   },
   "outputs": [],
   "source": [
    "#Load data\n",
    "INPUT_PATH = \"/kaggle/input/steam-games-dataset/\"\n",
    "df = pd.read_json(INPUT_PATH + \"games.json\", orient=\"index\")\n",
    "df.index.rename(\"app_id\", inplace=True)"
   ]
  },
  {
   "cell_type": "code",
   "execution_count": 3,
   "id": "fbe31572",
   "metadata": {
    "execution": {
     "iopub.execute_input": "2025-02-19T21:58:17.058623Z",
     "iopub.status.busy": "2025-02-19T21:58:17.058161Z",
     "iopub.status.idle": "2025-02-19T21:58:17.092972Z",
     "shell.execute_reply": "2025-02-19T21:58:17.091619Z"
    },
    "papermill": {
     "duration": 0.043858,
     "end_time": "2025-02-19T21:58:17.095139",
     "exception": false,
     "start_time": "2025-02-19T21:58:17.051281",
     "status": "completed"
    },
    "tags": []
   },
   "outputs": [
    {
     "data": {
      "text/plain": [
       "app_id\n",
       "20200      1\n",
       "2016110    1\n",
       "2193610    1\n",
       "1997040    1\n",
       "1965920    1\n",
       "          ..\n",
       "380        1\n",
       "1475740    1\n",
       "1021680    1\n",
       "816250     1\n",
       "3054200    1\n",
       "Name: count, Length: 97410, dtype: int64"
      ]
     },
     "execution_count": 3,
     "metadata": {},
     "output_type": "execute_result"
    }
   ],
   "source": [
    "#Check for duplicate app_id values\n",
    "df.index.value_counts()"
   ]
  },
  {
   "cell_type": "markdown",
   "id": "7f3bf3dd",
   "metadata": {
    "papermill": {
     "duration": 0.005183,
     "end_time": "2025-02-19T21:58:17.106112",
     "exception": false,
     "start_time": "2025-02-19T21:58:17.100929",
     "status": "completed"
    },
    "tags": []
   },
   "source": [
    "From the cell above, it's clear no duplications exists from the `app_id` standpoint. In order to identify the potential duplicates, we'll create a combined key from the concatenation of the `name`, `release_date` and `detailed_description` fields. These columns were chosen simply because it seems very unlikely to completely different titles would hold the same values for these fields combined."
   ]
  },
  {
   "cell_type": "code",
   "execution_count": 4,
   "id": "9ecae0d3",
   "metadata": {
    "execution": {
     "iopub.execute_input": "2025-02-19T21:58:17.118500Z",
     "iopub.status.busy": "2025-02-19T21:58:17.118082Z",
     "iopub.status.idle": "2025-02-19T21:58:17.595330Z",
     "shell.execute_reply": "2025-02-19T21:58:17.593965Z"
    },
    "papermill": {
     "duration": 0.486619,
     "end_time": "2025-02-19T21:58:17.597990",
     "exception": false,
     "start_time": "2025-02-19T21:58:17.111371",
     "status": "completed"
    },
    "tags": []
   },
   "outputs": [],
   "source": [
    "#Create a combined key for duplicates identification\n",
    "combined_key_fields = [\"name\", \"release_date\", \"detailed_description\"]\n",
    "df[\"combined_key\"] = [hash('-'.join(row)) for row in df[combined_key_fields].values]"
   ]
  },
  {
   "cell_type": "code",
   "execution_count": 5,
   "id": "94143812",
   "metadata": {
    "execution": {
     "iopub.execute_input": "2025-02-19T21:58:17.611702Z",
     "iopub.status.busy": "2025-02-19T21:58:17.611225Z",
     "iopub.status.idle": "2025-02-19T21:58:17.636199Z",
     "shell.execute_reply": "2025-02-19T21:58:17.634690Z"
    },
    "papermill": {
     "duration": 0.034383,
     "end_time": "2025-02-19T21:58:17.638480",
     "exception": false,
     "start_time": "2025-02-19T21:58:17.604097",
     "status": "completed"
    },
    "tags": []
   },
   "outputs": [
    {
     "data": {
      "text/plain": [
       "combined_key\n",
       " 4469120978521663240    20\n",
       " 6682565971528231394     5\n",
       " 3290368993772720387     5\n",
       "-4601373082316208102     4\n",
       "-685261494665709531      4\n",
       "                        ..\n",
       "-3600134180623906285     2\n",
       "-783766612199636911      2\n",
       " 8494472239269789341     2\n",
       "-8619287524340747877     2\n",
       " 898114009519406340      2\n",
       "Name: count, Length: 71, dtype: int64"
      ]
     },
     "execution_count": 5,
     "metadata": {},
     "output_type": "execute_result"
    }
   ],
   "source": [
    "#Identify potential duplicates\n",
    "duplicates = df[\"combined_key\"].value_counts()\n",
    "duplicates = duplicates[duplicates > 1]\n",
    "duplicates"
   ]
  },
  {
   "cell_type": "markdown",
   "id": "81233996",
   "metadata": {
    "papermill": {
     "duration": 0.005485,
     "end_time": "2025-02-19T21:58:17.649846",
     "exception": false,
     "start_time": "2025-02-19T21:58:17.644361",
     "status": "completed"
    },
    "tags": []
   },
   "source": [
    "As we can see, we have 71 occurrences in which the titles with differend `app_ids` have the same name, release date and detailed description. This, however, is not enough for us to be sure about their duplicate status. The next step is to check some samples. We are then going to look at the records associted with the following `combined_key` values:\n",
    "* `8933640421187601788`\n",
    "* `-3183998450418249162`"
   ]
  },
  {
   "cell_type": "code",
   "execution_count": 6,
   "id": "5f1b9b6d",
   "metadata": {
    "execution": {
     "iopub.execute_input": "2025-02-19T21:58:17.662795Z",
     "iopub.status.busy": "2025-02-19T21:58:17.662317Z",
     "iopub.status.idle": "2025-02-19T21:58:17.710722Z",
     "shell.execute_reply": "2025-02-19T21:58:17.709449Z"
    },
    "papermill": {
     "duration": 0.057092,
     "end_time": "2025-02-19T21:58:17.712641",
     "exception": false,
     "start_time": "2025-02-19T21:58:17.655549",
     "status": "completed"
    },
    "tags": []
   },
   "outputs": [
    {
     "data": {
      "text/html": [
       "<div>\n",
       "<style scoped>\n",
       "    .dataframe tbody tr th:only-of-type {\n",
       "        vertical-align: middle;\n",
       "    }\n",
       "\n",
       "    .dataframe tbody tr th {\n",
       "        vertical-align: top;\n",
       "    }\n",
       "\n",
       "    .dataframe thead th {\n",
       "        text-align: right;\n",
       "    }\n",
       "</style>\n",
       "<table border=\"1\" class=\"dataframe\">\n",
       "  <thead>\n",
       "    <tr style=\"text-align: right;\">\n",
       "      <th></th>\n",
       "      <th>name</th>\n",
       "      <th>release_date</th>\n",
       "      <th>required_age</th>\n",
       "      <th>price</th>\n",
       "      <th>dlc_count</th>\n",
       "      <th>detailed_description</th>\n",
       "      <th>about_the_game</th>\n",
       "      <th>short_description</th>\n",
       "      <th>reviews</th>\n",
       "      <th>header_image</th>\n",
       "      <th>...</th>\n",
       "      <th>positive</th>\n",
       "      <th>negative</th>\n",
       "      <th>estimated_owners</th>\n",
       "      <th>average_playtime_forever</th>\n",
       "      <th>average_playtime_2weeks</th>\n",
       "      <th>median_playtime_forever</th>\n",
       "      <th>median_playtime_2weeks</th>\n",
       "      <th>peak_ccu</th>\n",
       "      <th>tags</th>\n",
       "      <th>combined_key</th>\n",
       "    </tr>\n",
       "    <tr>\n",
       "      <th>app_id</th>\n",
       "      <th></th>\n",
       "      <th></th>\n",
       "      <th></th>\n",
       "      <th></th>\n",
       "      <th></th>\n",
       "      <th></th>\n",
       "      <th></th>\n",
       "      <th></th>\n",
       "      <th></th>\n",
       "      <th></th>\n",
       "      <th></th>\n",
       "      <th></th>\n",
       "      <th></th>\n",
       "      <th></th>\n",
       "      <th></th>\n",
       "      <th></th>\n",
       "      <th></th>\n",
       "      <th></th>\n",
       "      <th></th>\n",
       "      <th></th>\n",
       "      <th></th>\n",
       "    </tr>\n",
       "  </thead>\n",
       "  <tbody>\n",
       "  </tbody>\n",
       "</table>\n",
       "<p>0 rows × 42 columns</p>\n",
       "</div>"
      ],
      "text/plain": [
       "Empty DataFrame\n",
       "Columns: [name, release_date, required_age, price, dlc_count, detailed_description, about_the_game, short_description, reviews, header_image, website, support_url, support_email, windows, mac, linux, metacritic_score, metacritic_url, achievements, recommendations, notes, supported_languages, full_audio_languages, packages, developers, publishers, categories, genres, screenshots, movies, user_score, score_rank, positive, negative, estimated_owners, average_playtime_forever, average_playtime_2weeks, median_playtime_forever, median_playtime_2weeks, peak_ccu, tags, combined_key]\n",
       "Index: []\n",
       "\n",
       "[0 rows x 42 columns]"
      ]
     },
     "execution_count": 6,
     "metadata": {},
     "output_type": "execute_result"
    }
   ],
   "source": [
    "#Check sample 1 (combined_key = 8933640421187601788)\n",
    "df.query(\"combined_key == 8933640421187601788\")"
   ]
  },
  {
   "cell_type": "code",
   "execution_count": 7,
   "id": "08016d00",
   "metadata": {
    "execution": {
     "iopub.execute_input": "2025-02-19T21:58:17.726604Z",
     "iopub.status.busy": "2025-02-19T21:58:17.726118Z",
     "iopub.status.idle": "2025-02-19T21:58:17.752635Z",
     "shell.execute_reply": "2025-02-19T21:58:17.751268Z"
    },
    "papermill": {
     "duration": 0.036188,
     "end_time": "2025-02-19T21:58:17.755082",
     "exception": false,
     "start_time": "2025-02-19T21:58:17.718894",
     "status": "completed"
    },
    "tags": []
   },
   "outputs": [
    {
     "data": {
      "text/html": [
       "<div>\n",
       "<style scoped>\n",
       "    .dataframe tbody tr th:only-of-type {\n",
       "        vertical-align: middle;\n",
       "    }\n",
       "\n",
       "    .dataframe tbody tr th {\n",
       "        vertical-align: top;\n",
       "    }\n",
       "\n",
       "    .dataframe thead th {\n",
       "        text-align: right;\n",
       "    }\n",
       "</style>\n",
       "<table border=\"1\" class=\"dataframe\">\n",
       "  <thead>\n",
       "    <tr style=\"text-align: right;\">\n",
       "      <th></th>\n",
       "      <th>name</th>\n",
       "      <th>release_date</th>\n",
       "      <th>required_age</th>\n",
       "      <th>price</th>\n",
       "      <th>dlc_count</th>\n",
       "      <th>detailed_description</th>\n",
       "      <th>about_the_game</th>\n",
       "      <th>short_description</th>\n",
       "      <th>reviews</th>\n",
       "      <th>header_image</th>\n",
       "      <th>...</th>\n",
       "      <th>positive</th>\n",
       "      <th>negative</th>\n",
       "      <th>estimated_owners</th>\n",
       "      <th>average_playtime_forever</th>\n",
       "      <th>average_playtime_2weeks</th>\n",
       "      <th>median_playtime_forever</th>\n",
       "      <th>median_playtime_2weeks</th>\n",
       "      <th>peak_ccu</th>\n",
       "      <th>tags</th>\n",
       "      <th>combined_key</th>\n",
       "    </tr>\n",
       "    <tr>\n",
       "      <th>app_id</th>\n",
       "      <th></th>\n",
       "      <th></th>\n",
       "      <th></th>\n",
       "      <th></th>\n",
       "      <th></th>\n",
       "      <th></th>\n",
       "      <th></th>\n",
       "      <th></th>\n",
       "      <th></th>\n",
       "      <th></th>\n",
       "      <th></th>\n",
       "      <th></th>\n",
       "      <th></th>\n",
       "      <th></th>\n",
       "      <th></th>\n",
       "      <th></th>\n",
       "      <th></th>\n",
       "      <th></th>\n",
       "      <th></th>\n",
       "      <th></th>\n",
       "      <th></th>\n",
       "    </tr>\n",
       "  </thead>\n",
       "  <tbody>\n",
       "  </tbody>\n",
       "</table>\n",
       "<p>0 rows × 42 columns</p>\n",
       "</div>"
      ],
      "text/plain": [
       "Empty DataFrame\n",
       "Columns: [name, release_date, required_age, price, dlc_count, detailed_description, about_the_game, short_description, reviews, header_image, website, support_url, support_email, windows, mac, linux, metacritic_score, metacritic_url, achievements, recommendations, notes, supported_languages, full_audio_languages, packages, developers, publishers, categories, genres, screenshots, movies, user_score, score_rank, positive, negative, estimated_owners, average_playtime_forever, average_playtime_2weeks, median_playtime_forever, median_playtime_2weeks, peak_ccu, tags, combined_key]\n",
       "Index: []\n",
       "\n",
       "[0 rows x 42 columns]"
      ]
     },
     "execution_count": 7,
     "metadata": {},
     "output_type": "execute_result"
    }
   ],
   "source": [
    "#Check sample 2 (combined_key = -3183998450418249162)\n",
    "df.query(\"combined_key == -3183998450418249162\")"
   ]
  },
  {
   "cell_type": "markdown",
   "id": "948fdfe7",
   "metadata": {
    "papermill": {
     "duration": 0.005964,
     "end_time": "2025-02-19T21:58:17.767368",
     "exception": false,
     "start_time": "2025-02-19T21:58:17.761404",
     "status": "completed"
    },
    "tags": []
   },
   "source": [
    "A quick glance of the selected cases does not help us a lot. While many of the fields hold the same values, this is not the case for some of them. The next step is then to check on all cases which fields are the same and which change."
   ]
  },
  {
   "cell_type": "code",
   "execution_count": 8,
   "id": "62da701c",
   "metadata": {
    "execution": {
     "iopub.execute_input": "2025-02-19T21:58:17.781339Z",
     "iopub.status.busy": "2025-02-19T21:58:17.780837Z",
     "iopub.status.idle": "2025-02-19T21:58:17.872348Z",
     "shell.execute_reply": "2025-02-19T21:58:17.870692Z"
    },
    "papermill": {
     "duration": 0.101527,
     "end_time": "2025-02-19T21:58:17.875004",
     "exception": false,
     "start_time": "2025-02-19T21:58:17.773477",
     "status": "completed"
    },
    "tags": []
   },
   "outputs": [
    {
     "data": {
      "text/html": [
       "<div>\n",
       "<style scoped>\n",
       "    .dataframe tbody tr th:only-of-type {\n",
       "        vertical-align: middle;\n",
       "    }\n",
       "\n",
       "    .dataframe tbody tr th {\n",
       "        vertical-align: top;\n",
       "    }\n",
       "\n",
       "    .dataframe thead th {\n",
       "        text-align: right;\n",
       "    }\n",
       "</style>\n",
       "<table border=\"1\" class=\"dataframe\">\n",
       "  <thead>\n",
       "    <tr style=\"text-align: right;\">\n",
       "      <th></th>\n",
       "      <th>field_name</th>\n",
       "      <th>instances_with_distinct_values</th>\n",
       "    </tr>\n",
       "  </thead>\n",
       "  <tbody>\n",
       "    <tr>\n",
       "      <th>33</th>\n",
       "      <td>negative</td>\n",
       "      <td>67</td>\n",
       "    </tr>\n",
       "    <tr>\n",
       "      <th>32</th>\n",
       "      <td>positive</td>\n",
       "      <td>67</td>\n",
       "    </tr>\n",
       "    <tr>\n",
       "      <th>40</th>\n",
       "      <td>tags</td>\n",
       "      <td>66</td>\n",
       "    </tr>\n",
       "    <tr>\n",
       "      <th>37</th>\n",
       "      <td>median_playtime_forever</td>\n",
       "      <td>66</td>\n",
       "    </tr>\n",
       "    <tr>\n",
       "      <th>35</th>\n",
       "      <td>average_playtime_forever</td>\n",
       "      <td>66</td>\n",
       "    </tr>\n",
       "    <tr>\n",
       "      <th>39</th>\n",
       "      <td>peak_ccu</td>\n",
       "      <td>62</td>\n",
       "    </tr>\n",
       "    <tr>\n",
       "      <th>34</th>\n",
       "      <td>estimated_owners</td>\n",
       "      <td>51</td>\n",
       "    </tr>\n",
       "    <tr>\n",
       "      <th>19</th>\n",
       "      <td>recommendations</td>\n",
       "      <td>30</td>\n",
       "    </tr>\n",
       "    <tr>\n",
       "      <th>38</th>\n",
       "      <td>median_playtime_2weeks</td>\n",
       "      <td>22</td>\n",
       "    </tr>\n",
       "    <tr>\n",
       "      <th>36</th>\n",
       "      <td>average_playtime_2weeks</td>\n",
       "      <td>22</td>\n",
       "    </tr>\n",
       "    <tr>\n",
       "      <th>3</th>\n",
       "      <td>price</td>\n",
       "      <td>2</td>\n",
       "    </tr>\n",
       "    <tr>\n",
       "      <th>23</th>\n",
       "      <td>packages</td>\n",
       "      <td>2</td>\n",
       "    </tr>\n",
       "    <tr>\n",
       "      <th>28</th>\n",
       "      <td>screenshots</td>\n",
       "      <td>0</td>\n",
       "    </tr>\n",
       "    <tr>\n",
       "      <th>25</th>\n",
       "      <td>publishers</td>\n",
       "      <td>0</td>\n",
       "    </tr>\n",
       "    <tr>\n",
       "      <th>26</th>\n",
       "      <td>categories</td>\n",
       "      <td>0</td>\n",
       "    </tr>\n",
       "    <tr>\n",
       "      <th>27</th>\n",
       "      <td>genres</td>\n",
       "      <td>0</td>\n",
       "    </tr>\n",
       "    <tr>\n",
       "      <th>0</th>\n",
       "      <td>name</td>\n",
       "      <td>0</td>\n",
       "    </tr>\n",
       "    <tr>\n",
       "      <th>29</th>\n",
       "      <td>movies</td>\n",
       "      <td>0</td>\n",
       "    </tr>\n",
       "    <tr>\n",
       "      <th>30</th>\n",
       "      <td>user_score</td>\n",
       "      <td>0</td>\n",
       "    </tr>\n",
       "    <tr>\n",
       "      <th>31</th>\n",
       "      <td>score_rank</td>\n",
       "      <td>0</td>\n",
       "    </tr>\n",
       "    <tr>\n",
       "      <th>41</th>\n",
       "      <td>combined_key</td>\n",
       "      <td>0</td>\n",
       "    </tr>\n",
       "    <tr>\n",
       "      <th>24</th>\n",
       "      <td>developers</td>\n",
       "      <td>0</td>\n",
       "    </tr>\n",
       "    <tr>\n",
       "      <th>21</th>\n",
       "      <td>supported_languages</td>\n",
       "      <td>0</td>\n",
       "    </tr>\n",
       "    <tr>\n",
       "      <th>22</th>\n",
       "      <td>full_audio_languages</td>\n",
       "      <td>0</td>\n",
       "    </tr>\n",
       "    <tr>\n",
       "      <th>1</th>\n",
       "      <td>release_date</td>\n",
       "      <td>0</td>\n",
       "    </tr>\n",
       "    <tr>\n",
       "      <th>2</th>\n",
       "      <td>required_age</td>\n",
       "      <td>0</td>\n",
       "    </tr>\n",
       "    <tr>\n",
       "      <th>4</th>\n",
       "      <td>dlc_count</td>\n",
       "      <td>0</td>\n",
       "    </tr>\n",
       "    <tr>\n",
       "      <th>5</th>\n",
       "      <td>detailed_description</td>\n",
       "      <td>0</td>\n",
       "    </tr>\n",
       "    <tr>\n",
       "      <th>6</th>\n",
       "      <td>about_the_game</td>\n",
       "      <td>0</td>\n",
       "    </tr>\n",
       "    <tr>\n",
       "      <th>7</th>\n",
       "      <td>short_description</td>\n",
       "      <td>0</td>\n",
       "    </tr>\n",
       "    <tr>\n",
       "      <th>8</th>\n",
       "      <td>reviews</td>\n",
       "      <td>0</td>\n",
       "    </tr>\n",
       "    <tr>\n",
       "      <th>9</th>\n",
       "      <td>header_image</td>\n",
       "      <td>0</td>\n",
       "    </tr>\n",
       "    <tr>\n",
       "      <th>10</th>\n",
       "      <td>website</td>\n",
       "      <td>0</td>\n",
       "    </tr>\n",
       "    <tr>\n",
       "      <th>11</th>\n",
       "      <td>support_url</td>\n",
       "      <td>0</td>\n",
       "    </tr>\n",
       "    <tr>\n",
       "      <th>12</th>\n",
       "      <td>support_email</td>\n",
       "      <td>0</td>\n",
       "    </tr>\n",
       "    <tr>\n",
       "      <th>13</th>\n",
       "      <td>windows</td>\n",
       "      <td>0</td>\n",
       "    </tr>\n",
       "    <tr>\n",
       "      <th>14</th>\n",
       "      <td>mac</td>\n",
       "      <td>0</td>\n",
       "    </tr>\n",
       "    <tr>\n",
       "      <th>15</th>\n",
       "      <td>linux</td>\n",
       "      <td>0</td>\n",
       "    </tr>\n",
       "    <tr>\n",
       "      <th>16</th>\n",
       "      <td>metacritic_score</td>\n",
       "      <td>0</td>\n",
       "    </tr>\n",
       "    <tr>\n",
       "      <th>17</th>\n",
       "      <td>metacritic_url</td>\n",
       "      <td>0</td>\n",
       "    </tr>\n",
       "    <tr>\n",
       "      <th>18</th>\n",
       "      <td>achievements</td>\n",
       "      <td>0</td>\n",
       "    </tr>\n",
       "    <tr>\n",
       "      <th>20</th>\n",
       "      <td>notes</td>\n",
       "      <td>0</td>\n",
       "    </tr>\n",
       "    <tr>\n",
       "      <th>42</th>\n",
       "      <td>count</td>\n",
       "      <td>0</td>\n",
       "    </tr>\n",
       "  </tbody>\n",
       "</table>\n",
       "</div>"
      ],
      "text/plain": [
       "                  field_name  instances_with_distinct_values\n",
       "33                  negative                              67\n",
       "32                  positive                              67\n",
       "40                      tags                              66\n",
       "37   median_playtime_forever                              66\n",
       "35  average_playtime_forever                              66\n",
       "39                  peak_ccu                              62\n",
       "34          estimated_owners                              51\n",
       "19           recommendations                              30\n",
       "38    median_playtime_2weeks                              22\n",
       "36   average_playtime_2weeks                              22\n",
       "3                      price                               2\n",
       "23                  packages                               2\n",
       "28               screenshots                               0\n",
       "25                publishers                               0\n",
       "26                categories                               0\n",
       "27                    genres                               0\n",
       "0                       name                               0\n",
       "29                    movies                               0\n",
       "30                user_score                               0\n",
       "31                score_rank                               0\n",
       "41              combined_key                               0\n",
       "24                developers                               0\n",
       "21       supported_languages                               0\n",
       "22      full_audio_languages                               0\n",
       "1               release_date                               0\n",
       "2               required_age                               0\n",
       "4                  dlc_count                               0\n",
       "5       detailed_description                               0\n",
       "6             about_the_game                               0\n",
       "7          short_description                               0\n",
       "8                    reviews                               0\n",
       "9               header_image                               0\n",
       "10                   website                               0\n",
       "11               support_url                               0\n",
       "12             support_email                               0\n",
       "13                   windows                               0\n",
       "14                       mac                               0\n",
       "15                     linux                               0\n",
       "16          metacritic_score                               0\n",
       "17            metacritic_url                               0\n",
       "18              achievements                               0\n",
       "20                     notes                               0\n",
       "42                     count                               0"
      ]
     },
     "execution_count": 8,
     "metadata": {},
     "output_type": "execute_result"
    }
   ],
   "source": [
    "#Check fields with same values across all records of potential duplicates\n",
    "duplicates_df = df.join(on=\"combined_key\", other=duplicates, how=\"inner\").sort_values(by=\"header_image\")\n",
    "\n",
    "for col in duplicates_df.columns:\n",
    "    duplicates_df[col] = [str(val) for val in duplicates_df[col]]\n",
    "\n",
    "duplicates_agg = duplicates_df.groupby(by=\"header_image\").agg(\n",
    "    {col: \"nunique\" for col in duplicates_df.columns}\n",
    ")\n",
    "\n",
    "duplicate_fields = []\n",
    "for col in duplicates_agg.columns:\n",
    "    duplicate_fields.append([col, sum(duplicates_agg[col] > 1)])\n",
    "\n",
    "duplicate_fields = pd.DataFrame(duplicate_fields, columns=[\"field_name\", \"instances_with_distinct_values\"])\n",
    "duplicate_fields.sort_values(by=\"instances_with_distinct_values\", ascending=False)"
   ]
  },
  {
   "cell_type": "markdown",
   "id": "e248758a",
   "metadata": {
    "papermill": {
     "duration": 0.006235,
     "end_time": "2025-02-19T21:58:17.888174",
     "exception": false,
     "start_time": "2025-02-19T21:58:17.881939",
     "status": "completed"
    },
    "tags": []
   },
   "source": [
    "In a similar way to the analysis of the samples, we see that most fields hold the same values for the same `combined_key`. But, once again, some fields frequently have several different values for the same key. We need to go one step further.\n",
    "\n",
    "Here, we are going to leave this notebook for a while and go the source of the data: Steam. If we browse its website and go through some titles, we'll be able to see the URLs follow the same simple strutucture: `https://store.steampowered.com/app/{app_id}`. This means we could use the `app_id` values in our data to check if these are indeed duplicates. Let's do this for the sample we explored earlier:"
   ]
  },
  {
   "cell_type": "code",
   "execution_count": 9,
   "id": "95cb0e27",
   "metadata": {
    "execution": {
     "iopub.execute_input": "2025-02-19T21:58:17.903156Z",
     "iopub.status.busy": "2025-02-19T21:58:17.902657Z",
     "iopub.status.idle": "2025-02-19T21:58:17.909663Z",
     "shell.execute_reply": "2025-02-19T21:58:17.908042Z"
    },
    "papermill": {
     "duration": 0.017177,
     "end_time": "2025-02-19T21:58:17.912128",
     "exception": false,
     "start_time": "2025-02-19T21:58:17.894951",
     "status": "completed"
    },
    "tags": []
   },
   "outputs": [],
   "source": [
    "#Create field to hold the URL that directs to the title\n",
    "base_url = \"<a target='_blank' href=https://store.steampowered.com/app/{0}<>https://store.steampowered.com/app/{0}</a>\"\n",
    "duplicates_df[\"app_url\"] = [base_url.format(app_id) for app_id in duplicates_df.index]"
   ]
  },
  {
   "cell_type": "code",
   "execution_count": 10,
   "id": "c099dd23",
   "metadata": {
    "execution": {
     "iopub.execute_input": "2025-02-19T21:58:17.927234Z",
     "iopub.status.busy": "2025-02-19T21:58:17.926758Z",
     "iopub.status.idle": "2025-02-19T21:58:17.948877Z",
     "shell.execute_reply": "2025-02-19T21:58:17.947637Z"
    },
    "papermill": {
     "duration": 0.031857,
     "end_time": "2025-02-19T21:58:17.950901",
     "exception": false,
     "start_time": "2025-02-19T21:58:17.919044",
     "status": "completed"
    },
    "tags": []
   },
   "outputs": [
    {
     "data": {
      "text/plain": [
       "array([], dtype=object)"
      ]
     },
     "execution_count": 10,
     "metadata": {},
     "output_type": "execute_result"
    }
   ],
   "source": [
    "#Check URLs for sample 1 (combined_key = 8933640421187601788)\n",
    "duplicates_df.query(\"combined_key == '8933640421187601788'\")[\"app_url\"].values"
   ]
  },
  {
   "cell_type": "code",
   "execution_count": 11,
   "id": "60a57516",
   "metadata": {
    "execution": {
     "iopub.execute_input": "2025-02-19T21:58:17.966684Z",
     "iopub.status.busy": "2025-02-19T21:58:17.966201Z",
     "iopub.status.idle": "2025-02-19T21:58:17.988895Z",
     "shell.execute_reply": "2025-02-19T21:58:17.987481Z"
    },
    "papermill": {
     "duration": 0.033107,
     "end_time": "2025-02-19T21:58:17.991048",
     "exception": false,
     "start_time": "2025-02-19T21:58:17.957941",
     "status": "completed"
    },
    "tags": []
   },
   "outputs": [
    {
     "data": {
      "text/plain": [
       "array([], dtype=object)"
      ]
     },
     "execution_count": 11,
     "metadata": {},
     "output_type": "execute_result"
    }
   ],
   "source": [
    "#Check URLs for sample 2 (combined_key = -3183998450418249162)\n",
    "duplicates_df.query(\"combined_key == '-3183998450418249162'\")[\"app_url\"].values"
   ]
  },
  {
   "cell_type": "markdown",
   "id": "796e67c1",
   "metadata": {
    "papermill": {
     "duration": 0.006301,
     "end_time": "2025-02-19T21:58:18.004251",
     "exception": false,
     "start_time": "2025-02-19T21:58:17.997950",
     "status": "completed"
    },
    "tags": []
   },
   "source": [
    "If you clicked on the links for both samples, you probably saw that, for each one, the final URL was always the same. This is one more strong indicator about the duplicate nature of these games. \n",
    "\n",
    "There is only one last possible explanation to negate those results. That would be that these duplicates are actually the result of different bundles, or packages for the same game being identified as different titles. While this does not look likely at this moment, it could very well be the case. So let's check it now."
   ]
  },
  {
   "cell_type": "code",
   "execution_count": 12,
   "id": "2a2f1e3a",
   "metadata": {
    "execution": {
     "iopub.execute_input": "2025-02-19T21:58:18.019303Z",
     "iopub.status.busy": "2025-02-19T21:58:18.018860Z",
     "iopub.status.idle": "2025-02-19T21:58:18.024971Z",
     "shell.execute_reply": "2025-02-19T21:58:18.023664Z"
    },
    "papermill": {
     "duration": 0.016094,
     "end_time": "2025-02-19T21:58:18.026969",
     "exception": false,
     "start_time": "2025-02-19T21:58:18.010875",
     "status": "completed"
    },
    "tags": []
   },
   "outputs": [],
   "source": [
    "#Define function to parse \"packages\" values into a list of dictionaries\n",
    "def get_number_of_packages(val):\n",
    "    formatted_val = val.replace(\"\\\\\", \"\").replace(\"'s \", \"s \").replace(\"'\", '\"')\n",
    "    packages = json.loads(formatted_val)\n",
    "    try: \n",
    "        packages = packages[0]\n",
    "        return len(packages[\"subs\"])\n",
    "    except:\n",
    "        return 0"
   ]
  },
  {
   "cell_type": "code",
   "execution_count": 13,
   "id": "75bc8cab",
   "metadata": {
    "execution": {
     "iopub.execute_input": "2025-02-19T21:58:18.042638Z",
     "iopub.status.busy": "2025-02-19T21:58:18.042187Z",
     "iopub.status.idle": "2025-02-19T21:58:18.076290Z",
     "shell.execute_reply": "2025-02-19T21:58:18.074813Z"
    },
    "papermill": {
     "duration": 0.044296,
     "end_time": "2025-02-19T21:58:18.078720",
     "exception": false,
     "start_time": "2025-02-19T21:58:18.034424",
     "status": "completed"
    },
    "tags": []
   },
   "outputs": [
    {
     "data": {
      "text/html": [
       "<div>\n",
       "<style scoped>\n",
       "    .dataframe tbody tr th:only-of-type {\n",
       "        vertical-align: middle;\n",
       "    }\n",
       "\n",
       "    .dataframe tbody tr th {\n",
       "        vertical-align: top;\n",
       "    }\n",
       "\n",
       "    .dataframe thead tr th {\n",
       "        text-align: left;\n",
       "    }\n",
       "\n",
       "    .dataframe thead tr:last-of-type th {\n",
       "        text-align: right;\n",
       "    }\n",
       "</style>\n",
       "<table border=\"1\" class=\"dataframe\">\n",
       "  <thead>\n",
       "    <tr>\n",
       "      <th></th>\n",
       "      <th colspan=\"3\" halign=\"left\">number_of_packages</th>\n",
       "    </tr>\n",
       "    <tr>\n",
       "      <th></th>\n",
       "      <th>max</th>\n",
       "      <th>min</th>\n",
       "      <th>count</th>\n",
       "    </tr>\n",
       "    <tr>\n",
       "      <th>combined_key</th>\n",
       "      <th></th>\n",
       "      <th></th>\n",
       "      <th></th>\n",
       "    </tr>\n",
       "  </thead>\n",
       "  <tbody>\n",
       "    <tr>\n",
       "      <th>-110184952151705440</th>\n",
       "      <td>0</td>\n",
       "      <td>0</td>\n",
       "      <td>2</td>\n",
       "    </tr>\n",
       "    <tr>\n",
       "      <th>-2284640409385713502</th>\n",
       "      <td>1</td>\n",
       "      <td>1</td>\n",
       "      <td>3</td>\n",
       "    </tr>\n",
       "    <tr>\n",
       "      <th>-2945165861894451980</th>\n",
       "      <td>2</td>\n",
       "      <td>2</td>\n",
       "      <td>2</td>\n",
       "    </tr>\n",
       "    <tr>\n",
       "      <th>-3049741392856618877</th>\n",
       "      <td>1</td>\n",
       "      <td>1</td>\n",
       "      <td>2</td>\n",
       "    </tr>\n",
       "    <tr>\n",
       "      <th>-3089905008029630728</th>\n",
       "      <td>1</td>\n",
       "      <td>1</td>\n",
       "      <td>3</td>\n",
       "    </tr>\n",
       "    <tr>\n",
       "      <th>...</th>\n",
       "      <td>...</td>\n",
       "      <td>...</td>\n",
       "      <td>...</td>\n",
       "    </tr>\n",
       "    <tr>\n",
       "      <th>8494472239269789341</th>\n",
       "      <td>1</td>\n",
       "      <td>1</td>\n",
       "      <td>2</td>\n",
       "    </tr>\n",
       "    <tr>\n",
       "      <th>8762429487034468491</th>\n",
       "      <td>3</td>\n",
       "      <td>3</td>\n",
       "      <td>2</td>\n",
       "    </tr>\n",
       "    <tr>\n",
       "      <th>8912315394927462818</th>\n",
       "      <td>0</td>\n",
       "      <td>0</td>\n",
       "      <td>2</td>\n",
       "    </tr>\n",
       "    <tr>\n",
       "      <th>892950807402587546</th>\n",
       "      <td>5</td>\n",
       "      <td>5</td>\n",
       "      <td>2</td>\n",
       "    </tr>\n",
       "    <tr>\n",
       "      <th>898114009519406340</th>\n",
       "      <td>2</td>\n",
       "      <td>2</td>\n",
       "      <td>2</td>\n",
       "    </tr>\n",
       "  </tbody>\n",
       "</table>\n",
       "<p>71 rows × 3 columns</p>\n",
       "</div>"
      ],
      "text/plain": [
       "                     number_of_packages          \n",
       "                                    max min count\n",
       "combined_key                                     \n",
       "-110184952151705440                   0   0     2\n",
       "-2284640409385713502                  1   1     3\n",
       "-2945165861894451980                  2   2     2\n",
       "-3049741392856618877                  1   1     2\n",
       "-3089905008029630728                  1   1     3\n",
       "...                                 ...  ..   ...\n",
       "8494472239269789341                   1   1     2\n",
       "8762429487034468491                   3   3     2\n",
       "8912315394927462818                   0   0     2\n",
       "892950807402587546                    5   5     2\n",
       "898114009519406340                    2   2     2\n",
       "\n",
       "[71 rows x 3 columns]"
      ]
     },
     "execution_count": 13,
     "metadata": {},
     "output_type": "execute_result"
    }
   ],
   "source": [
    "#Compute the amount of packages for each title and compare against the amount of unique app_ids associated to the same combined_key\n",
    "duplicates_df[\"number_of_packages\"] = [get_number_of_packages(package) for package in duplicates_df[\"packages\"]]\n",
    "\n",
    "duplicates_df.groupby(by=\"combined_key\").agg({\n",
    "    \"number_of_packages\": [\"max\", \"min\", \"count\"],\n",
    "})"
   ]
  },
  {
   "cell_type": "markdown",
   "id": "24b785e5",
   "metadata": {
    "execution": {
     "iopub.execute_input": "2025-02-19T21:37:26.244827Z",
     "iopub.status.busy": "2025-02-19T21:37:26.244487Z",
     "iopub.status.idle": "2025-02-19T21:37:26.268263Z",
     "shell.execute_reply": "2025-02-19T21:37:26.267137Z",
     "shell.execute_reply.started": "2025-02-19T21:37:26.244803Z"
    },
    "papermill": {
     "duration": 0.00658,
     "end_time": "2025-02-19T21:58:18.092371",
     "exception": false,
     "start_time": "2025-02-19T21:58:18.085791",
     "status": "completed"
    },
    "tags": []
   },
   "source": [
    "The results above show there is not a match between the number of packages available for a title and the amount of duplicates records found. This was to be expected, since we are talking about the same app in the end. With this, we can finally conclude our assessment and confirm the existence of duplicate records in the dataset.\n",
    "\n",
    "Now, we can move on to the next step: removing those duplicates. In order to do this, we are going to use the previously presented logic regarding the Steam URLs and select only those records for which the `app_id` corresponds to the identifier in the redirected URL."
   ]
  },
  {
   "cell_type": "code",
   "execution_count": 14,
   "id": "c91a91f2",
   "metadata": {
    "execution": {
     "iopub.execute_input": "2025-02-19T21:58:18.108037Z",
     "iopub.status.busy": "2025-02-19T21:58:18.107498Z",
     "iopub.status.idle": "2025-02-19T21:59:49.769082Z",
     "shell.execute_reply": "2025-02-19T21:59:49.767422Z"
    },
    "papermill": {
     "duration": 91.672261,
     "end_time": "2025-02-19T21:59:49.771640",
     "exception": false,
     "start_time": "2025-02-19T21:58:18.099379",
     "status": "completed"
    },
    "tags": []
   },
   "outputs": [],
   "source": [
    "#Remove duplicate records\n",
    "deduplicated_df = duplicates_df.copy()\n",
    "\n",
    "deduplicated_df[\"final_url_app_id\"] = [\n",
    "    requests.get(url=f\"https://store.steampowered.com/app/{app_id}\", allow_redirects=True).url \n",
    "    for app_id in deduplicated_df.index\n",
    "]\n",
    "deduplicated_df[\"final_url_app_id\"] = [\n",
    "    int(url.replace(\"https://store.steampowered.com/app/\", \"\").replace(\"/\", \"\")) for url in deduplicated_df[\"final_url_app_id\"]\n",
    "]\n",
    "\n",
    "deduplicated_df = deduplicated_df[deduplicated_df.index == deduplicated_df[\"final_url_app_id\"]]"
   ]
  },
  {
   "cell_type": "code",
   "execution_count": 15,
   "id": "3e8d8950",
   "metadata": {
    "execution": {
     "iopub.execute_input": "2025-02-19T21:59:49.790135Z",
     "iopub.status.busy": "2025-02-19T21:59:49.789542Z",
     "iopub.status.idle": "2025-02-19T21:59:49.805603Z",
     "shell.execute_reply": "2025-02-19T21:59:49.803958Z"
    },
    "papermill": {
     "duration": 0.028723,
     "end_time": "2025-02-19T21:59:49.807913",
     "exception": false,
     "start_time": "2025-02-19T21:59:49.779190",
     "status": "completed"
    },
    "tags": []
   },
   "outputs": [
    {
     "data": {
      "text/plain": [
       "combined_key\n",
       "2553868700047025618     1\n",
       "-8981574789490687166    1\n",
       "-4078039156374915112    1\n",
       "-6858067430236524913    1\n",
       "-6965377987446051163    1\n",
       "                       ..\n",
       "6535279350457244099     1\n",
       "-6797154105201435717    1\n",
       "-3224544190165374964    1\n",
       "6195112013312723679     1\n",
       "-3568368896347377739    1\n",
       "Name: count, Length: 71, dtype: int64"
      ]
     },
     "execution_count": 15,
     "metadata": {},
     "output_type": "execute_result"
    }
   ],
   "source": [
    "#Validate duplicates have been removed\n",
    "deduplicated_df[\"combined_key\"].value_counts()"
   ]
  },
  {
   "cell_type": "markdown",
   "id": "d8a1e354",
   "metadata": {
    "papermill": {
     "duration": 0.007199,
     "end_time": "2025-02-19T21:59:49.822481",
     "exception": false,
     "start_time": "2025-02-19T21:59:49.815282",
     "status": "completed"
    },
    "tags": []
   },
   "source": [
    "As we can see, the same amout of unique `combined_key` values exists in the deduplicated dataset, but now each one only has a sigle record. With this, we can safely say the existing duplicates have been addressed."
   ]
  }
 ],
 "metadata": {
  "kaggle": {
   "accelerator": "none",
   "dataSources": [
    {
     "datasetId": 2109585,
     "sourceId": 9310676,
     "sourceType": "datasetVersion"
    }
   ],
   "dockerImageVersionId": 30886,
   "isGpuEnabled": false,
   "isInternetEnabled": true,
   "language": "python",
   "sourceType": "notebook"
  },
  "kernelspec": {
   "display_name": "Python 3",
   "language": "python",
   "name": "python3"
  },
  "language_info": {
   "codemirror_mode": {
    "name": "ipython",
    "version": 3
   },
   "file_extension": ".py",
   "mimetype": "text/x-python",
   "name": "python",
   "nbconvert_exporter": "python",
   "pygments_lexer": "ipython3",
   "version": "3.10.12"
  },
  "papermill": {
   "default_parameters": {},
   "duration": 127.559532,
   "end_time": "2025-02-19T21:59:52.163952",
   "environment_variables": {},
   "exception": null,
   "input_path": "__notebook__.ipynb",
   "output_path": "__notebook__.ipynb",
   "parameters": {},
   "start_time": "2025-02-19T21:57:44.604420",
   "version": "2.6.0"
  }
 },
 "nbformat": 4,
 "nbformat_minor": 5
}
