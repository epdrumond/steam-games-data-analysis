{
 "cells": [
  {
   "cell_type": "markdown",
   "id": "584e598f",
   "metadata": {
    "papermill": {
     "duration": 0.004146,
     "end_time": "2025-02-18T23:20:24.641588",
     "exception": false,
     "start_time": "2025-02-18T23:20:24.637442",
     "status": "completed"
    },
    "tags": []
   },
   "source": [
    "# 1. Initial Setup\n",
    "\n",
    "In this first section, we'll simply do some of the initial stuff before actually getting to work with data. This will include package imports, loading the datasets and, if the need arises, other configurations."
   ]
  },
  {
   "cell_type": "code",
   "execution_count": 1,
   "id": "316f8e36",
   "metadata": {
    "_cell_guid": "b1076dfc-b9ad-4769-8c92-a6c4dae69d19",
    "_uuid": "8f2839f25d086af736a60e9eeb907d3b93b6e0e5",
    "execution": {
     "iopub.execute_input": "2025-02-18T23:20:24.649765Z",
     "iopub.status.busy": "2025-02-18T23:20:24.649218Z",
     "iopub.status.idle": "2025-02-18T23:20:25.603186Z",
     "shell.execute_reply": "2025-02-18T23:20:25.602543Z"
    },
    "papermill": {
     "duration": 0.959331,
     "end_time": "2025-02-18T23:20:25.604439",
     "exception": false,
     "start_time": "2025-02-18T23:20:24.645108",
     "status": "completed"
    },
    "tags": []
   },
   "outputs": [],
   "source": [
    "#Import packages\n",
    "import os\n",
    "import pandas as pd\n",
    "\n",
    "import requests\n",
    "from bs4 import BeautifulSoup"
   ]
  },
  {
   "cell_type": "code",
   "execution_count": 2,
   "id": "819ccedb",
   "metadata": {
    "execution": {
     "iopub.execute_input": "2025-02-18T23:20:25.613947Z",
     "iopub.status.busy": "2025-02-18T23:20:25.613691Z",
     "iopub.status.idle": "2025-02-18T23:20:40.629940Z",
     "shell.execute_reply": "2025-02-18T23:20:40.629256Z"
    },
    "papermill": {
     "duration": 15.022604,
     "end_time": "2025-02-18T23:20:40.631384",
     "exception": false,
     "start_time": "2025-02-18T23:20:25.608780",
     "status": "completed"
    },
    "tags": []
   },
   "outputs": [],
   "source": [
    "#Load data\n",
    "INPUT_PATH = \"/kaggle/input/steam-games-dataset/\"\n",
    "df = pd.read_json(INPUT_PATH + \"games.json\", orient=\"index\")\n",
    "df.index.rename(\"app_id\", inplace=True)"
   ]
  },
  {
   "cell_type": "markdown",
   "id": "65cc9b87",
   "metadata": {
    "papermill": {
     "duration": 0.003503,
     "end_time": "2025-02-18T23:20:40.638863",
     "exception": false,
     "start_time": "2025-02-18T23:20:40.635360",
     "status": "completed"
    },
    "tags": []
   },
   "source": [
    "# 2. Early Exploration\n",
    "\n",
    "We now start actually looking into the data. The goal here is to have a sense of what we are working with. The main outcomes from this step are getting more familiar with the dataset and also possibly excluding data that clearly will not be used in the following analyses."
   ]
  },
  {
   "cell_type": "code",
   "execution_count": 3,
   "id": "534eb02e",
   "metadata": {
    "execution": {
     "iopub.execute_input": "2025-02-18T23:20:40.646872Z",
     "iopub.status.busy": "2025-02-18T23:20:40.646620Z",
     "iopub.status.idle": "2025-02-18T23:20:40.675011Z",
     "shell.execute_reply": "2025-02-18T23:20:40.674392Z"
    },
    "papermill": {
     "duration": 0.033667,
     "end_time": "2025-02-18T23:20:40.676107",
     "exception": false,
     "start_time": "2025-02-18T23:20:40.642440",
     "status": "completed"
    },
    "tags": []
   },
   "outputs": [
    {
     "data": {
      "text/html": [
       "<div>\n",
       "<style scoped>\n",
       "    .dataframe tbody tr th:only-of-type {\n",
       "        vertical-align: middle;\n",
       "    }\n",
       "\n",
       "    .dataframe tbody tr th {\n",
       "        vertical-align: top;\n",
       "    }\n",
       "\n",
       "    .dataframe thead th {\n",
       "        text-align: right;\n",
       "    }\n",
       "</style>\n",
       "<table border=\"1\" class=\"dataframe\">\n",
       "  <thead>\n",
       "    <tr style=\"text-align: right;\">\n",
       "      <th></th>\n",
       "      <th>name</th>\n",
       "      <th>release_date</th>\n",
       "      <th>required_age</th>\n",
       "      <th>price</th>\n",
       "      <th>dlc_count</th>\n",
       "      <th>detailed_description</th>\n",
       "      <th>about_the_game</th>\n",
       "      <th>short_description</th>\n",
       "      <th>reviews</th>\n",
       "      <th>header_image</th>\n",
       "      <th>...</th>\n",
       "      <th>score_rank</th>\n",
       "      <th>positive</th>\n",
       "      <th>negative</th>\n",
       "      <th>estimated_owners</th>\n",
       "      <th>average_playtime_forever</th>\n",
       "      <th>average_playtime_2weeks</th>\n",
       "      <th>median_playtime_forever</th>\n",
       "      <th>median_playtime_2weeks</th>\n",
       "      <th>peak_ccu</th>\n",
       "      <th>tags</th>\n",
       "    </tr>\n",
       "    <tr>\n",
       "      <th>app_id</th>\n",
       "      <th></th>\n",
       "      <th></th>\n",
       "      <th></th>\n",
       "      <th></th>\n",
       "      <th></th>\n",
       "      <th></th>\n",
       "      <th></th>\n",
       "      <th></th>\n",
       "      <th></th>\n",
       "      <th></th>\n",
       "      <th></th>\n",
       "      <th></th>\n",
       "      <th></th>\n",
       "      <th></th>\n",
       "      <th></th>\n",
       "      <th></th>\n",
       "      <th></th>\n",
       "      <th></th>\n",
       "      <th></th>\n",
       "      <th></th>\n",
       "      <th></th>\n",
       "    </tr>\n",
       "  </thead>\n",
       "  <tbody>\n",
       "    <tr>\n",
       "      <th>20200</th>\n",
       "      <td>Galactic Bowling</td>\n",
       "      <td>Oct 21, 2008</td>\n",
       "      <td>0</td>\n",
       "      <td>19.99</td>\n",
       "      <td>0</td>\n",
       "      <td>Galactic Bowling is an exaggerated and stylize...</td>\n",
       "      <td>Galactic Bowling is an exaggerated and stylize...</td>\n",
       "      <td>Galactic Bowling is an exaggerated and stylize...</td>\n",
       "      <td></td>\n",
       "      <td>https://cdn.akamai.steamstatic.com/steam/apps/...</td>\n",
       "      <td>...</td>\n",
       "      <td></td>\n",
       "      <td>6</td>\n",
       "      <td>11</td>\n",
       "      <td>0 - 20000</td>\n",
       "      <td>0</td>\n",
       "      <td>0</td>\n",
       "      <td>0</td>\n",
       "      <td>0</td>\n",
       "      <td>0</td>\n",
       "      <td>{'Indie': 22, 'Casual': 21, 'Sports': 21, 'Bow...</td>\n",
       "    </tr>\n",
       "    <tr>\n",
       "      <th>655370</th>\n",
       "      <td>Train Bandit</td>\n",
       "      <td>Oct 12, 2017</td>\n",
       "      <td>0</td>\n",
       "      <td>0.99</td>\n",
       "      <td>0</td>\n",
       "      <td>THE LAW!! Looks to be a showdown atop a train....</td>\n",
       "      <td>THE LAW!! Looks to be a showdown atop a train....</td>\n",
       "      <td>THE LAW!! Looks to be a showdown atop a train....</td>\n",
       "      <td></td>\n",
       "      <td>https://cdn.akamai.steamstatic.com/steam/apps/...</td>\n",
       "      <td>...</td>\n",
       "      <td></td>\n",
       "      <td>53</td>\n",
       "      <td>5</td>\n",
       "      <td>0 - 20000</td>\n",
       "      <td>0</td>\n",
       "      <td>0</td>\n",
       "      <td>0</td>\n",
       "      <td>0</td>\n",
       "      <td>0</td>\n",
       "      <td>{'Indie': 109, 'Action': 103, 'Pixel Graphics'...</td>\n",
       "    </tr>\n",
       "    <tr>\n",
       "      <th>1732930</th>\n",
       "      <td>Jolt Project</td>\n",
       "      <td>Nov 17, 2021</td>\n",
       "      <td>0</td>\n",
       "      <td>4.99</td>\n",
       "      <td>0</td>\n",
       "      <td>Jolt Project: The army now has a new robotics ...</td>\n",
       "      <td>Jolt Project: The army now has a new robotics ...</td>\n",
       "      <td>Shoot vehicles, blow enemies with a special at...</td>\n",
       "      <td></td>\n",
       "      <td>https://cdn.akamai.steamstatic.com/steam/apps/...</td>\n",
       "      <td>...</td>\n",
       "      <td></td>\n",
       "      <td>0</td>\n",
       "      <td>0</td>\n",
       "      <td>0 - 20000</td>\n",
       "      <td>0</td>\n",
       "      <td>0</td>\n",
       "      <td>0</td>\n",
       "      <td>0</td>\n",
       "      <td>0</td>\n",
       "      <td>[]</td>\n",
       "    </tr>\n",
       "    <tr>\n",
       "      <th>1355720</th>\n",
       "      <td>Henosis™</td>\n",
       "      <td>Jul 23, 2020</td>\n",
       "      <td>0</td>\n",
       "      <td>5.99</td>\n",
       "      <td>0</td>\n",
       "      <td>HENOSIS™ is a mysterious 2D Platform Puzzler w...</td>\n",
       "      <td>HENOSIS™ is a mysterious 2D Platform Puzzler w...</td>\n",
       "      <td>HENOSIS™ is a mysterious 2D Platform Puzzler w...</td>\n",
       "      <td></td>\n",
       "      <td>https://cdn.akamai.steamstatic.com/steam/apps/...</td>\n",
       "      <td>...</td>\n",
       "      <td></td>\n",
       "      <td>3</td>\n",
       "      <td>0</td>\n",
       "      <td>0 - 20000</td>\n",
       "      <td>0</td>\n",
       "      <td>0</td>\n",
       "      <td>0</td>\n",
       "      <td>0</td>\n",
       "      <td>0</td>\n",
       "      <td>{'2D Platformer': 161, 'Atmospheric': 154, 'Su...</td>\n",
       "    </tr>\n",
       "    <tr>\n",
       "      <th>1139950</th>\n",
       "      <td>Two Weeks in Painland</td>\n",
       "      <td>Feb 3, 2020</td>\n",
       "      <td>0</td>\n",
       "      <td>0.00</td>\n",
       "      <td>0</td>\n",
       "      <td>ABOUT THE GAME Play as a hacker who has arrang...</td>\n",
       "      <td>ABOUT THE GAME Play as a hacker who has arrang...</td>\n",
       "      <td>Two Weeks in Painland is a story-driven game a...</td>\n",
       "      <td></td>\n",
       "      <td>https://cdn.akamai.steamstatic.com/steam/apps/...</td>\n",
       "      <td>...</td>\n",
       "      <td></td>\n",
       "      <td>50</td>\n",
       "      <td>8</td>\n",
       "      <td>0 - 20000</td>\n",
       "      <td>0</td>\n",
       "      <td>0</td>\n",
       "      <td>0</td>\n",
       "      <td>0</td>\n",
       "      <td>0</td>\n",
       "      <td>{'Indie': 42, 'Adventure': 41, 'Nudity': 22, '...</td>\n",
       "    </tr>\n",
       "  </tbody>\n",
       "</table>\n",
       "<p>5 rows × 41 columns</p>\n",
       "</div>"
      ],
      "text/plain": [
       "                          name  release_date  required_age  price  dlc_count  \\\n",
       "app_id                                                                         \n",
       "20200         Galactic Bowling  Oct 21, 2008             0  19.99          0   \n",
       "655370            Train Bandit  Oct 12, 2017             0   0.99          0   \n",
       "1732930           Jolt Project  Nov 17, 2021             0   4.99          0   \n",
       "1355720               Henosis™  Jul 23, 2020             0   5.99          0   \n",
       "1139950  Two Weeks in Painland   Feb 3, 2020             0   0.00          0   \n",
       "\n",
       "                                      detailed_description  \\\n",
       "app_id                                                       \n",
       "20200    Galactic Bowling is an exaggerated and stylize...   \n",
       "655370   THE LAW!! Looks to be a showdown atop a train....   \n",
       "1732930  Jolt Project: The army now has a new robotics ...   \n",
       "1355720  HENOSIS™ is a mysterious 2D Platform Puzzler w...   \n",
       "1139950  ABOUT THE GAME Play as a hacker who has arrang...   \n",
       "\n",
       "                                            about_the_game  \\\n",
       "app_id                                                       \n",
       "20200    Galactic Bowling is an exaggerated and stylize...   \n",
       "655370   THE LAW!! Looks to be a showdown atop a train....   \n",
       "1732930  Jolt Project: The army now has a new robotics ...   \n",
       "1355720  HENOSIS™ is a mysterious 2D Platform Puzzler w...   \n",
       "1139950  ABOUT THE GAME Play as a hacker who has arrang...   \n",
       "\n",
       "                                         short_description reviews  \\\n",
       "app_id                                                               \n",
       "20200    Galactic Bowling is an exaggerated and stylize...           \n",
       "655370   THE LAW!! Looks to be a showdown atop a train....           \n",
       "1732930  Shoot vehicles, blow enemies with a special at...           \n",
       "1355720  HENOSIS™ is a mysterious 2D Platform Puzzler w...           \n",
       "1139950  Two Weeks in Painland is a story-driven game a...           \n",
       "\n",
       "                                              header_image  ... score_rank  \\\n",
       "app_id                                                      ...              \n",
       "20200    https://cdn.akamai.steamstatic.com/steam/apps/...  ...              \n",
       "655370   https://cdn.akamai.steamstatic.com/steam/apps/...  ...              \n",
       "1732930  https://cdn.akamai.steamstatic.com/steam/apps/...  ...              \n",
       "1355720  https://cdn.akamai.steamstatic.com/steam/apps/...  ...              \n",
       "1139950  https://cdn.akamai.steamstatic.com/steam/apps/...  ...              \n",
       "\n",
       "        positive negative  estimated_owners  average_playtime_forever  \\\n",
       "app_id                                                                  \n",
       "20200          6       11         0 - 20000                         0   \n",
       "655370        53        5         0 - 20000                         0   \n",
       "1732930        0        0         0 - 20000                         0   \n",
       "1355720        3        0         0 - 20000                         0   \n",
       "1139950       50        8         0 - 20000                         0   \n",
       "\n",
       "         average_playtime_2weeks  median_playtime_forever  \\\n",
       "app_id                                                      \n",
       "20200                          0                        0   \n",
       "655370                         0                        0   \n",
       "1732930                        0                        0   \n",
       "1355720                        0                        0   \n",
       "1139950                        0                        0   \n",
       "\n",
       "        median_playtime_2weeks  peak_ccu  \\\n",
       "app_id                                     \n",
       "20200                        0         0   \n",
       "655370                       0         0   \n",
       "1732930                      0         0   \n",
       "1355720                      0         0   \n",
       "1139950                      0         0   \n",
       "\n",
       "                                                      tags  \n",
       "app_id                                                      \n",
       "20200    {'Indie': 22, 'Casual': 21, 'Sports': 21, 'Bow...  \n",
       "655370   {'Indie': 109, 'Action': 103, 'Pixel Graphics'...  \n",
       "1732930                                                 []  \n",
       "1355720  {'2D Platformer': 161, 'Atmospheric': 154, 'Su...  \n",
       "1139950  {'Indie': 42, 'Adventure': 41, 'Nudity': 22, '...  \n",
       "\n",
       "[5 rows x 41 columns]"
      ]
     },
     "execution_count": 3,
     "metadata": {},
     "output_type": "execute_result"
    }
   ],
   "source": [
    "#Get a sense of what the data looks like\n",
    "df.head()"
   ]
  },
  {
   "cell_type": "code",
   "execution_count": 4,
   "id": "9742ff2f",
   "metadata": {
    "execution": {
     "iopub.execute_input": "2025-02-18T23:20:40.684667Z",
     "iopub.status.busy": "2025-02-18T23:20:40.684416Z",
     "iopub.status.idle": "2025-02-18T23:20:40.698928Z",
     "shell.execute_reply": "2025-02-18T23:20:40.698350Z"
    },
    "papermill": {
     "duration": 0.019606,
     "end_time": "2025-02-18T23:20:40.699873",
     "exception": false,
     "start_time": "2025-02-18T23:20:40.680267",
     "status": "completed"
    },
    "tags": []
   },
   "outputs": [
    {
     "data": {
      "text/plain": [
       "app_id\n",
       "20200      1\n",
       "2016110    1\n",
       "2193610    1\n",
       "1997040    1\n",
       "1965920    1\n",
       "          ..\n",
       "380        1\n",
       "1475740    1\n",
       "1021680    1\n",
       "816250     1\n",
       "3054200    1\n",
       "Name: count, Length: 97410, dtype: int64"
      ]
     },
     "execution_count": 4,
     "metadata": {},
     "output_type": "execute_result"
    }
   ],
   "source": [
    "#Ensure the index (app_id) is the unique key\n",
    "df.index.value_counts()"
   ]
  },
  {
   "cell_type": "code",
   "execution_count": 5,
   "id": "39db54a9",
   "metadata": {
    "execution": {
     "iopub.execute_input": "2025-02-18T23:20:40.708479Z",
     "iopub.status.busy": "2025-02-18T23:20:40.708294Z",
     "iopub.status.idle": "2025-02-18T23:20:40.979486Z",
     "shell.execute_reply": "2025-02-18T23:20:40.978760Z"
    },
    "papermill": {
     "duration": 0.276685,
     "end_time": "2025-02-18T23:20:40.980673",
     "exception": false,
     "start_time": "2025-02-18T23:20:40.703988",
     "status": "completed"
    },
    "tags": []
   },
   "outputs": [
    {
     "name": "stdout",
     "output_type": "stream",
     "text": [
      "<class 'pandas.core.frame.DataFrame'>\n",
      "Index: 97410 entries, 20200 to 3054200\n",
      "Data columns (total 41 columns):\n",
      " #   Column                    Non-Null Count  Dtype  \n",
      "---  ------                    --------------  -----  \n",
      " 0   name                      97410 non-null  object \n",
      " 1   release_date              97410 non-null  object \n",
      " 2   required_age              97410 non-null  int64  \n",
      " 3   price                     97410 non-null  float64\n",
      " 4   dlc_count                 97410 non-null  int64  \n",
      " 5   detailed_description      97410 non-null  object \n",
      " 6   about_the_game            97410 non-null  object \n",
      " 7   short_description         97410 non-null  object \n",
      " 8   reviews                   97410 non-null  object \n",
      " 9   header_image              97410 non-null  object \n",
      " 10  website                   97410 non-null  object \n",
      " 11  support_url               97410 non-null  object \n",
      " 12  support_email             97410 non-null  object \n",
      " 13  windows                   97410 non-null  bool   \n",
      " 14  mac                       97410 non-null  bool   \n",
      " 15  linux                     97410 non-null  bool   \n",
      " 16  metacritic_score          97410 non-null  int64  \n",
      " 17  metacritic_url            97410 non-null  object \n",
      " 18  achievements              97410 non-null  int64  \n",
      " 19  recommendations           97410 non-null  int64  \n",
      " 20  notes                     97410 non-null  object \n",
      " 21  supported_languages       97410 non-null  object \n",
      " 22  full_audio_languages      97410 non-null  object \n",
      " 23  packages                  97410 non-null  object \n",
      " 24  developers                97410 non-null  object \n",
      " 25  publishers                97410 non-null  object \n",
      " 26  categories                97410 non-null  object \n",
      " 27  genres                    97410 non-null  object \n",
      " 28  screenshots               97410 non-null  object \n",
      " 29  movies                    97410 non-null  object \n",
      " 30  user_score                97410 non-null  int64  \n",
      " 31  score_rank                97410 non-null  object \n",
      " 32  positive                  97410 non-null  int64  \n",
      " 33  negative                  97410 non-null  int64  \n",
      " 34  estimated_owners          97410 non-null  object \n",
      " 35  average_playtime_forever  97410 non-null  int64  \n",
      " 36  average_playtime_2weeks   97410 non-null  int64  \n",
      " 37  median_playtime_forever   97410 non-null  int64  \n",
      " 38  median_playtime_2weeks    97410 non-null  int64  \n",
      " 39  peak_ccu                  97410 non-null  int64  \n",
      " 40  tags                      97410 non-null  object \n",
      "dtypes: bool(3), float64(1), int64(13), object(24)\n",
      "memory usage: 29.3+ MB\n"
     ]
    }
   ],
   "source": [
    "#Look into the data columns\n",
    "df.info()"
   ]
  },
  {
   "cell_type": "markdown",
   "id": "9639d02c",
   "metadata": {
    "papermill": {
     "duration": 0.003735,
     "end_time": "2025-02-18T23:20:40.988754",
     "exception": false,
     "start_time": "2025-02-18T23:20:40.985019",
     "status": "completed"
    },
    "tags": []
   },
   "source": [
    "From this step, it looks as though all fields hold valid values for the entire dataset. While a positive surprise, we should try and look deeper into some specific fields. At this moment, we want to understand if columns such as `notes` hold any insightful data."
   ]
  },
  {
   "cell_type": "markdown",
   "id": "e48d48ec",
   "metadata": {
    "papermill": {
     "duration": 0.0042,
     "end_time": "2025-02-18T23:20:40.996912",
     "exception": false,
     "start_time": "2025-02-18T23:20:40.992712",
     "status": "completed"
    },
    "tags": []
   },
   "source": [
    "## 2.1. Early Exclusion Candidates\n",
    "\n",
    "Here, we are going to attempt to perform an initial filter on fields we might deem irrelevant for the analysis. As we have explored the data much at this point, the selected fields for investigation are based on the sample data we already saw and on the perceived information they hold based on their names.\n",
    "\n",
    "For each field, we might perform different evaluations. What you are going to see here is the result of some behind the curtain analysis."
   ]
  },
  {
   "cell_type": "code",
   "execution_count": 6,
   "id": "a7d4c8cf",
   "metadata": {
    "execution": {
     "iopub.execute_input": "2025-02-18T23:20:41.005303Z",
     "iopub.status.busy": "2025-02-18T23:20:41.005080Z",
     "iopub.status.idle": "2025-02-18T23:20:41.064238Z",
     "shell.execute_reply": "2025-02-18T23:20:41.063611Z"
    },
    "papermill": {
     "duration": 0.064558,
     "end_time": "2025-02-18T23:20:41.065341",
     "exception": false,
     "start_time": "2025-02-18T23:20:41.000783",
     "status": "completed"
    },
    "tags": []
   },
   "outputs": [
    {
     "data": {
      "text/plain": [
       "header_image\n",
       "https://cdn.akamai.steamstatic.com/steam/apps/750920/header.jpg?t=1644931091                          20\n",
       "https://cdn.akamai.steamstatic.com/steam/apps/24010/header.jpg?t=1658409119                            5\n",
       "https://cdn.akamai.steamstatic.com/steam/apps/359550/header.jpg?t=1655223333                           5\n",
       "https://cdn.akamai.steamstatic.com/steam/apps/37960/header.jpg?t=1447352428                            4\n",
       "https://cdn.akamai.steamstatic.com/steam/apps/2195250/header.jpg?t=1701266064                          4\n",
       "                                                                                                      ..\n",
       "https://cdn.akamai.steamstatic.com/steam/apps/29700/header.jpg?t=1598612361                            1\n",
       "https://cdn.akamai.steamstatic.com/steam/apps/804700/header.jpg?t=1647259710                           1\n",
       "https://cdn.akamai.steamstatic.com/steam/apps/365580/header.jpg?t=1447373140                           1\n",
       "https://cdn.akamai.steamstatic.com/steam/apps/1837470/header.jpg?t=1639726708                          1\n",
       "https://shared.akamai.steamstatic.com/store_item_assets/steam/apps/3054200/header.jpg?t=1725032216     1\n",
       "Name: count, Length: 97301, dtype: int64"
      ]
     },
     "execution_count": 6,
     "metadata": {},
     "output_type": "execute_result"
    }
   ],
   "source": [
    "#header_image\n",
    "df.header_image.value_counts()"
   ]
  },
  {
   "cell_type": "code",
   "execution_count": 7,
   "id": "058adb7c",
   "metadata": {
    "execution": {
     "iopub.execute_input": "2025-02-18T23:20:41.074458Z",
     "iopub.status.busy": "2025-02-18T23:20:41.074251Z",
     "iopub.status.idle": "2025-02-18T23:20:41.099969Z",
     "shell.execute_reply": "2025-02-18T23:20:41.099295Z"
    },
    "papermill": {
     "duration": 0.031261,
     "end_time": "2025-02-18T23:20:41.101060",
     "exception": false,
     "start_time": "2025-02-18T23:20:41.069799",
     "status": "completed"
    },
    "tags": []
   },
   "outputs": [
    {
     "data": {
      "text/plain": [
       "website\n",
       "                                                 54673\n",
       "https://www.facebook.com/8FloorGames/              274\n",
       "http://www.exosyphen.com                           204\n",
       "https://www.choiceofgames.com/                     153\n",
       "https://steamcommunity.com/groups/alawargames       92\n",
       "                                                 ...  \n",
       "https://vasonastudios.com/                           1\n",
       "https://www.facebook.com/MistSurvival/               1\n",
       "http://www.xperienciavirtual.es/                     1\n",
       "https://tendaystowar.zerobyter.net/                  1\n",
       "https://www.dreamengineproductions.com/              1\n",
       "Name: count, Length: 34763, dtype: int64"
      ]
     },
     "execution_count": 7,
     "metadata": {},
     "output_type": "execute_result"
    }
   ],
   "source": [
    "#website\n",
    "df.website.value_counts()"
   ]
  },
  {
   "cell_type": "code",
   "execution_count": 8,
   "id": "801c3221",
   "metadata": {
    "execution": {
     "iopub.execute_input": "2025-02-18T23:20:41.110216Z",
     "iopub.status.busy": "2025-02-18T23:20:41.110011Z",
     "iopub.status.idle": "2025-02-18T23:20:41.134210Z",
     "shell.execute_reply": "2025-02-18T23:20:41.133565Z"
    },
    "papermill": {
     "duration": 0.029831,
     "end_time": "2025-02-18T23:20:41.135266",
     "exception": false,
     "start_time": "2025-02-18T23:20:41.105435",
     "status": "completed"
    },
    "tags": []
   },
   "outputs": [
    {
     "data": {
      "text/plain": [
       "support_url\n",
       "                                              51463\n",
       "https://www.facebook.com/8FloorGames            298\n",
       "https://bigfishgames.zendesk.com/hc/en-us/      260\n",
       "https://bigfishgames.custhelp.com/app/home      223\n",
       "https://www.choiceofgames.com/contact-us/       204\n",
       "                                              ...  \n",
       "http://support.immersedgames.com                  1\n",
       "https://discord.gg/QnnUMCM2w3                     1\n",
       "touwaku.com                                       1\n",
       "https://twitter.com/TD12734                       1\n",
       "https://www.dreamengineproductions.com/           1\n",
       "Name: count, Length: 30083, dtype: int64"
      ]
     },
     "execution_count": 8,
     "metadata": {},
     "output_type": "execute_result"
    }
   ],
   "source": [
    "#support_url\n",
    "df.support_url.value_counts()"
   ]
  },
  {
   "cell_type": "code",
   "execution_count": 9,
   "id": "1d68e69b",
   "metadata": {
    "execution": {
     "iopub.execute_input": "2025-02-18T23:20:41.144726Z",
     "iopub.status.busy": "2025-02-18T23:20:41.144498Z",
     "iopub.status.idle": "2025-02-18T23:20:41.181317Z",
     "shell.execute_reply": "2025-02-18T23:20:41.180583Z"
    },
    "papermill": {
     "duration": 0.04237,
     "end_time": "2025-02-18T23:20:41.182304",
     "exception": false,
     "start_time": "2025-02-18T23:20:41.139934",
     "status": "completed"
    },
    "tags": []
   },
   "outputs": [
    {
     "name": "stderr",
     "output_type": "stream",
     "text": [
      "<ipython-input-9-e99ee1aebd4f>:3: SettingWithCopyWarning: \n",
      "A value is trying to be set on a copy of a slice from a DataFrame.\n",
      "Try using .loc[row_indexer,col_indexer] = value instead\n",
      "\n",
      "See the caveats in the documentation: https://pandas.pydata.org/pandas-docs/stable/user_guide/indexing.html#returning-a-view-versus-a-copy\n",
      "  aux[\"has_support\"] = (aux != '').max(axis=1)\n"
     ]
    },
    {
     "data": {
      "text/plain": [
       "has_support\n",
       "True     91586\n",
       "False     5824\n",
       "Name: count, dtype: int64"
      ]
     },
     "execution_count": 9,
     "metadata": {},
     "output_type": "execute_result"
    }
   ],
   "source": [
    "#support_email and support_url\n",
    "aux = df[[\"support_url\", \"support_email\"]]\n",
    "aux[\"has_support\"] = (aux != '').max(axis=1)\n",
    "aux.has_support.value_counts()"
   ]
  },
  {
   "cell_type": "code",
   "execution_count": 10,
   "id": "1e3bbec5",
   "metadata": {
    "execution": {
     "iopub.execute_input": "2025-02-18T23:20:41.192126Z",
     "iopub.status.busy": "2025-02-18T23:20:41.191899Z",
     "iopub.status.idle": "2025-02-18T23:20:41.198753Z",
     "shell.execute_reply": "2025-02-18T23:20:41.198184Z"
    },
    "papermill": {
     "duration": 0.012701,
     "end_time": "2025-02-18T23:20:41.199720",
     "exception": false,
     "start_time": "2025-02-18T23:20:41.187019",
     "status": "completed"
    },
    "tags": []
   },
   "outputs": [
    {
     "data": {
      "text/plain": [
       "achievements\n",
       "0       50189\n",
       "1        1058\n",
       "2         594\n",
       "3         801\n",
       "4        1011\n",
       "        ...  \n",
       "4997        1\n",
       "4999        1\n",
       "5000       59\n",
       "5394        1\n",
       "9821        1\n",
       "Name: count, Length: 434, dtype: int64"
      ]
     },
     "execution_count": 10,
     "metadata": {},
     "output_type": "execute_result"
    }
   ],
   "source": [
    "#achievements\n",
    "df.achievements.value_counts().sort_index()"
   ]
  },
  {
   "cell_type": "code",
   "execution_count": 11,
   "id": "d7f7fb8c",
   "metadata": {
    "execution": {
     "iopub.execute_input": "2025-02-18T23:20:41.209725Z",
     "iopub.status.busy": "2025-02-18T23:20:41.209463Z",
     "iopub.status.idle": "2025-02-18T23:20:41.214626Z",
     "shell.execute_reply": "2025-02-18T23:20:41.214099Z"
    },
    "papermill": {
     "duration": 0.011056,
     "end_time": "2025-02-18T23:20:41.215642",
     "exception": false,
     "start_time": "2025-02-18T23:20:41.204586",
     "status": "completed"
    },
    "tags": []
   },
   "outputs": [
    {
     "data": {
      "text/plain": [
       "recommendations\n",
       "0        83062\n",
       "116         69\n",
       "105         68\n",
       "106         67\n",
       "109         66\n",
       "         ...  \n",
       "9528         1\n",
       "1459         1\n",
       "10535        1\n",
       "3539         1\n",
       "6520         1\n",
       "Name: count, Length: 4094, dtype: int64"
      ]
     },
     "execution_count": 11,
     "metadata": {},
     "output_type": "execute_result"
    }
   ],
   "source": [
    "#recommendations\n",
    "df.recommendations.value_counts()"
   ]
  },
  {
   "cell_type": "code",
   "execution_count": 12,
   "id": "0c467c01",
   "metadata": {
    "execution": {
     "iopub.execute_input": "2025-02-18T23:20:41.225171Z",
     "iopub.status.busy": "2025-02-18T23:20:41.224976Z",
     "iopub.status.idle": "2025-02-18T23:20:41.244371Z",
     "shell.execute_reply": "2025-02-18T23:20:41.243610Z"
    },
    "papermill": {
     "duration": 0.025601,
     "end_time": "2025-02-18T23:20:41.245771",
     "exception": false,
     "start_time": "2025-02-18T23:20:41.220170",
     "status": "completed"
    },
    "tags": []
   },
   "outputs": [
    {
     "data": {
      "text/plain": [
       "notes\n",
       "                                                                                                                                                                                                                           81936\n",
       "This Game may contain content not appropriate for all ages, or may not be appropriate for viewing at work: Frequent Violence or Gore, General Mature Content                                                                 122\n",
       "Nakedness. All characters appearing in this game are over 18 years of age.                                                                                                                                                   115\n",
       "-Nudity or sexual content -Not suitable for watching at work -Not suitable for all ages -All characters in the game are over 18 years old                                                                                     67\n",
       "This Game may contain content not appropriate for all ages, or may not be appropriate for viewing at work: Nudity or Sexual Content, General Mature Content                                                                   41\n",
       "                                                                                                                                                                                                                           ...  \n",
       "This game depicts gratuitous cartoon violence, partial nudity, adult situations, and explicit language some may find offensive. Viewer discretion is advised.                                                                  1\n",
       "Contains cartoon violence/nudity, occasional strong language and adult themes.                                                                                                                                                 1\n",
       "Hentai Block Breaker contains nudity as a main part of the game. No other mature content is included.                                                                                                                          1\n",
       "Excessive pixelated gore, partial pixelated nudity, use of tobacco, and reference to alcohol.                                                                                                                                  1\n",
       "WARNING! This game is for ADULTS only and contains sexually explicit material that some viewers may find offensive. The game contains bondage, BDSM and incest. All characters shown in the game are over 18 years old.        1\n",
       "Name: count, Length: 12718, dtype: int64"
      ]
     },
     "execution_count": 12,
     "metadata": {},
     "output_type": "execute_result"
    }
   ],
   "source": [
    "#notes\n",
    "df.notes.value_counts()"
   ]
  },
  {
   "cell_type": "code",
   "execution_count": 13,
   "id": "778e6513",
   "metadata": {
    "execution": {
     "iopub.execute_input": "2025-02-18T23:20:41.255963Z",
     "iopub.status.busy": "2025-02-18T23:20:41.255771Z",
     "iopub.status.idle": "2025-02-18T23:20:41.261195Z",
     "shell.execute_reply": "2025-02-18T23:20:41.260580Z"
    },
    "papermill": {
     "duration": 0.011366,
     "end_time": "2025-02-18T23:20:41.262152",
     "exception": false,
     "start_time": "2025-02-18T23:20:41.250786",
     "status": "completed"
    },
    "tags": []
   },
   "outputs": [
    {
     "data": {
      "text/plain": [
       "app_id\n",
       "20200      [{'title': 'Buy Galactic Bowling', 'descriptio...\n",
       "655370     [{'title': 'Buy Train Bandit', 'description': ...\n",
       "1732930    [{'title': 'Buy Jolt Project', 'description': ...\n",
       "1355720    [{'title': 'Buy Henosis™', 'description': '', ...\n",
       "1139950                                                   []\n",
       "Name: packages, dtype: object"
      ]
     },
     "execution_count": 13,
     "metadata": {},
     "output_type": "execute_result"
    }
   ],
   "source": [
    "#packages\n",
    "df.packages.head()"
   ]
  },
  {
   "cell_type": "code",
   "execution_count": 14,
   "id": "f133f61e",
   "metadata": {
    "execution": {
     "iopub.execute_input": "2025-02-18T23:20:41.271809Z",
     "iopub.status.busy": "2025-02-18T23:20:41.271602Z",
     "iopub.status.idle": "2025-02-18T23:20:41.275480Z",
     "shell.execute_reply": "2025-02-18T23:20:41.274863Z"
    },
    "papermill": {
     "duration": 0.009689,
     "end_time": "2025-02-18T23:20:41.276441",
     "exception": false,
     "start_time": "2025-02-18T23:20:41.266752",
     "status": "completed"
    },
    "tags": []
   },
   "outputs": [
    {
     "data": {
      "text/plain": [
       "array([list([{'title': 'Buy Galactic Bowling', 'description': '', 'subs': [{'text': 'Galactic Bowling - $19.99', 'description': '', 'price': 19.99}]}]),\n",
       "       list([{'title': 'Buy Train Bandit', 'description': '', 'subs': [{'text': 'Train Bandit - $0.99', 'description': '', 'price': 0.99}]}]),\n",
       "       list([{'title': 'Buy Jolt Project', 'description': '', 'subs': [{'text': 'Jolt Project - $4.99', 'description': '', 'price': 4.99}]}]),\n",
       "       list([{'title': 'Buy Henosis™', 'description': '', 'subs': [{'text': 'Henosis - $5.99', 'description': '', 'price': 5.99}]}]),\n",
       "       list([]), list([]),\n",
       "       list([{'title': 'Buy TD Worlds', 'description': '', 'subs': [{'text': 'TD Worlds - $10.99', 'description': '', 'price': 10.99}]}]),\n",
       "       list([{'title': 'Buy Legend of Rome - The Wrath of Mars', 'description': '', 'subs': [{'text': 'Legend of Rome - The Wrath of Mars - $9.99', 'description': '', 'price': 9.99}]}]),\n",
       "       list([{'title': 'Buy MazM: Jekyll and Hyde', 'description': '', 'subs': [{'text': 'Jekyll & Hyde - $14.99', 'description': '', 'price': 14.99}]}]),\n",
       "       list([{'title': 'Buy Deadlings: Rotten Edition', 'description': '', 'subs': [{'text': 'Deadlings - Rotten Edition - $3.99', 'description': '', 'price': 3.99}]}])],\n",
       "      dtype=object)"
      ]
     },
     "execution_count": 14,
     "metadata": {},
     "output_type": "execute_result"
    }
   ],
   "source": [
    "df.packages.head(10).values"
   ]
  },
  {
   "cell_type": "code",
   "execution_count": 15,
   "id": "fb6be568",
   "metadata": {
    "execution": {
     "iopub.execute_input": "2025-02-18T23:20:41.286508Z",
     "iopub.status.busy": "2025-02-18T23:20:41.286338Z",
     "iopub.status.idle": "2025-02-18T23:20:41.290975Z",
     "shell.execute_reply": "2025-02-18T23:20:41.290428Z"
    },
    "papermill": {
     "duration": 0.010776,
     "end_time": "2025-02-18T23:20:41.291974",
     "exception": false,
     "start_time": "2025-02-18T23:20:41.281198",
     "status": "completed"
    },
    "tags": []
   },
   "outputs": [
    {
     "data": {
      "text/plain": [
       "app_id\n",
       "20200      [https://cdn.akamai.steamstatic.com/steam/apps...\n",
       "655370     [https://cdn.akamai.steamstatic.com/steam/apps...\n",
       "1732930    [https://cdn.akamai.steamstatic.com/steam/apps...\n",
       "1355720    [https://cdn.akamai.steamstatic.com/steam/apps...\n",
       "1139950    [https://cdn.akamai.steamstatic.com/steam/apps...\n",
       "Name: screenshots, dtype: object"
      ]
     },
     "execution_count": 15,
     "metadata": {},
     "output_type": "execute_result"
    }
   ],
   "source": [
    "#screenshots\n",
    "df.screenshots.head()"
   ]
  },
  {
   "cell_type": "code",
   "execution_count": 16,
   "id": "1d33165e",
   "metadata": {
    "execution": {
     "iopub.execute_input": "2025-02-18T23:20:41.301974Z",
     "iopub.status.busy": "2025-02-18T23:20:41.301803Z",
     "iopub.status.idle": "2025-02-18T23:20:41.306379Z",
     "shell.execute_reply": "2025-02-18T23:20:41.305747Z"
    },
    "papermill": {
     "duration": 0.010636,
     "end_time": "2025-02-18T23:20:41.307408",
     "exception": false,
     "start_time": "2025-02-18T23:20:41.296772",
     "status": "completed"
    },
    "tags": []
   },
   "outputs": [
    {
     "data": {
      "text/plain": [
       "app_id\n",
       "20200      [http://cdn.akamai.steamstatic.com/steam/apps/...\n",
       "655370     [http://cdn.akamai.steamstatic.com/steam/apps/...\n",
       "1732930    [http://cdn.akamai.steamstatic.com/steam/apps/...\n",
       "1355720    [http://cdn.akamai.steamstatic.com/steam/apps/...\n",
       "1139950    [http://cdn.akamai.steamstatic.com/steam/apps/...\n",
       "Name: movies, dtype: object"
      ]
     },
     "execution_count": 16,
     "metadata": {},
     "output_type": "execute_result"
    }
   ],
   "source": [
    "#movies\n",
    "df.movies.head()"
   ]
  },
  {
   "cell_type": "markdown",
   "id": "0ec43bc9",
   "metadata": {
    "papermill": {
     "duration": 0.004618,
     "end_time": "2025-02-18T23:20:41.316964",
     "exception": false,
     "start_time": "2025-02-18T23:20:41.312346",
     "status": "completed"
    },
    "tags": []
   },
   "source": [
    "From a quick analysis of the columns above, we came if a few insights:\n",
    "* None of the investigated fields should be removed at this moment. In one way or another, they present some potential for the upcoming analyses;\n",
    "* **Some of the fields could use some transformation**. For instance, the `screenshots` column is not very useful as is. We could, however, count the amount of existing screenshot for a title and use it instead;\n",
    "* The `header_image` distritibution showed some very interesting behaviour. Even though we validated the index coming from the data is unique, we see a **number of instances in which different games have the same header image**. While this is not necessarily an issue, the best course of action is to explore this further to ensure data quality.\n",
    "\n",
    "Let's now take care of the highlighed points, starting with the data quality concerns."
   ]
  },
  {
   "cell_type": "markdown",
   "id": "13e33f4f",
   "metadata": {
    "execution": {
     "iopub.execute_input": "2025-02-18T22:14:00.627551Z",
     "iopub.status.busy": "2025-02-18T22:14:00.626817Z",
     "iopub.status.idle": "2025-02-18T22:14:00.633549Z",
     "shell.execute_reply": "2025-02-18T22:14:00.631621Z",
     "shell.execute_reply.started": "2025-02-18T22:14:00.627513Z"
    },
    "papermill": {
     "duration": 0.004636,
     "end_time": "2025-02-18T23:20:41.326384",
     "exception": false,
     "start_time": "2025-02-18T23:20:41.321748",
     "status": "completed"
    },
    "tags": []
   },
   "source": [
    "## 2.2. Investigate Potential Duplicates"
   ]
  },
  {
   "cell_type": "code",
   "execution_count": 17,
   "id": "48f641d6",
   "metadata": {
    "execution": {
     "iopub.execute_input": "2025-02-18T23:20:41.336499Z",
     "iopub.status.busy": "2025-02-18T23:20:41.336282Z",
     "iopub.status.idle": "2025-02-18T23:20:41.408619Z",
     "shell.execute_reply": "2025-02-18T23:20:41.407857Z"
    },
    "papermill": {
     "duration": 0.078993,
     "end_time": "2025-02-18T23:20:41.410054",
     "exception": false,
     "start_time": "2025-02-18T23:20:41.331061",
     "status": "completed"
    },
    "tags": []
   },
   "outputs": [],
   "source": [
    "#Identify potential duplicates\n",
    "duplicates = df.header_image.value_counts()\n",
    "duplicates = duplicates[duplicates > 1]\n",
    "\n",
    "duplicates_df = df.join(on=\"header_image\", other=duplicates, how=\"inner\").sort_values(by=\"header_image\")"
   ]
  },
  {
   "cell_type": "code",
   "execution_count": 18,
   "id": "4235591e",
   "metadata": {
    "execution": {
     "iopub.execute_input": "2025-02-18T23:20:41.420513Z",
     "iopub.status.busy": "2025-02-18T23:20:41.420315Z",
     "iopub.status.idle": "2025-02-18T23:20:41.454233Z",
     "shell.execute_reply": "2025-02-18T23:20:41.453586Z"
    },
    "papermill": {
     "duration": 0.040027,
     "end_time": "2025-02-18T23:20:41.455238",
     "exception": false,
     "start_time": "2025-02-18T23:20:41.415211",
     "status": "completed"
    },
    "tags": []
   },
   "outputs": [
    {
     "data": {
      "text/html": [
       "<div>\n",
       "<style scoped>\n",
       "    .dataframe tbody tr th:only-of-type {\n",
       "        vertical-align: middle;\n",
       "    }\n",
       "\n",
       "    .dataframe tbody tr th {\n",
       "        vertical-align: top;\n",
       "    }\n",
       "\n",
       "    .dataframe thead th {\n",
       "        text-align: right;\n",
       "    }\n",
       "</style>\n",
       "<table border=\"1\" class=\"dataframe\">\n",
       "  <thead>\n",
       "    <tr style=\"text-align: right;\">\n",
       "      <th></th>\n",
       "      <th>field_name</th>\n",
       "      <th>instances_with_distinct_values</th>\n",
       "    </tr>\n",
       "  </thead>\n",
       "  <tbody>\n",
       "    <tr>\n",
       "      <th>32</th>\n",
       "      <td>positive</td>\n",
       "      <td>67</td>\n",
       "    </tr>\n",
       "    <tr>\n",
       "      <th>33</th>\n",
       "      <td>negative</td>\n",
       "      <td>67</td>\n",
       "    </tr>\n",
       "    <tr>\n",
       "      <th>40</th>\n",
       "      <td>tags</td>\n",
       "      <td>66</td>\n",
       "    </tr>\n",
       "    <tr>\n",
       "      <th>37</th>\n",
       "      <td>median_playtime_forever</td>\n",
       "      <td>66</td>\n",
       "    </tr>\n",
       "    <tr>\n",
       "      <th>35</th>\n",
       "      <td>average_playtime_forever</td>\n",
       "      <td>66</td>\n",
       "    </tr>\n",
       "    <tr>\n",
       "      <th>39</th>\n",
       "      <td>peak_ccu</td>\n",
       "      <td>62</td>\n",
       "    </tr>\n",
       "    <tr>\n",
       "      <th>34</th>\n",
       "      <td>estimated_owners</td>\n",
       "      <td>51</td>\n",
       "    </tr>\n",
       "    <tr>\n",
       "      <th>19</th>\n",
       "      <td>recommendations</td>\n",
       "      <td>30</td>\n",
       "    </tr>\n",
       "    <tr>\n",
       "      <th>38</th>\n",
       "      <td>median_playtime_2weeks</td>\n",
       "      <td>22</td>\n",
       "    </tr>\n",
       "    <tr>\n",
       "      <th>36</th>\n",
       "      <td>average_playtime_2weeks</td>\n",
       "      <td>22</td>\n",
       "    </tr>\n",
       "    <tr>\n",
       "      <th>23</th>\n",
       "      <td>packages</td>\n",
       "      <td>2</td>\n",
       "    </tr>\n",
       "    <tr>\n",
       "      <th>3</th>\n",
       "      <td>price</td>\n",
       "      <td>2</td>\n",
       "    </tr>\n",
       "    <tr>\n",
       "      <th>22</th>\n",
       "      <td>full_audio_languages</td>\n",
       "      <td>0</td>\n",
       "    </tr>\n",
       "    <tr>\n",
       "      <th>31</th>\n",
       "      <td>score_rank</td>\n",
       "      <td>0</td>\n",
       "    </tr>\n",
       "    <tr>\n",
       "      <th>30</th>\n",
       "      <td>user_score</td>\n",
       "      <td>0</td>\n",
       "    </tr>\n",
       "    <tr>\n",
       "      <th>29</th>\n",
       "      <td>movies</td>\n",
       "      <td>0</td>\n",
       "    </tr>\n",
       "    <tr>\n",
       "      <th>28</th>\n",
       "      <td>screenshots</td>\n",
       "      <td>0</td>\n",
       "    </tr>\n",
       "    <tr>\n",
       "      <th>27</th>\n",
       "      <td>genres</td>\n",
       "      <td>0</td>\n",
       "    </tr>\n",
       "    <tr>\n",
       "      <th>26</th>\n",
       "      <td>categories</td>\n",
       "      <td>0</td>\n",
       "    </tr>\n",
       "    <tr>\n",
       "      <th>25</th>\n",
       "      <td>publishers</td>\n",
       "      <td>0</td>\n",
       "    </tr>\n",
       "    <tr>\n",
       "      <th>24</th>\n",
       "      <td>developers</td>\n",
       "      <td>0</td>\n",
       "    </tr>\n",
       "    <tr>\n",
       "      <th>0</th>\n",
       "      <td>name</td>\n",
       "      <td>0</td>\n",
       "    </tr>\n",
       "    <tr>\n",
       "      <th>21</th>\n",
       "      <td>supported_languages</td>\n",
       "      <td>0</td>\n",
       "    </tr>\n",
       "    <tr>\n",
       "      <th>1</th>\n",
       "      <td>release_date</td>\n",
       "      <td>0</td>\n",
       "    </tr>\n",
       "    <tr>\n",
       "      <th>10</th>\n",
       "      <td>website</td>\n",
       "      <td>0</td>\n",
       "    </tr>\n",
       "    <tr>\n",
       "      <th>2</th>\n",
       "      <td>required_age</td>\n",
       "      <td>0</td>\n",
       "    </tr>\n",
       "    <tr>\n",
       "      <th>4</th>\n",
       "      <td>dlc_count</td>\n",
       "      <td>0</td>\n",
       "    </tr>\n",
       "    <tr>\n",
       "      <th>5</th>\n",
       "      <td>detailed_description</td>\n",
       "      <td>0</td>\n",
       "    </tr>\n",
       "    <tr>\n",
       "      <th>6</th>\n",
       "      <td>about_the_game</td>\n",
       "      <td>0</td>\n",
       "    </tr>\n",
       "    <tr>\n",
       "      <th>7</th>\n",
       "      <td>short_description</td>\n",
       "      <td>0</td>\n",
       "    </tr>\n",
       "    <tr>\n",
       "      <th>8</th>\n",
       "      <td>reviews</td>\n",
       "      <td>0</td>\n",
       "    </tr>\n",
       "    <tr>\n",
       "      <th>9</th>\n",
       "      <td>header_image</td>\n",
       "      <td>0</td>\n",
       "    </tr>\n",
       "    <tr>\n",
       "      <th>11</th>\n",
       "      <td>support_url</td>\n",
       "      <td>0</td>\n",
       "    </tr>\n",
       "    <tr>\n",
       "      <th>20</th>\n",
       "      <td>notes</td>\n",
       "      <td>0</td>\n",
       "    </tr>\n",
       "    <tr>\n",
       "      <th>12</th>\n",
       "      <td>support_email</td>\n",
       "      <td>0</td>\n",
       "    </tr>\n",
       "    <tr>\n",
       "      <th>13</th>\n",
       "      <td>windows</td>\n",
       "      <td>0</td>\n",
       "    </tr>\n",
       "    <tr>\n",
       "      <th>14</th>\n",
       "      <td>mac</td>\n",
       "      <td>0</td>\n",
       "    </tr>\n",
       "    <tr>\n",
       "      <th>15</th>\n",
       "      <td>linux</td>\n",
       "      <td>0</td>\n",
       "    </tr>\n",
       "    <tr>\n",
       "      <th>16</th>\n",
       "      <td>metacritic_score</td>\n",
       "      <td>0</td>\n",
       "    </tr>\n",
       "    <tr>\n",
       "      <th>17</th>\n",
       "      <td>metacritic_url</td>\n",
       "      <td>0</td>\n",
       "    </tr>\n",
       "    <tr>\n",
       "      <th>18</th>\n",
       "      <td>achievements</td>\n",
       "      <td>0</td>\n",
       "    </tr>\n",
       "    <tr>\n",
       "      <th>41</th>\n",
       "      <td>count</td>\n",
       "      <td>0</td>\n",
       "    </tr>\n",
       "  </tbody>\n",
       "</table>\n",
       "</div>"
      ],
      "text/plain": [
       "                  field_name  instances_with_distinct_values\n",
       "32                  positive                              67\n",
       "33                  negative                              67\n",
       "40                      tags                              66\n",
       "37   median_playtime_forever                              66\n",
       "35  average_playtime_forever                              66\n",
       "39                  peak_ccu                              62\n",
       "34          estimated_owners                              51\n",
       "19           recommendations                              30\n",
       "38    median_playtime_2weeks                              22\n",
       "36   average_playtime_2weeks                              22\n",
       "23                  packages                               2\n",
       "3                      price                               2\n",
       "22      full_audio_languages                               0\n",
       "31                score_rank                               0\n",
       "30                user_score                               0\n",
       "29                    movies                               0\n",
       "28               screenshots                               0\n",
       "27                    genres                               0\n",
       "26                categories                               0\n",
       "25                publishers                               0\n",
       "24                developers                               0\n",
       "0                       name                               0\n",
       "21       supported_languages                               0\n",
       "1               release_date                               0\n",
       "10                   website                               0\n",
       "2               required_age                               0\n",
       "4                  dlc_count                               0\n",
       "5       detailed_description                               0\n",
       "6             about_the_game                               0\n",
       "7          short_description                               0\n",
       "8                    reviews                               0\n",
       "9               header_image                               0\n",
       "11               support_url                               0\n",
       "20                     notes                               0\n",
       "12             support_email                               0\n",
       "13                   windows                               0\n",
       "14                       mac                               0\n",
       "15                     linux                               0\n",
       "16          metacritic_score                               0\n",
       "17            metacritic_url                               0\n",
       "18              achievements                               0\n",
       "41                     count                               0"
      ]
     },
     "execution_count": 18,
     "metadata": {},
     "output_type": "execute_result"
    }
   ],
   "source": [
    "#Validate which field are equal and which are not across potential duplicates\n",
    "for col in duplicates_df.columns:\n",
    "    duplicates_df[col] = [str(val) for val in duplicates_df[col]]\n",
    "\n",
    "duplicates_agg = duplicates_df.groupby(by=\"header_image\").agg(\n",
    "    {col: \"nunique\" for col in duplicates_df.columns}\n",
    ")\n",
    "\n",
    "duplicate_fields = []\n",
    "for col in duplicates_agg.columns:\n",
    "    duplicate_fields.append([col, sum(duplicates_agg[col] > 1)])\n",
    "\n",
    "duplicate_fields = pd.DataFrame(duplicate_fields, columns=[\"field_name\", \"instances_with_distinct_values\"])\n",
    "duplicate_fields.sort_values(by=\"instances_with_distinct_values\", ascending=False)"
   ]
  },
  {
   "cell_type": "markdown",
   "id": "45796978",
   "metadata": {
    "papermill": {
     "duration": 0.004918,
     "end_time": "2025-02-18T23:20:41.465484",
     "exception": false,
     "start_time": "2025-02-18T23:20:41.460566",
     "status": "completed"
    },
    "tags": []
   },
   "source": [
    "From the analysis above, we can draw a few conclusions:\n",
    "* The major part of fields hold the exact same value across records with the same `header_image`;\n",
    "* Some of these fields with no change are `name`, `screenshots`, `movies` and `detailed_description`. It's really hard to imagine completely distinct titles would share the same values for all those fields at the same time;\n",
    "* Finally, we do have a smaller amount of fields for which is more common to have discrepant values. Some of them are `tags` and `medium_playtime_forever`.\n",
    "\n",
    "While this analysis does point to these being duplicate records. We don't feel confident enough to act on it at this point. Another reason for this is we have no means of identifying the \"correct\" record, the one that should be kept. As some fields to present different values for the same potential duplicate instance, this choice could have repercussions later on.\n",
    "\n",
    "What we did then was to actually visit the Steam pages for some of those games. Even though we don't have the actual URLs in the data, game pages are all structured like `https://store.steampowered.com/app/{app_id}`. As we do have the app ID as the dataset index, we have the opportunity to test a few of those cases. On the tested examples, we were able to see links for different `app_ids` were redirected to the same page. This is yet another strong indication these are indeed duplicate records.\n",
    "\n",
    "Unfortunately, this does not addresses the issue of selecting the \"right\" row for each case. To do so, we are going to compare the provided app IDs in the data with the identifier found in the URL after being redirected."
   ]
  },
  {
   "cell_type": "code",
   "execution_count": 19,
   "id": "a2a03e5f",
   "metadata": {
    "execution": {
     "iopub.execute_input": "2025-02-18T23:20:41.476250Z",
     "iopub.status.busy": "2025-02-18T23:20:41.475998Z",
     "iopub.status.idle": "2025-02-18T23:22:22.338156Z",
     "shell.execute_reply": "2025-02-18T23:22:22.337598Z"
    },
    "papermill": {
     "duration": 100.869,
     "end_time": "2025-02-18T23:22:22.339392",
     "exception": false,
     "start_time": "2025-02-18T23:20:41.470392",
     "status": "completed"
    },
    "tags": []
   },
   "outputs": [],
   "source": [
    "#Identify the \"main\" app_id for duplicate cases\n",
    "duplicates_df[\"redirect_url_app_id\"] = [\n",
    "    requests.get(url=f\"https://store.steampowered.com/app/{app_id}\", allow_redirects=True).url \n",
    "    for app_id in duplicates_df.index\n",
    "]\n",
    "\n",
    "duplicates_df[\"redirect_url_app_id\"] = [\n",
    "    int(url.replace(\"https://store.steampowered.com/app/\", \"\").replace(\"/\", \"\")) for url in duplicates_df[\"redirect_url_app_id\"]\n",
    "]"
   ]
  },
  {
   "cell_type": "code",
   "execution_count": 20,
   "id": "cbd1c3d0",
   "metadata": {
    "execution": {
     "iopub.execute_input": "2025-02-18T23:22:22.350832Z",
     "iopub.status.busy": "2025-02-18T23:22:22.350588Z",
     "iopub.status.idle": "2025-02-18T23:22:22.366737Z",
     "shell.execute_reply": "2025-02-18T23:22:22.366142Z"
    },
    "papermill": {
     "duration": 0.022769,
     "end_time": "2025-02-18T23:22:22.367676",
     "exception": false,
     "start_time": "2025-02-18T23:22:22.344907",
     "status": "completed"
    },
    "tags": []
   },
   "outputs": [
    {
     "data": {
      "text/plain": [
       "has_match  matches_count\n",
       "True       1                71\n",
       "Name: count, dtype: int64"
      ]
     },
     "execution_count": 20,
     "metadata": {},
     "output_type": "execute_result"
    }
   ],
   "source": [
    "#Check matches between app_id and redirected_url_app_id\n",
    "duplicates_df[\"is_match\"] = duplicates_df.index == duplicates_df[\"redirect_url_app_id\"]\n",
    "\n",
    "duplicates_validation = duplicates_df.groupby(by=\"header_image\").agg({\n",
    "    \"is_match\": [\"max\", \"sum\"]\n",
    "})\n",
    "duplicates_validation.columns = [\"has_match\", \"matches_count\"]\n",
    "\n",
    "duplicates_validation.value_counts()"
   ]
  },
  {
   "cell_type": "markdown",
   "id": "d928cb33",
   "metadata": {
    "execution": {
     "iopub.execute_input": "2025-02-18T22:53:40.354561Z",
     "iopub.status.busy": "2025-02-18T22:53:40.354144Z",
     "iopub.status.idle": "2025-02-18T22:53:40.360829Z",
     "shell.execute_reply": "2025-02-18T22:53:40.359670Z",
     "shell.execute_reply.started": "2025-02-18T22:53:40.354530Z"
    },
    "papermill": {
     "duration": 0.004886,
     "end_time": "2025-02-18T23:22:22.377767",
     "exception": false,
     "start_time": "2025-02-18T23:22:22.372881",
     "status": "completed"
    },
    "tags": []
   },
   "source": [
    "The results above show all 71 duplicate cases have only a single match between the app ID and the identifier coming from the redirected URL. It also shows there is only one match for each case. From these results, we can conclude this approach is valid for deduplicating records."
   ]
  }
 ],
 "metadata": {
  "kaggle": {
   "accelerator": "none",
   "dataSources": [
    {
     "datasetId": 2109585,
     "sourceId": 9310676,
     "sourceType": "datasetVersion"
    }
   ],
   "dockerImageVersionId": 30886,
   "isGpuEnabled": false,
   "isInternetEnabled": true,
   "language": "python",
   "sourceType": "notebook"
  },
  "kernelspec": {
   "display_name": "Python 3",
   "language": "python",
   "name": "python3"
  },
  "language_info": {
   "codemirror_mode": {
    "name": "ipython",
    "version": 3
   },
   "file_extension": ".py",
   "mimetype": "text/x-python",
   "name": "python",
   "nbconvert_exporter": "python",
   "pygments_lexer": "ipython3",
   "version": "3.10.12"
  },
  "papermill": {
   "default_parameters": {},
   "duration": 121.208938,
   "end_time": "2025-02-18T23:22:23.902343",
   "environment_variables": {},
   "exception": null,
   "input_path": "__notebook__.ipynb",
   "output_path": "__notebook__.ipynb",
   "parameters": {},
   "start_time": "2025-02-18T23:20:22.693405",
   "version": "2.6.0"
  }
 },
 "nbformat": 4,
 "nbformat_minor": 5
}
