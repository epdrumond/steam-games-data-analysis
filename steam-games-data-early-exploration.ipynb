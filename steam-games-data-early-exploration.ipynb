{
 "cells": [
  {
   "cell_type": "markdown",
   "id": "e170db05",
   "metadata": {
    "papermill": {
     "duration": 0.008843,
     "end_time": "2025-02-23T09:49:59.046944",
     "exception": false,
     "start_time": "2025-02-23T09:49:59.038101",
     "status": "completed"
    },
    "tags": []
   },
   "source": [
    "# 1. Initial Setup\n",
    "\n",
    "In this first section, we'll simply do some of the initial stuff before actually getting to work with data. This will include package imports, loading the datasets and, if the need arises, other configurations."
   ]
  },
  {
   "cell_type": "code",
   "execution_count": 1,
   "id": "307183c0",
   "metadata": {
    "_cell_guid": "b1076dfc-b9ad-4769-8c92-a6c4dae69d19",
    "_uuid": "8f2839f25d086af736a60e9eeb907d3b93b6e0e5",
    "execution": {
     "iopub.execute_input": "2025-02-23T09:49:59.063120Z",
     "iopub.status.busy": "2025-02-23T09:49:59.062840Z",
     "iopub.status.idle": "2025-02-23T09:50:00.857727Z",
     "shell.execute_reply": "2025-02-23T09:50:00.856475Z"
    },
    "papermill": {
     "duration": 1.805167,
     "end_time": "2025-02-23T09:50:00.859814",
     "exception": false,
     "start_time": "2025-02-23T09:49:59.054647",
     "status": "completed"
    },
    "tags": []
   },
   "outputs": [],
   "source": [
    "#Import packages\n",
    "import pandas as pd\n",
    "import numpy as np\n",
    "from datetime import datetime\n",
    "\n",
    "import requests\n",
    "from bs4 import BeautifulSoup"
   ]
  },
  {
   "cell_type": "code",
   "execution_count": 2,
   "id": "ebe08c77",
   "metadata": {
    "execution": {
     "iopub.execute_input": "2025-02-23T09:50:00.877775Z",
     "iopub.status.busy": "2025-02-23T09:50:00.877199Z",
     "iopub.status.idle": "2025-02-23T09:50:18.495158Z",
     "shell.execute_reply": "2025-02-23T09:50:18.494104Z"
    },
    "papermill": {
     "duration": 17.629063,
     "end_time": "2025-02-23T09:50:18.497082",
     "exception": false,
     "start_time": "2025-02-23T09:50:00.868019",
     "status": "completed"
    },
    "tags": []
   },
   "outputs": [],
   "source": [
    "#Load data\n",
    "INPUT_PATH = \"/kaggle/input/steam-games-dataset/\"\n",
    "df = pd.read_json(INPUT_PATH + \"games.json\", orient=\"index\")\n",
    "df.index.rename(\"app_id\", inplace=True)"
   ]
  },
  {
   "cell_type": "markdown",
   "id": "4b2e20f5",
   "metadata": {
    "papermill": {
     "duration": 0.007469,
     "end_time": "2025-02-23T09:50:18.512758",
     "exception": false,
     "start_time": "2025-02-23T09:50:18.505289",
     "status": "completed"
    },
    "tags": []
   },
   "source": [
    "# 2. Early Exploration\n",
    "\n",
    "We now start actually looking into the data. The goal here is to have a sense of what we are working with. The main outcomes from this step are getting more familiar with the dataset and also possibly excluding data that clearly will not be used in the following analyses."
   ]
  },
  {
   "cell_type": "code",
   "execution_count": 3,
   "id": "2b2cf110",
   "metadata": {
    "execution": {
     "iopub.execute_input": "2025-02-23T09:50:18.530663Z",
     "iopub.status.busy": "2025-02-23T09:50:18.530270Z",
     "iopub.status.idle": "2025-02-23T09:50:18.578794Z",
     "shell.execute_reply": "2025-02-23T09:50:18.577484Z"
    },
    "papermill": {
     "duration": 0.059754,
     "end_time": "2025-02-23T09:50:18.580203",
     "exception": false,
     "start_time": "2025-02-23T09:50:18.520449",
     "status": "completed"
    },
    "tags": []
   },
   "outputs": [
    {
     "data": {
      "text/html": [
       "<div>\n",
       "<style scoped>\n",
       "    .dataframe tbody tr th:only-of-type {\n",
       "        vertical-align: middle;\n",
       "    }\n",
       "\n",
       "    .dataframe tbody tr th {\n",
       "        vertical-align: top;\n",
       "    }\n",
       "\n",
       "    .dataframe thead th {\n",
       "        text-align: right;\n",
       "    }\n",
       "</style>\n",
       "<table border=\"1\" class=\"dataframe\">\n",
       "  <thead>\n",
       "    <tr style=\"text-align: right;\">\n",
       "      <th></th>\n",
       "      <th>name</th>\n",
       "      <th>release_date</th>\n",
       "      <th>required_age</th>\n",
       "      <th>price</th>\n",
       "      <th>dlc_count</th>\n",
       "      <th>detailed_description</th>\n",
       "      <th>about_the_game</th>\n",
       "      <th>short_description</th>\n",
       "      <th>reviews</th>\n",
       "      <th>header_image</th>\n",
       "      <th>...</th>\n",
       "      <th>score_rank</th>\n",
       "      <th>positive</th>\n",
       "      <th>negative</th>\n",
       "      <th>estimated_owners</th>\n",
       "      <th>average_playtime_forever</th>\n",
       "      <th>average_playtime_2weeks</th>\n",
       "      <th>median_playtime_forever</th>\n",
       "      <th>median_playtime_2weeks</th>\n",
       "      <th>peak_ccu</th>\n",
       "      <th>tags</th>\n",
       "    </tr>\n",
       "    <tr>\n",
       "      <th>app_id</th>\n",
       "      <th></th>\n",
       "      <th></th>\n",
       "      <th></th>\n",
       "      <th></th>\n",
       "      <th></th>\n",
       "      <th></th>\n",
       "      <th></th>\n",
       "      <th></th>\n",
       "      <th></th>\n",
       "      <th></th>\n",
       "      <th></th>\n",
       "      <th></th>\n",
       "      <th></th>\n",
       "      <th></th>\n",
       "      <th></th>\n",
       "      <th></th>\n",
       "      <th></th>\n",
       "      <th></th>\n",
       "      <th></th>\n",
       "      <th></th>\n",
       "      <th></th>\n",
       "    </tr>\n",
       "  </thead>\n",
       "  <tbody>\n",
       "    <tr>\n",
       "      <th>20200</th>\n",
       "      <td>Galactic Bowling</td>\n",
       "      <td>Oct 21, 2008</td>\n",
       "      <td>0</td>\n",
       "      <td>19.99</td>\n",
       "      <td>0</td>\n",
       "      <td>Galactic Bowling is an exaggerated and stylize...</td>\n",
       "      <td>Galactic Bowling is an exaggerated and stylize...</td>\n",
       "      <td>Galactic Bowling is an exaggerated and stylize...</td>\n",
       "      <td></td>\n",
       "      <td>https://cdn.akamai.steamstatic.com/steam/apps/...</td>\n",
       "      <td>...</td>\n",
       "      <td></td>\n",
       "      <td>6</td>\n",
       "      <td>11</td>\n",
       "      <td>0 - 20000</td>\n",
       "      <td>0</td>\n",
       "      <td>0</td>\n",
       "      <td>0</td>\n",
       "      <td>0</td>\n",
       "      <td>0</td>\n",
       "      <td>{'Indie': 22, 'Casual': 21, 'Sports': 21, 'Bow...</td>\n",
       "    </tr>\n",
       "    <tr>\n",
       "      <th>655370</th>\n",
       "      <td>Train Bandit</td>\n",
       "      <td>Oct 12, 2017</td>\n",
       "      <td>0</td>\n",
       "      <td>0.99</td>\n",
       "      <td>0</td>\n",
       "      <td>THE LAW!! Looks to be a showdown atop a train....</td>\n",
       "      <td>THE LAW!! Looks to be a showdown atop a train....</td>\n",
       "      <td>THE LAW!! Looks to be a showdown atop a train....</td>\n",
       "      <td></td>\n",
       "      <td>https://cdn.akamai.steamstatic.com/steam/apps/...</td>\n",
       "      <td>...</td>\n",
       "      <td></td>\n",
       "      <td>53</td>\n",
       "      <td>5</td>\n",
       "      <td>0 - 20000</td>\n",
       "      <td>0</td>\n",
       "      <td>0</td>\n",
       "      <td>0</td>\n",
       "      <td>0</td>\n",
       "      <td>0</td>\n",
       "      <td>{'Indie': 109, 'Action': 103, 'Pixel Graphics'...</td>\n",
       "    </tr>\n",
       "    <tr>\n",
       "      <th>1732930</th>\n",
       "      <td>Jolt Project</td>\n",
       "      <td>Nov 17, 2021</td>\n",
       "      <td>0</td>\n",
       "      <td>4.99</td>\n",
       "      <td>0</td>\n",
       "      <td>Jolt Project: The army now has a new robotics ...</td>\n",
       "      <td>Jolt Project: The army now has a new robotics ...</td>\n",
       "      <td>Shoot vehicles, blow enemies with a special at...</td>\n",
       "      <td></td>\n",
       "      <td>https://cdn.akamai.steamstatic.com/steam/apps/...</td>\n",
       "      <td>...</td>\n",
       "      <td></td>\n",
       "      <td>0</td>\n",
       "      <td>0</td>\n",
       "      <td>0 - 20000</td>\n",
       "      <td>0</td>\n",
       "      <td>0</td>\n",
       "      <td>0</td>\n",
       "      <td>0</td>\n",
       "      <td>0</td>\n",
       "      <td>[]</td>\n",
       "    </tr>\n",
       "    <tr>\n",
       "      <th>1355720</th>\n",
       "      <td>Henosis™</td>\n",
       "      <td>Jul 23, 2020</td>\n",
       "      <td>0</td>\n",
       "      <td>5.99</td>\n",
       "      <td>0</td>\n",
       "      <td>HENOSIS™ is a mysterious 2D Platform Puzzler w...</td>\n",
       "      <td>HENOSIS™ is a mysterious 2D Platform Puzzler w...</td>\n",
       "      <td>HENOSIS™ is a mysterious 2D Platform Puzzler w...</td>\n",
       "      <td></td>\n",
       "      <td>https://cdn.akamai.steamstatic.com/steam/apps/...</td>\n",
       "      <td>...</td>\n",
       "      <td></td>\n",
       "      <td>3</td>\n",
       "      <td>0</td>\n",
       "      <td>0 - 20000</td>\n",
       "      <td>0</td>\n",
       "      <td>0</td>\n",
       "      <td>0</td>\n",
       "      <td>0</td>\n",
       "      <td>0</td>\n",
       "      <td>{'2D Platformer': 161, 'Atmospheric': 154, 'Su...</td>\n",
       "    </tr>\n",
       "    <tr>\n",
       "      <th>1139950</th>\n",
       "      <td>Two Weeks in Painland</td>\n",
       "      <td>Feb 3, 2020</td>\n",
       "      <td>0</td>\n",
       "      <td>0.00</td>\n",
       "      <td>0</td>\n",
       "      <td>ABOUT THE GAME Play as a hacker who has arrang...</td>\n",
       "      <td>ABOUT THE GAME Play as a hacker who has arrang...</td>\n",
       "      <td>Two Weeks in Painland is a story-driven game a...</td>\n",
       "      <td></td>\n",
       "      <td>https://cdn.akamai.steamstatic.com/steam/apps/...</td>\n",
       "      <td>...</td>\n",
       "      <td></td>\n",
       "      <td>50</td>\n",
       "      <td>8</td>\n",
       "      <td>0 - 20000</td>\n",
       "      <td>0</td>\n",
       "      <td>0</td>\n",
       "      <td>0</td>\n",
       "      <td>0</td>\n",
       "      <td>0</td>\n",
       "      <td>{'Indie': 42, 'Adventure': 41, 'Nudity': 22, '...</td>\n",
       "    </tr>\n",
       "  </tbody>\n",
       "</table>\n",
       "<p>5 rows × 41 columns</p>\n",
       "</div>"
      ],
      "text/plain": [
       "                          name  release_date  required_age  price  dlc_count  \\\n",
       "app_id                                                                         \n",
       "20200         Galactic Bowling  Oct 21, 2008             0  19.99          0   \n",
       "655370            Train Bandit  Oct 12, 2017             0   0.99          0   \n",
       "1732930           Jolt Project  Nov 17, 2021             0   4.99          0   \n",
       "1355720               Henosis™  Jul 23, 2020             0   5.99          0   \n",
       "1139950  Two Weeks in Painland   Feb 3, 2020             0   0.00          0   \n",
       "\n",
       "                                      detailed_description  \\\n",
       "app_id                                                       \n",
       "20200    Galactic Bowling is an exaggerated and stylize...   \n",
       "655370   THE LAW!! Looks to be a showdown atop a train....   \n",
       "1732930  Jolt Project: The army now has a new robotics ...   \n",
       "1355720  HENOSIS™ is a mysterious 2D Platform Puzzler w...   \n",
       "1139950  ABOUT THE GAME Play as a hacker who has arrang...   \n",
       "\n",
       "                                            about_the_game  \\\n",
       "app_id                                                       \n",
       "20200    Galactic Bowling is an exaggerated and stylize...   \n",
       "655370   THE LAW!! Looks to be a showdown atop a train....   \n",
       "1732930  Jolt Project: The army now has a new robotics ...   \n",
       "1355720  HENOSIS™ is a mysterious 2D Platform Puzzler w...   \n",
       "1139950  ABOUT THE GAME Play as a hacker who has arrang...   \n",
       "\n",
       "                                         short_description reviews  \\\n",
       "app_id                                                               \n",
       "20200    Galactic Bowling is an exaggerated and stylize...           \n",
       "655370   THE LAW!! Looks to be a showdown atop a train....           \n",
       "1732930  Shoot vehicles, blow enemies with a special at...           \n",
       "1355720  HENOSIS™ is a mysterious 2D Platform Puzzler w...           \n",
       "1139950  Two Weeks in Painland is a story-driven game a...           \n",
       "\n",
       "                                              header_image  ... score_rank  \\\n",
       "app_id                                                      ...              \n",
       "20200    https://cdn.akamai.steamstatic.com/steam/apps/...  ...              \n",
       "655370   https://cdn.akamai.steamstatic.com/steam/apps/...  ...              \n",
       "1732930  https://cdn.akamai.steamstatic.com/steam/apps/...  ...              \n",
       "1355720  https://cdn.akamai.steamstatic.com/steam/apps/...  ...              \n",
       "1139950  https://cdn.akamai.steamstatic.com/steam/apps/...  ...              \n",
       "\n",
       "        positive negative  estimated_owners  average_playtime_forever  \\\n",
       "app_id                                                                  \n",
       "20200          6       11         0 - 20000                         0   \n",
       "655370        53        5         0 - 20000                         0   \n",
       "1732930        0        0         0 - 20000                         0   \n",
       "1355720        3        0         0 - 20000                         0   \n",
       "1139950       50        8         0 - 20000                         0   \n",
       "\n",
       "         average_playtime_2weeks  median_playtime_forever  \\\n",
       "app_id                                                      \n",
       "20200                          0                        0   \n",
       "655370                         0                        0   \n",
       "1732930                        0                        0   \n",
       "1355720                        0                        0   \n",
       "1139950                        0                        0   \n",
       "\n",
       "        median_playtime_2weeks  peak_ccu  \\\n",
       "app_id                                     \n",
       "20200                        0         0   \n",
       "655370                       0         0   \n",
       "1732930                      0         0   \n",
       "1355720                      0         0   \n",
       "1139950                      0         0   \n",
       "\n",
       "                                                      tags  \n",
       "app_id                                                      \n",
       "20200    {'Indie': 22, 'Casual': 21, 'Sports': 21, 'Bow...  \n",
       "655370   {'Indie': 109, 'Action': 103, 'Pixel Graphics'...  \n",
       "1732930                                                 []  \n",
       "1355720  {'2D Platformer': 161, 'Atmospheric': 154, 'Su...  \n",
       "1139950  {'Indie': 42, 'Adventure': 41, 'Nudity': 22, '...  \n",
       "\n",
       "[5 rows x 41 columns]"
      ]
     },
     "execution_count": 3,
     "metadata": {},
     "output_type": "execute_result"
    }
   ],
   "source": [
    "#Get a sense of what the data looks like\n",
    "df.head()"
   ]
  },
  {
   "cell_type": "code",
   "execution_count": 4,
   "id": "ea763cc9",
   "metadata": {
    "execution": {
     "iopub.execute_input": "2025-02-23T09:50:18.597681Z",
     "iopub.status.busy": "2025-02-23T09:50:18.597269Z",
     "iopub.status.idle": "2025-02-23T09:50:18.621839Z",
     "shell.execute_reply": "2025-02-23T09:50:18.620476Z"
    },
    "papermill": {
     "duration": 0.03489,
     "end_time": "2025-02-23T09:50:18.623304",
     "exception": false,
     "start_time": "2025-02-23T09:50:18.588414",
     "status": "completed"
    },
    "tags": []
   },
   "outputs": [
    {
     "data": {
      "text/plain": [
       "app_id\n",
       "20200      1\n",
       "2016110    1\n",
       "2193610    1\n",
       "1997040    1\n",
       "1965920    1\n",
       "          ..\n",
       "380        1\n",
       "1475740    1\n",
       "1021680    1\n",
       "816250     1\n",
       "3054200    1\n",
       "Name: count, Length: 97410, dtype: int64"
      ]
     },
     "execution_count": 4,
     "metadata": {},
     "output_type": "execute_result"
    }
   ],
   "source": [
    "#Ensure the index (app_id) is the unique key\n",
    "df.index.value_counts()"
   ]
  },
  {
   "cell_type": "code",
   "execution_count": 5,
   "id": "290d2353",
   "metadata": {
    "execution": {
     "iopub.execute_input": "2025-02-23T09:50:18.640797Z",
     "iopub.status.busy": "2025-02-23T09:50:18.640388Z",
     "iopub.status.idle": "2025-02-23T09:50:18.980216Z",
     "shell.execute_reply": "2025-02-23T09:50:18.979320Z"
    },
    "papermill": {
     "duration": 0.350081,
     "end_time": "2025-02-23T09:50:18.981639",
     "exception": false,
     "start_time": "2025-02-23T09:50:18.631558",
     "status": "completed"
    },
    "tags": []
   },
   "outputs": [
    {
     "name": "stdout",
     "output_type": "stream",
     "text": [
      "<class 'pandas.core.frame.DataFrame'>\n",
      "Index: 97410 entries, 20200 to 3054200\n",
      "Data columns (total 41 columns):\n",
      " #   Column                    Non-Null Count  Dtype  \n",
      "---  ------                    --------------  -----  \n",
      " 0   name                      97410 non-null  object \n",
      " 1   release_date              97410 non-null  object \n",
      " 2   required_age              97410 non-null  int64  \n",
      " 3   price                     97410 non-null  float64\n",
      " 4   dlc_count                 97410 non-null  int64  \n",
      " 5   detailed_description      97410 non-null  object \n",
      " 6   about_the_game            97410 non-null  object \n",
      " 7   short_description         97410 non-null  object \n",
      " 8   reviews                   97410 non-null  object \n",
      " 9   header_image              97410 non-null  object \n",
      " 10  website                   97410 non-null  object \n",
      " 11  support_url               97410 non-null  object \n",
      " 12  support_email             97410 non-null  object \n",
      " 13  windows                   97410 non-null  bool   \n",
      " 14  mac                       97410 non-null  bool   \n",
      " 15  linux                     97410 non-null  bool   \n",
      " 16  metacritic_score          97410 non-null  int64  \n",
      " 17  metacritic_url            97410 non-null  object \n",
      " 18  achievements              97410 non-null  int64  \n",
      " 19  recommendations           97410 non-null  int64  \n",
      " 20  notes                     97410 non-null  object \n",
      " 21  supported_languages       97410 non-null  object \n",
      " 22  full_audio_languages      97410 non-null  object \n",
      " 23  packages                  97410 non-null  object \n",
      " 24  developers                97410 non-null  object \n",
      " 25  publishers                97410 non-null  object \n",
      " 26  categories                97410 non-null  object \n",
      " 27  genres                    97410 non-null  object \n",
      " 28  screenshots               97410 non-null  object \n",
      " 29  movies                    97410 non-null  object \n",
      " 30  user_score                97410 non-null  int64  \n",
      " 31  score_rank                97410 non-null  object \n",
      " 32  positive                  97410 non-null  int64  \n",
      " 33  negative                  97410 non-null  int64  \n",
      " 34  estimated_owners          97410 non-null  object \n",
      " 35  average_playtime_forever  97410 non-null  int64  \n",
      " 36  average_playtime_2weeks   97410 non-null  int64  \n",
      " 37  median_playtime_forever   97410 non-null  int64  \n",
      " 38  median_playtime_2weeks    97410 non-null  int64  \n",
      " 39  peak_ccu                  97410 non-null  int64  \n",
      " 40  tags                      97410 non-null  object \n",
      "dtypes: bool(3), float64(1), int64(13), object(24)\n",
      "memory usage: 29.3+ MB\n"
     ]
    }
   ],
   "source": [
    "#Look into the data columns\n",
    "df.info()"
   ]
  },
  {
   "cell_type": "markdown",
   "id": "6273e015",
   "metadata": {
    "papermill": {
     "duration": 0.007865,
     "end_time": "2025-02-23T09:50:18.997889",
     "exception": false,
     "start_time": "2025-02-23T09:50:18.990024",
     "status": "completed"
    },
    "tags": []
   },
   "source": [
    "From this step, it looks as though all fields hold valid values for the entire dataset. While a positive surprise, we should try and look deeper into some specific fields. At this moment, we want to understand if columns such as `notes` hold any insightful data."
   ]
  },
  {
   "cell_type": "markdown",
   "id": "449c111b",
   "metadata": {
    "papermill": {
     "duration": 0.007895,
     "end_time": "2025-02-23T09:50:19.016655",
     "exception": false,
     "start_time": "2025-02-23T09:50:19.008760",
     "status": "completed"
    },
    "tags": []
   },
   "source": [
    "## 2.1. Early Exclusion Candidates\n",
    "\n",
    "Here, we are going to attempt to perform an initial filter on fields we might deem irrelevant for the analysis. As we have explored the data much at this point, the selected fields for investigation are based on the sample data we already saw and on the perceived information they hold based on their names.\n",
    "\n",
    "For each field, we might perform different evaluations. What you are going to see here is the result of some behind the curtain analysis."
   ]
  },
  {
   "cell_type": "code",
   "execution_count": 6,
   "id": "5cd8405a",
   "metadata": {
    "execution": {
     "iopub.execute_input": "2025-02-23T09:50:19.032963Z",
     "iopub.status.busy": "2025-02-23T09:50:19.032663Z",
     "iopub.status.idle": "2025-02-23T09:50:19.125893Z",
     "shell.execute_reply": "2025-02-23T09:50:19.124621Z"
    },
    "papermill": {
     "duration": 0.103163,
     "end_time": "2025-02-23T09:50:19.127443",
     "exception": false,
     "start_time": "2025-02-23T09:50:19.024280",
     "status": "completed"
    },
    "tags": []
   },
   "outputs": [
    {
     "data": {
      "text/plain": [
       "header_image\n",
       "https://cdn.akamai.steamstatic.com/steam/apps/750920/header.jpg?t=1644931091                          20\n",
       "https://cdn.akamai.steamstatic.com/steam/apps/24010/header.jpg?t=1658409119                            5\n",
       "https://cdn.akamai.steamstatic.com/steam/apps/359550/header.jpg?t=1655223333                           5\n",
       "https://cdn.akamai.steamstatic.com/steam/apps/37960/header.jpg?t=1447352428                            4\n",
       "https://cdn.akamai.steamstatic.com/steam/apps/2195250/header.jpg?t=1701266064                          4\n",
       "                                                                                                      ..\n",
       "https://cdn.akamai.steamstatic.com/steam/apps/29700/header.jpg?t=1598612361                            1\n",
       "https://cdn.akamai.steamstatic.com/steam/apps/804700/header.jpg?t=1647259710                           1\n",
       "https://cdn.akamai.steamstatic.com/steam/apps/365580/header.jpg?t=1447373140                           1\n",
       "https://cdn.akamai.steamstatic.com/steam/apps/1837470/header.jpg?t=1639726708                          1\n",
       "https://shared.akamai.steamstatic.com/store_item_assets/steam/apps/3054200/header.jpg?t=1725032216     1\n",
       "Name: count, Length: 97301, dtype: int64"
      ]
     },
     "execution_count": 6,
     "metadata": {},
     "output_type": "execute_result"
    }
   ],
   "source": [
    "#header_image\n",
    "df.header_image.value_counts()"
   ]
  },
  {
   "cell_type": "code",
   "execution_count": 7,
   "id": "d75d8343",
   "metadata": {
    "execution": {
     "iopub.execute_input": "2025-02-23T09:50:19.144811Z",
     "iopub.status.busy": "2025-02-23T09:50:19.144404Z",
     "iopub.status.idle": "2025-02-23T09:50:19.185466Z",
     "shell.execute_reply": "2025-02-23T09:50:19.184660Z"
    },
    "papermill": {
     "duration": 0.051217,
     "end_time": "2025-02-23T09:50:19.186752",
     "exception": false,
     "start_time": "2025-02-23T09:50:19.135535",
     "status": "completed"
    },
    "tags": []
   },
   "outputs": [
    {
     "data": {
      "text/plain": [
       "website\n",
       "                                                 54673\n",
       "https://www.facebook.com/8FloorGames/              274\n",
       "http://www.exosyphen.com                           204\n",
       "https://www.choiceofgames.com/                     153\n",
       "https://steamcommunity.com/groups/alawargames       92\n",
       "                                                 ...  \n",
       "https://vasonastudios.com/                           1\n",
       "https://www.facebook.com/MistSurvival/               1\n",
       "http://www.xperienciavirtual.es/                     1\n",
       "https://tendaystowar.zerobyter.net/                  1\n",
       "https://www.dreamengineproductions.com/              1\n",
       "Name: count, Length: 34763, dtype: int64"
      ]
     },
     "execution_count": 7,
     "metadata": {},
     "output_type": "execute_result"
    }
   ],
   "source": [
    "#website\n",
    "df.website.value_counts()"
   ]
  },
  {
   "cell_type": "code",
   "execution_count": 8,
   "id": "d383ae7b",
   "metadata": {
    "execution": {
     "iopub.execute_input": "2025-02-23T09:50:19.205953Z",
     "iopub.status.busy": "2025-02-23T09:50:19.205600Z",
     "iopub.status.idle": "2025-02-23T09:50:19.248208Z",
     "shell.execute_reply": "2025-02-23T09:50:19.247359Z"
    },
    "papermill": {
     "duration": 0.053598,
     "end_time": "2025-02-23T09:50:19.249393",
     "exception": false,
     "start_time": "2025-02-23T09:50:19.195795",
     "status": "completed"
    },
    "tags": []
   },
   "outputs": [
    {
     "data": {
      "text/plain": [
       "support_url\n",
       "                                              51463\n",
       "https://www.facebook.com/8FloorGames            298\n",
       "https://bigfishgames.zendesk.com/hc/en-us/      260\n",
       "https://bigfishgames.custhelp.com/app/home      223\n",
       "https://www.choiceofgames.com/contact-us/       204\n",
       "                                              ...  \n",
       "http://support.immersedgames.com                  1\n",
       "https://discord.gg/QnnUMCM2w3                     1\n",
       "touwaku.com                                       1\n",
       "https://twitter.com/TD12734                       1\n",
       "https://www.dreamengineproductions.com/           1\n",
       "Name: count, Length: 30083, dtype: int64"
      ]
     },
     "execution_count": 8,
     "metadata": {},
     "output_type": "execute_result"
    }
   ],
   "source": [
    "#support_url\n",
    "df.support_url.value_counts()"
   ]
  },
  {
   "cell_type": "code",
   "execution_count": 9,
   "id": "00f9b441",
   "metadata": {
    "execution": {
     "iopub.execute_input": "2025-02-23T09:50:19.266790Z",
     "iopub.status.busy": "2025-02-23T09:50:19.266440Z",
     "iopub.status.idle": "2025-02-23T09:50:19.317011Z",
     "shell.execute_reply": "2025-02-23T09:50:19.315688Z"
    },
    "papermill": {
     "duration": 0.060647,
     "end_time": "2025-02-23T09:50:19.318450",
     "exception": false,
     "start_time": "2025-02-23T09:50:19.257803",
     "status": "completed"
    },
    "tags": []
   },
   "outputs": [
    {
     "name": "stderr",
     "output_type": "stream",
     "text": [
      "<ipython-input-9-e99ee1aebd4f>:3: SettingWithCopyWarning: \n",
      "A value is trying to be set on a copy of a slice from a DataFrame.\n",
      "Try using .loc[row_indexer,col_indexer] = value instead\n",
      "\n",
      "See the caveats in the documentation: https://pandas.pydata.org/pandas-docs/stable/user_guide/indexing.html#returning-a-view-versus-a-copy\n",
      "  aux[\"has_support\"] = (aux != '').max(axis=1)\n"
     ]
    },
    {
     "data": {
      "text/plain": [
       "has_support\n",
       "True     91586\n",
       "False     5824\n",
       "Name: count, dtype: int64"
      ]
     },
     "execution_count": 9,
     "metadata": {},
     "output_type": "execute_result"
    }
   ],
   "source": [
    "#support_email and support_url\n",
    "aux = df[[\"support_url\", \"support_email\"]]\n",
    "aux[\"has_support\"] = (aux != '').max(axis=1)\n",
    "aux.has_support.value_counts()"
   ]
  },
  {
   "cell_type": "code",
   "execution_count": 10,
   "id": "5d9418b8",
   "metadata": {
    "execution": {
     "iopub.execute_input": "2025-02-23T09:50:19.336923Z",
     "iopub.status.busy": "2025-02-23T09:50:19.336570Z",
     "iopub.status.idle": "2025-02-23T09:50:19.348732Z",
     "shell.execute_reply": "2025-02-23T09:50:19.347024Z"
    },
    "papermill": {
     "duration": 0.02304,
     "end_time": "2025-02-23T09:50:19.350247",
     "exception": false,
     "start_time": "2025-02-23T09:50:19.327207",
     "status": "completed"
    },
    "tags": []
   },
   "outputs": [
    {
     "data": {
      "text/plain": [
       "achievements\n",
       "0       50189\n",
       "1        1058\n",
       "2         594\n",
       "3         801\n",
       "4        1011\n",
       "        ...  \n",
       "4997        1\n",
       "4999        1\n",
       "5000       59\n",
       "5394        1\n",
       "9821        1\n",
       "Name: count, Length: 434, dtype: int64"
      ]
     },
     "execution_count": 10,
     "metadata": {},
     "output_type": "execute_result"
    }
   ],
   "source": [
    "#achievements\n",
    "df.achievements.value_counts().sort_index()"
   ]
  },
  {
   "cell_type": "code",
   "execution_count": 11,
   "id": "53fe3b58",
   "metadata": {
    "execution": {
     "iopub.execute_input": "2025-02-23T09:50:19.368373Z",
     "iopub.status.busy": "2025-02-23T09:50:19.367943Z",
     "iopub.status.idle": "2025-02-23T09:50:19.377139Z",
     "shell.execute_reply": "2025-02-23T09:50:19.376015Z"
    },
    "papermill": {
     "duration": 0.019686,
     "end_time": "2025-02-23T09:50:19.378647",
     "exception": false,
     "start_time": "2025-02-23T09:50:19.358961",
     "status": "completed"
    },
    "tags": []
   },
   "outputs": [
    {
     "data": {
      "text/plain": [
       "recommendations\n",
       "0        83062\n",
       "116         69\n",
       "105         68\n",
       "106         67\n",
       "109         66\n",
       "         ...  \n",
       "9528         1\n",
       "1459         1\n",
       "10535        1\n",
       "3539         1\n",
       "6520         1\n",
       "Name: count, Length: 4094, dtype: int64"
      ]
     },
     "execution_count": 11,
     "metadata": {},
     "output_type": "execute_result"
    }
   ],
   "source": [
    "#recommendations\n",
    "df.recommendations.value_counts()"
   ]
  },
  {
   "cell_type": "code",
   "execution_count": 12,
   "id": "97a3260a",
   "metadata": {
    "execution": {
     "iopub.execute_input": "2025-02-23T09:50:19.396848Z",
     "iopub.status.busy": "2025-02-23T09:50:19.396447Z",
     "iopub.status.idle": "2025-02-23T09:50:19.422528Z",
     "shell.execute_reply": "2025-02-23T09:50:19.421520Z"
    },
    "papermill": {
     "duration": 0.037069,
     "end_time": "2025-02-23T09:50:19.424327",
     "exception": false,
     "start_time": "2025-02-23T09:50:19.387258",
     "status": "completed"
    },
    "tags": []
   },
   "outputs": [
    {
     "data": {
      "text/plain": [
       "notes\n",
       "                                                                                                                                                                                                                           81936\n",
       "This Game may contain content not appropriate for all ages, or may not be appropriate for viewing at work: Frequent Violence or Gore, General Mature Content                                                                 122\n",
       "Nakedness. All characters appearing in this game are over 18 years of age.                                                                                                                                                   115\n",
       "-Nudity or sexual content -Not suitable for watching at work -Not suitable for all ages -All characters in the game are over 18 years old                                                                                     67\n",
       "This Game may contain content not appropriate for all ages, or may not be appropriate for viewing at work: Nudity or Sexual Content, General Mature Content                                                                   41\n",
       "                                                                                                                                                                                                                           ...  \n",
       "This game depicts gratuitous cartoon violence, partial nudity, adult situations, and explicit language some may find offensive. Viewer discretion is advised.                                                                  1\n",
       "Contains cartoon violence/nudity, occasional strong language and adult themes.                                                                                                                                                 1\n",
       "Hentai Block Breaker contains nudity as a main part of the game. No other mature content is included.                                                                                                                          1\n",
       "Excessive pixelated gore, partial pixelated nudity, use of tobacco, and reference to alcohol.                                                                                                                                  1\n",
       "WARNING! This game is for ADULTS only and contains sexually explicit material that some viewers may find offensive. The game contains bondage, BDSM and incest. All characters shown in the game are over 18 years old.        1\n",
       "Name: count, Length: 12718, dtype: int64"
      ]
     },
     "execution_count": 12,
     "metadata": {},
     "output_type": "execute_result"
    }
   ],
   "source": [
    "#notes\n",
    "df.notes.value_counts()"
   ]
  },
  {
   "cell_type": "code",
   "execution_count": 13,
   "id": "9e27bc9b",
   "metadata": {
    "execution": {
     "iopub.execute_input": "2025-02-23T09:50:19.444118Z",
     "iopub.status.busy": "2025-02-23T09:50:19.443803Z",
     "iopub.status.idle": "2025-02-23T09:50:19.451824Z",
     "shell.execute_reply": "2025-02-23T09:50:19.450409Z"
    },
    "papermill": {
     "duration": 0.01989,
     "end_time": "2025-02-23T09:50:19.453635",
     "exception": false,
     "start_time": "2025-02-23T09:50:19.433745",
     "status": "completed"
    },
    "tags": []
   },
   "outputs": [
    {
     "data": {
      "text/plain": [
       "app_id\n",
       "20200      [{'title': 'Buy Galactic Bowling', 'descriptio...\n",
       "655370     [{'title': 'Buy Train Bandit', 'description': ...\n",
       "1732930    [{'title': 'Buy Jolt Project', 'description': ...\n",
       "1355720    [{'title': 'Buy Henosis™', 'description': '', ...\n",
       "1139950                                                   []\n",
       "Name: packages, dtype: object"
      ]
     },
     "execution_count": 13,
     "metadata": {},
     "output_type": "execute_result"
    }
   ],
   "source": [
    "#packages\n",
    "df.packages.head()"
   ]
  },
  {
   "cell_type": "code",
   "execution_count": 14,
   "id": "65056bbd",
   "metadata": {
    "execution": {
     "iopub.execute_input": "2025-02-23T09:50:19.472525Z",
     "iopub.status.busy": "2025-02-23T09:50:19.472186Z",
     "iopub.status.idle": "2025-02-23T09:50:19.478744Z",
     "shell.execute_reply": "2025-02-23T09:50:19.477631Z"
    },
    "papermill": {
     "duration": 0.017815,
     "end_time": "2025-02-23T09:50:19.480588",
     "exception": false,
     "start_time": "2025-02-23T09:50:19.462773",
     "status": "completed"
    },
    "tags": []
   },
   "outputs": [
    {
     "data": {
      "text/plain": [
       "array([list([{'title': 'Buy Galactic Bowling', 'description': '', 'subs': [{'text': 'Galactic Bowling - $19.99', 'description': '', 'price': 19.99}]}]),\n",
       "       list([{'title': 'Buy Train Bandit', 'description': '', 'subs': [{'text': 'Train Bandit - $0.99', 'description': '', 'price': 0.99}]}]),\n",
       "       list([{'title': 'Buy Jolt Project', 'description': '', 'subs': [{'text': 'Jolt Project - $4.99', 'description': '', 'price': 4.99}]}]),\n",
       "       list([{'title': 'Buy Henosis™', 'description': '', 'subs': [{'text': 'Henosis - $5.99', 'description': '', 'price': 5.99}]}]),\n",
       "       list([]), list([]),\n",
       "       list([{'title': 'Buy TD Worlds', 'description': '', 'subs': [{'text': 'TD Worlds - $10.99', 'description': '', 'price': 10.99}]}]),\n",
       "       list([{'title': 'Buy Legend of Rome - The Wrath of Mars', 'description': '', 'subs': [{'text': 'Legend of Rome - The Wrath of Mars - $9.99', 'description': '', 'price': 9.99}]}]),\n",
       "       list([{'title': 'Buy MazM: Jekyll and Hyde', 'description': '', 'subs': [{'text': 'Jekyll & Hyde - $14.99', 'description': '', 'price': 14.99}]}]),\n",
       "       list([{'title': 'Buy Deadlings: Rotten Edition', 'description': '', 'subs': [{'text': 'Deadlings - Rotten Edition - $3.99', 'description': '', 'price': 3.99}]}])],\n",
       "      dtype=object)"
      ]
     },
     "execution_count": 14,
     "metadata": {},
     "output_type": "execute_result"
    }
   ],
   "source": [
    "df.packages.head(10).values"
   ]
  },
  {
   "cell_type": "code",
   "execution_count": 15,
   "id": "0b948e11",
   "metadata": {
    "execution": {
     "iopub.execute_input": "2025-02-23T09:50:19.500184Z",
     "iopub.status.busy": "2025-02-23T09:50:19.499813Z",
     "iopub.status.idle": "2025-02-23T09:50:19.506132Z",
     "shell.execute_reply": "2025-02-23T09:50:19.505370Z"
    },
    "papermill": {
     "duration": 0.017943,
     "end_time": "2025-02-23T09:50:19.507973",
     "exception": false,
     "start_time": "2025-02-23T09:50:19.490030",
     "status": "completed"
    },
    "tags": []
   },
   "outputs": [
    {
     "data": {
      "text/plain": [
       "app_id\n",
       "20200      [https://cdn.akamai.steamstatic.com/steam/apps...\n",
       "655370     [https://cdn.akamai.steamstatic.com/steam/apps...\n",
       "1732930    [https://cdn.akamai.steamstatic.com/steam/apps...\n",
       "1355720    [https://cdn.akamai.steamstatic.com/steam/apps...\n",
       "1139950    [https://cdn.akamai.steamstatic.com/steam/apps...\n",
       "Name: screenshots, dtype: object"
      ]
     },
     "execution_count": 15,
     "metadata": {},
     "output_type": "execute_result"
    }
   ],
   "source": [
    "#screenshots\n",
    "df.screenshots.head()"
   ]
  },
  {
   "cell_type": "code",
   "execution_count": 16,
   "id": "4c58fa7f",
   "metadata": {
    "execution": {
     "iopub.execute_input": "2025-02-23T09:50:19.528784Z",
     "iopub.status.busy": "2025-02-23T09:50:19.528353Z",
     "iopub.status.idle": "2025-02-23T09:50:19.535854Z",
     "shell.execute_reply": "2025-02-23T09:50:19.534414Z"
    },
    "papermill": {
     "duration": 0.019407,
     "end_time": "2025-02-23T09:50:19.537734",
     "exception": false,
     "start_time": "2025-02-23T09:50:19.518327",
     "status": "completed"
    },
    "tags": []
   },
   "outputs": [
    {
     "data": {
      "text/plain": [
       "app_id\n",
       "20200      [http://cdn.akamai.steamstatic.com/steam/apps/...\n",
       "655370     [http://cdn.akamai.steamstatic.com/steam/apps/...\n",
       "1732930    [http://cdn.akamai.steamstatic.com/steam/apps/...\n",
       "1355720    [http://cdn.akamai.steamstatic.com/steam/apps/...\n",
       "1139950    [http://cdn.akamai.steamstatic.com/steam/apps/...\n",
       "Name: movies, dtype: object"
      ]
     },
     "execution_count": 16,
     "metadata": {},
     "output_type": "execute_result"
    }
   ],
   "source": [
    "#movies\n",
    "df.movies.head()"
   ]
  },
  {
   "cell_type": "markdown",
   "id": "8efce33a",
   "metadata": {
    "papermill": {
     "duration": 0.008486,
     "end_time": "2025-02-23T09:50:19.555429",
     "exception": false,
     "start_time": "2025-02-23T09:50:19.546943",
     "status": "completed"
    },
    "tags": []
   },
   "source": [
    "From a quick analysis of the columns above, we came if a few insights:\n",
    "* None of the investigated fields should be removed at this moment. In one way or another, they present some potential for the upcoming analyses;\n",
    "* **Some of the fields could use some transformation**. For instance, the `screenshots` column is not very useful as is. We could, however, count the amount of existing screenshot for a title and use it instead;\n",
    "* The `header_image` distritibution showed some very interesting behaviour. Even though we validated the index coming from the data is unique, we see a **number of instances in which different games have the same header image**. While this is not necessarily an issue, the best course of action is to explore this further to ensure data quality.\n",
    "\n",
    "Let's now take care of the highlighed points, starting with the data quality concerns."
   ]
  },
  {
   "cell_type": "markdown",
   "id": "dba9684b",
   "metadata": {
    "execution": {
     "iopub.execute_input": "2025-02-18T22:14:00.627551Z",
     "iopub.status.busy": "2025-02-18T22:14:00.626817Z",
     "iopub.status.idle": "2025-02-18T22:14:00.633549Z",
     "shell.execute_reply": "2025-02-18T22:14:00.631621Z",
     "shell.execute_reply.started": "2025-02-18T22:14:00.627513Z"
    },
    "papermill": {
     "duration": 0.008433,
     "end_time": "2025-02-23T09:50:19.572857",
     "exception": false,
     "start_time": "2025-02-23T09:50:19.564424",
     "status": "completed"
    },
    "tags": []
   },
   "source": [
    "## 2.2. Investigate Potential Duplicates"
   ]
  },
  {
   "cell_type": "code",
   "execution_count": 17,
   "id": "896dba52",
   "metadata": {
    "execution": {
     "iopub.execute_input": "2025-02-23T09:50:19.591416Z",
     "iopub.status.busy": "2025-02-23T09:50:19.591082Z",
     "iopub.status.idle": "2025-02-23T09:50:19.713686Z",
     "shell.execute_reply": "2025-02-23T09:50:19.712845Z"
    },
    "papermill": {
     "duration": 0.133778,
     "end_time": "2025-02-23T09:50:19.715365",
     "exception": false,
     "start_time": "2025-02-23T09:50:19.581587",
     "status": "completed"
    },
    "tags": []
   },
   "outputs": [],
   "source": [
    "#Identify potential duplicates\n",
    "duplicates = df.header_image.value_counts()\n",
    "duplicates = duplicates[duplicates > 1]\n",
    "\n",
    "duplicates_df = df.join(on=\"header_image\", other=duplicates, how=\"inner\").sort_values(by=\"header_image\")"
   ]
  },
  {
   "cell_type": "code",
   "execution_count": 18,
   "id": "8b5db436",
   "metadata": {
    "execution": {
     "iopub.execute_input": "2025-02-23T09:50:19.733996Z",
     "iopub.status.busy": "2025-02-23T09:50:19.733619Z",
     "iopub.status.idle": "2025-02-23T09:50:19.775694Z",
     "shell.execute_reply": "2025-02-23T09:50:19.774596Z"
    },
    "papermill": {
     "duration": 0.053023,
     "end_time": "2025-02-23T09:50:19.777230",
     "exception": false,
     "start_time": "2025-02-23T09:50:19.724207",
     "status": "completed"
    },
    "tags": []
   },
   "outputs": [
    {
     "data": {
      "text/html": [
       "<div>\n",
       "<style scoped>\n",
       "    .dataframe tbody tr th:only-of-type {\n",
       "        vertical-align: middle;\n",
       "    }\n",
       "\n",
       "    .dataframe tbody tr th {\n",
       "        vertical-align: top;\n",
       "    }\n",
       "\n",
       "    .dataframe thead th {\n",
       "        text-align: right;\n",
       "    }\n",
       "</style>\n",
       "<table border=\"1\" class=\"dataframe\">\n",
       "  <thead>\n",
       "    <tr style=\"text-align: right;\">\n",
       "      <th></th>\n",
       "      <th>field_name</th>\n",
       "      <th>instances_with_distinct_values</th>\n",
       "    </tr>\n",
       "  </thead>\n",
       "  <tbody>\n",
       "    <tr>\n",
       "      <th>32</th>\n",
       "      <td>positive</td>\n",
       "      <td>67</td>\n",
       "    </tr>\n",
       "    <tr>\n",
       "      <th>33</th>\n",
       "      <td>negative</td>\n",
       "      <td>67</td>\n",
       "    </tr>\n",
       "    <tr>\n",
       "      <th>40</th>\n",
       "      <td>tags</td>\n",
       "      <td>66</td>\n",
       "    </tr>\n",
       "    <tr>\n",
       "      <th>37</th>\n",
       "      <td>median_playtime_forever</td>\n",
       "      <td>66</td>\n",
       "    </tr>\n",
       "    <tr>\n",
       "      <th>35</th>\n",
       "      <td>average_playtime_forever</td>\n",
       "      <td>66</td>\n",
       "    </tr>\n",
       "    <tr>\n",
       "      <th>39</th>\n",
       "      <td>peak_ccu</td>\n",
       "      <td>62</td>\n",
       "    </tr>\n",
       "    <tr>\n",
       "      <th>34</th>\n",
       "      <td>estimated_owners</td>\n",
       "      <td>51</td>\n",
       "    </tr>\n",
       "    <tr>\n",
       "      <th>19</th>\n",
       "      <td>recommendations</td>\n",
       "      <td>30</td>\n",
       "    </tr>\n",
       "    <tr>\n",
       "      <th>38</th>\n",
       "      <td>median_playtime_2weeks</td>\n",
       "      <td>22</td>\n",
       "    </tr>\n",
       "    <tr>\n",
       "      <th>36</th>\n",
       "      <td>average_playtime_2weeks</td>\n",
       "      <td>22</td>\n",
       "    </tr>\n",
       "    <tr>\n",
       "      <th>23</th>\n",
       "      <td>packages</td>\n",
       "      <td>2</td>\n",
       "    </tr>\n",
       "    <tr>\n",
       "      <th>3</th>\n",
       "      <td>price</td>\n",
       "      <td>2</td>\n",
       "    </tr>\n",
       "    <tr>\n",
       "      <th>22</th>\n",
       "      <td>full_audio_languages</td>\n",
       "      <td>0</td>\n",
       "    </tr>\n",
       "    <tr>\n",
       "      <th>31</th>\n",
       "      <td>score_rank</td>\n",
       "      <td>0</td>\n",
       "    </tr>\n",
       "    <tr>\n",
       "      <th>30</th>\n",
       "      <td>user_score</td>\n",
       "      <td>0</td>\n",
       "    </tr>\n",
       "    <tr>\n",
       "      <th>29</th>\n",
       "      <td>movies</td>\n",
       "      <td>0</td>\n",
       "    </tr>\n",
       "    <tr>\n",
       "      <th>28</th>\n",
       "      <td>screenshots</td>\n",
       "      <td>0</td>\n",
       "    </tr>\n",
       "    <tr>\n",
       "      <th>27</th>\n",
       "      <td>genres</td>\n",
       "      <td>0</td>\n",
       "    </tr>\n",
       "    <tr>\n",
       "      <th>26</th>\n",
       "      <td>categories</td>\n",
       "      <td>0</td>\n",
       "    </tr>\n",
       "    <tr>\n",
       "      <th>25</th>\n",
       "      <td>publishers</td>\n",
       "      <td>0</td>\n",
       "    </tr>\n",
       "    <tr>\n",
       "      <th>24</th>\n",
       "      <td>developers</td>\n",
       "      <td>0</td>\n",
       "    </tr>\n",
       "    <tr>\n",
       "      <th>0</th>\n",
       "      <td>name</td>\n",
       "      <td>0</td>\n",
       "    </tr>\n",
       "    <tr>\n",
       "      <th>21</th>\n",
       "      <td>supported_languages</td>\n",
       "      <td>0</td>\n",
       "    </tr>\n",
       "    <tr>\n",
       "      <th>1</th>\n",
       "      <td>release_date</td>\n",
       "      <td>0</td>\n",
       "    </tr>\n",
       "    <tr>\n",
       "      <th>10</th>\n",
       "      <td>website</td>\n",
       "      <td>0</td>\n",
       "    </tr>\n",
       "    <tr>\n",
       "      <th>2</th>\n",
       "      <td>required_age</td>\n",
       "      <td>0</td>\n",
       "    </tr>\n",
       "    <tr>\n",
       "      <th>4</th>\n",
       "      <td>dlc_count</td>\n",
       "      <td>0</td>\n",
       "    </tr>\n",
       "    <tr>\n",
       "      <th>5</th>\n",
       "      <td>detailed_description</td>\n",
       "      <td>0</td>\n",
       "    </tr>\n",
       "    <tr>\n",
       "      <th>6</th>\n",
       "      <td>about_the_game</td>\n",
       "      <td>0</td>\n",
       "    </tr>\n",
       "    <tr>\n",
       "      <th>7</th>\n",
       "      <td>short_description</td>\n",
       "      <td>0</td>\n",
       "    </tr>\n",
       "    <tr>\n",
       "      <th>8</th>\n",
       "      <td>reviews</td>\n",
       "      <td>0</td>\n",
       "    </tr>\n",
       "    <tr>\n",
       "      <th>9</th>\n",
       "      <td>header_image</td>\n",
       "      <td>0</td>\n",
       "    </tr>\n",
       "    <tr>\n",
       "      <th>11</th>\n",
       "      <td>support_url</td>\n",
       "      <td>0</td>\n",
       "    </tr>\n",
       "    <tr>\n",
       "      <th>20</th>\n",
       "      <td>notes</td>\n",
       "      <td>0</td>\n",
       "    </tr>\n",
       "    <tr>\n",
       "      <th>12</th>\n",
       "      <td>support_email</td>\n",
       "      <td>0</td>\n",
       "    </tr>\n",
       "    <tr>\n",
       "      <th>13</th>\n",
       "      <td>windows</td>\n",
       "      <td>0</td>\n",
       "    </tr>\n",
       "    <tr>\n",
       "      <th>14</th>\n",
       "      <td>mac</td>\n",
       "      <td>0</td>\n",
       "    </tr>\n",
       "    <tr>\n",
       "      <th>15</th>\n",
       "      <td>linux</td>\n",
       "      <td>0</td>\n",
       "    </tr>\n",
       "    <tr>\n",
       "      <th>16</th>\n",
       "      <td>metacritic_score</td>\n",
       "      <td>0</td>\n",
       "    </tr>\n",
       "    <tr>\n",
       "      <th>17</th>\n",
       "      <td>metacritic_url</td>\n",
       "      <td>0</td>\n",
       "    </tr>\n",
       "    <tr>\n",
       "      <th>18</th>\n",
       "      <td>achievements</td>\n",
       "      <td>0</td>\n",
       "    </tr>\n",
       "    <tr>\n",
       "      <th>41</th>\n",
       "      <td>count</td>\n",
       "      <td>0</td>\n",
       "    </tr>\n",
       "  </tbody>\n",
       "</table>\n",
       "</div>"
      ],
      "text/plain": [
       "                  field_name  instances_with_distinct_values\n",
       "32                  positive                              67\n",
       "33                  negative                              67\n",
       "40                      tags                              66\n",
       "37   median_playtime_forever                              66\n",
       "35  average_playtime_forever                              66\n",
       "39                  peak_ccu                              62\n",
       "34          estimated_owners                              51\n",
       "19           recommendations                              30\n",
       "38    median_playtime_2weeks                              22\n",
       "36   average_playtime_2weeks                              22\n",
       "23                  packages                               2\n",
       "3                      price                               2\n",
       "22      full_audio_languages                               0\n",
       "31                score_rank                               0\n",
       "30                user_score                               0\n",
       "29                    movies                               0\n",
       "28               screenshots                               0\n",
       "27                    genres                               0\n",
       "26                categories                               0\n",
       "25                publishers                               0\n",
       "24                developers                               0\n",
       "0                       name                               0\n",
       "21       supported_languages                               0\n",
       "1               release_date                               0\n",
       "10                   website                               0\n",
       "2               required_age                               0\n",
       "4                  dlc_count                               0\n",
       "5       detailed_description                               0\n",
       "6             about_the_game                               0\n",
       "7          short_description                               0\n",
       "8                    reviews                               0\n",
       "9               header_image                               0\n",
       "11               support_url                               0\n",
       "20                     notes                               0\n",
       "12             support_email                               0\n",
       "13                   windows                               0\n",
       "14                       mac                               0\n",
       "15                     linux                               0\n",
       "16          metacritic_score                               0\n",
       "17            metacritic_url                               0\n",
       "18              achievements                               0\n",
       "41                     count                               0"
      ]
     },
     "execution_count": 18,
     "metadata": {},
     "output_type": "execute_result"
    }
   ],
   "source": [
    "#Validate which field are equal and which are not across potential duplicates\n",
    "for col in duplicates_df.columns:\n",
    "    duplicates_df[col] = [str(val) for val in duplicates_df[col]]\n",
    "\n",
    "duplicates_agg = duplicates_df.groupby(by=\"header_image\").agg(\n",
    "    {col: \"nunique\" for col in duplicates_df.columns}\n",
    ")\n",
    "\n",
    "duplicate_fields = []\n",
    "for col in duplicates_agg.columns:\n",
    "    duplicate_fields.append([col, sum(duplicates_agg[col] > 1)])\n",
    "\n",
    "duplicate_fields = pd.DataFrame(duplicate_fields, columns=[\"field_name\", \"instances_with_distinct_values\"])\n",
    "duplicate_fields.sort_values(by=\"instances_with_distinct_values\", ascending=False)"
   ]
  },
  {
   "cell_type": "markdown",
   "id": "f2744ef6",
   "metadata": {
    "papermill": {
     "duration": 0.008457,
     "end_time": "2025-02-23T09:50:19.795123",
     "exception": false,
     "start_time": "2025-02-23T09:50:19.786666",
     "status": "completed"
    },
    "tags": []
   },
   "source": [
    "From the analysis above, we can draw a few conclusions:\n",
    "* The major part of fields hold the exact same value across records with the same `header_image`;\n",
    "* Some of these fields with no change are `name`, `screenshots`, `movies` and `detailed_description`. It's really hard to imagine completely distinct titles would share the same values for all those fields at the same time;\n",
    "* Finally, we do have a smaller amount of fields for which is more common to have discrepant values. Some of them are `tags` and `medium_playtime_forever`.\n",
    "\n",
    "While this analysis does point to these being duplicate records. We don't feel confident enough to act on it at this point. Another reason for this is we have no means of identifying the \"correct\" record, the one that should be kept. As some fields to present different values for the same potential duplicate instance, this choice could have repercussions later on.\n",
    "\n",
    "What we did then was to actually visit the Steam pages for some of those games. Even though we don't have the actual URLs in the data, game pages are all structured like `https://store.steampowered.com/app/{app_id}`. As we do have the app ID as the dataset index, we have the opportunity to test a few of those cases. On the tested examples, we were able to see links for different `app_ids` were redirected to the same page. This is yet another strong indication these are indeed duplicate records.\n",
    "\n",
    "Unfortunately, this does not addresses the issue of selecting the \"right\" row for each case. To do so, we are going to compare the provided app IDs in the data with the identifier found in the URL after being redirected."
   ]
  },
  {
   "cell_type": "code",
   "execution_count": 19,
   "id": "3d6f07a1",
   "metadata": {
    "execution": {
     "iopub.execute_input": "2025-02-23T09:50:19.814116Z",
     "iopub.status.busy": "2025-02-23T09:50:19.813805Z",
     "iopub.status.idle": "2025-02-23T09:52:13.277892Z",
     "shell.execute_reply": "2025-02-23T09:52:13.276620Z"
    },
    "papermill": {
     "duration": 113.475947,
     "end_time": "2025-02-23T09:52:13.279738",
     "exception": false,
     "start_time": "2025-02-23T09:50:19.803791",
     "status": "completed"
    },
    "tags": []
   },
   "outputs": [],
   "source": [
    "#Identify the \"main\" app_id for duplicate cases\n",
    "duplicates_df[\"redirect_url_app_id\"] = [\n",
    "    requests.get(url=f\"https://store.steampowered.com/app/{app_id}\", allow_redirects=True).url \n",
    "    for app_id in duplicates_df.index\n",
    "]\n",
    "\n",
    "duplicates_df[\"redirect_url_app_id\"] = [\n",
    "    int(url.replace(\"https://store.steampowered.com/app/\", \"\").replace(\"/\", \"\")) for url in duplicates_df[\"redirect_url_app_id\"]\n",
    "]"
   ]
  },
  {
   "cell_type": "code",
   "execution_count": 20,
   "id": "ad3dbbaf",
   "metadata": {
    "execution": {
     "iopub.execute_input": "2025-02-23T09:52:13.299603Z",
     "iopub.status.busy": "2025-02-23T09:52:13.299247Z",
     "iopub.status.idle": "2025-02-23T09:52:13.326794Z",
     "shell.execute_reply": "2025-02-23T09:52:13.325700Z"
    },
    "papermill": {
     "duration": 0.038803,
     "end_time": "2025-02-23T09:52:13.328208",
     "exception": false,
     "start_time": "2025-02-23T09:52:13.289405",
     "status": "completed"
    },
    "tags": []
   },
   "outputs": [
    {
     "data": {
      "text/plain": [
       "has_match  matches_count\n",
       "True       1                71\n",
       "Name: count, dtype: int64"
      ]
     },
     "execution_count": 20,
     "metadata": {},
     "output_type": "execute_result"
    }
   ],
   "source": [
    "#Check matches between app_id and redirected_url_app_id\n",
    "duplicates_df[\"is_match\"] = duplicates_df.index == duplicates_df[\"redirect_url_app_id\"]\n",
    "\n",
    "duplicates_validation = duplicates_df.groupby(by=\"header_image\").agg({\n",
    "    \"is_match\": [\"max\", \"sum\"]\n",
    "})\n",
    "duplicates_validation.columns = [\"has_match\", \"matches_count\"]\n",
    "\n",
    "duplicates_validation.value_counts()"
   ]
  },
  {
   "cell_type": "markdown",
   "id": "317daf73",
   "metadata": {
    "execution": {
     "iopub.execute_input": "2025-02-18T22:53:40.354561Z",
     "iopub.status.busy": "2025-02-18T22:53:40.354144Z",
     "iopub.status.idle": "2025-02-18T22:53:40.360829Z",
     "shell.execute_reply": "2025-02-18T22:53:40.359670Z",
     "shell.execute_reply.started": "2025-02-18T22:53:40.354530Z"
    },
    "papermill": {
     "duration": 0.008555,
     "end_time": "2025-02-23T09:52:13.346041",
     "exception": false,
     "start_time": "2025-02-23T09:52:13.337486",
     "status": "completed"
    },
    "tags": []
   },
   "source": [
    "The results above show all 71 duplicate cases have only a single match between the app ID and the identifier coming from the redirected URL. It also shows there is only one match for each case. From these results, we can conclude this approach is valid for deduplicating records."
   ]
  },
  {
   "cell_type": "code",
   "execution_count": 21,
   "id": "42ffaa08",
   "metadata": {
    "execution": {
     "iopub.execute_input": "2025-02-23T09:52:13.365269Z",
     "iopub.status.busy": "2025-02-23T09:52:13.364950Z",
     "iopub.status.idle": "2025-02-23T09:52:13.449418Z",
     "shell.execute_reply": "2025-02-23T09:52:13.448295Z"
    },
    "papermill": {
     "duration": 0.096023,
     "end_time": "2025-02-23T09:52:13.451189",
     "exception": false,
     "start_time": "2025-02-23T09:52:13.355166",
     "status": "completed"
    },
    "tags": []
   },
   "outputs": [],
   "source": [
    "#Remove duplicates based on the redirect URL logic\n",
    "apps_to_remove = duplicates_df.query(\"is_match == False\").index\n",
    "df = df.drop(index=apps_to_remove)"
   ]
  },
  {
   "cell_type": "markdown",
   "id": "dc991360",
   "metadata": {
    "papermill": {
     "duration": 0.008649,
     "end_time": "2025-02-23T09:52:13.469387",
     "exception": false,
     "start_time": "2025-02-23T09:52:13.460738",
     "status": "completed"
    },
    "tags": []
   },
   "source": [
    "# 3. Data Transformation\n",
    "\n",
    "After looking into some fields, and adressing the issue of duplicate records, we want to look into which transformations could we to be able to extract more insights from our data. Additionally, we are going to select the fields that are going to be removed from the dataset for one reason or another."
   ]
  },
  {
   "cell_type": "code",
   "execution_count": 22,
   "id": "6bf4c019",
   "metadata": {
    "execution": {
     "iopub.execute_input": "2025-02-23T09:52:13.488770Z",
     "iopub.status.busy": "2025-02-23T09:52:13.488437Z",
     "iopub.status.idle": "2025-02-23T09:52:13.492626Z",
     "shell.execute_reply": "2025-02-23T09:52:13.491589Z"
    },
    "papermill": {
     "duration": 0.015696,
     "end_time": "2025-02-23T09:52:13.494032",
     "exception": false,
     "start_time": "2025-02-23T09:52:13.478336",
     "status": "completed"
    },
    "tags": []
   },
   "outputs": [],
   "source": [
    "#Define list to store fields to be removed\n",
    "cols_to_remove = []"
   ]
  },
  {
   "cell_type": "markdown",
   "id": "8bcfd8e8",
   "metadata": {
    "execution": {
     "iopub.execute_input": "2025-02-20T22:07:21.960513Z",
     "iopub.status.busy": "2025-02-20T22:07:21.960039Z",
     "iopub.status.idle": "2025-02-20T22:07:21.964817Z",
     "shell.execute_reply": "2025-02-20T22:07:21.963585Z",
     "shell.execute_reply.started": "2025-02-20T22:07:21.960449Z"
    },
    "papermill": {
     "duration": 0.009683,
     "end_time": "2025-02-23T09:52:13.513588",
     "exception": false,
     "start_time": "2025-02-23T09:52:13.503905",
     "status": "completed"
    },
    "tags": []
   },
   "source": [
    "## 3.1. Initial Transformations"
   ]
  },
  {
   "cell_type": "code",
   "execution_count": 23,
   "id": "0e806fe4",
   "metadata": {
    "execution": {
     "iopub.execute_input": "2025-02-23T09:52:13.533809Z",
     "iopub.status.busy": "2025-02-23T09:52:13.533454Z",
     "iopub.status.idle": "2025-02-23T09:52:14.165118Z",
     "shell.execute_reply": "2025-02-23T09:52:14.163987Z"
    },
    "papermill": {
     "duration": 0.643784,
     "end_time": "2025-02-23T09:52:14.166895",
     "exception": false,
     "start_time": "2025-02-23T09:52:13.523111",
     "status": "completed"
    },
    "tags": []
   },
   "outputs": [],
   "source": [
    "#relase_date: Transform into datetime\n",
    "date_format = \"%b %d, %Y\"\n",
    "date_format_fallback = '%b %Y'\n",
    "\n",
    "df[\"release_date\"] = [\n",
    "    datetime.strptime(date, date_format) if \",\" in date\n",
    "    else datetime.strptime(date, date_format_fallback) \n",
    "    for date in df[\"release_date\"]\n",
    "]"
   ]
  },
  {
   "cell_type": "code",
   "execution_count": 24,
   "id": "93f6db08",
   "metadata": {
    "execution": {
     "iopub.execute_input": "2025-02-23T09:52:14.187576Z",
     "iopub.status.busy": "2025-02-23T09:52:14.187183Z",
     "iopub.status.idle": "2025-02-23T09:52:14.209466Z",
     "shell.execute_reply": "2025-02-23T09:52:14.208740Z"
    },
    "papermill": {
     "duration": 0.03386,
     "end_time": "2025-02-23T09:52:14.210632",
     "exception": false,
     "start_time": "2025-02-23T09:52:14.176772",
     "status": "completed"
    },
    "tags": []
   },
   "outputs": [],
   "source": [
    "#required_age: Treat 0s as null and include flag for games with age restrictions\n",
    "df[\"has_age_restriction\"] = df[\"required_age\"] == 0\n",
    "df[\"required_age\"] = [age if age > 0 else np.nan for age in df[\"required_age\"]]"
   ]
  },
  {
   "cell_type": "code",
   "execution_count": 25,
   "id": "9654249b",
   "metadata": {
    "execution": {
     "iopub.execute_input": "2025-02-23T09:52:14.290554Z",
     "iopub.status.busy": "2025-02-23T09:52:14.290169Z",
     "iopub.status.idle": "2025-02-23T09:52:14.295895Z",
     "shell.execute_reply": "2025-02-23T09:52:14.294718Z"
    },
    "papermill": {
     "duration": 0.076994,
     "end_time": "2025-02-23T09:52:14.297535",
     "exception": false,
     "start_time": "2025-02-23T09:52:14.220541",
     "status": "completed"
    },
    "tags": []
   },
   "outputs": [],
   "source": [
    "#dlc_count: Add field has_dlc\n",
    "df[\"has_dlc\"] = df[\"dlc_count\"] > 0"
   ]
  },
  {
   "cell_type": "code",
   "execution_count": 26,
   "id": "6ea87bc0",
   "metadata": {
    "execution": {
     "iopub.execute_input": "2025-02-23T09:52:14.317980Z",
     "iopub.status.busy": "2025-02-23T09:52:14.317677Z",
     "iopub.status.idle": "2025-02-23T09:52:14.320789Z",
     "shell.execute_reply": "2025-02-23T09:52:14.320095Z"
    },
    "papermill": {
     "duration": 0.01461,
     "end_time": "2025-02-23T09:52:14.321914",
     "exception": false,
     "start_time": "2025-02-23T09:52:14.307304",
     "status": "completed"
    },
    "tags": []
   },
   "outputs": [],
   "source": [
    "# df[df[\"reviews\"] == '']"
   ]
  },
  {
   "cell_type": "code",
   "execution_count": 27,
   "id": "1f84354d",
   "metadata": {
    "execution": {
     "iopub.execute_input": "2025-02-23T09:52:14.342361Z",
     "iopub.status.busy": "2025-02-23T09:52:14.342023Z",
     "iopub.status.idle": "2025-02-23T09:52:14.359491Z",
     "shell.execute_reply": "2025-02-23T09:52:14.358418Z"
    },
    "papermill": {
     "duration": 0.029574,
     "end_time": "2025-02-23T09:52:14.361377",
     "exception": false,
     "start_time": "2025-02-23T09:52:14.331803",
     "status": "completed"
    },
    "tags": []
   },
   "outputs": [],
   "source": [
    "#website: Include a flag for identifying games with website provided and remove original field\n",
    "df[\"has_website\"] = df[\"website\"] != ''\n",
    "cols_to_remove.append(\"website\")"
   ]
  },
  {
   "cell_type": "code",
   "execution_count": 28,
   "id": "878054e9",
   "metadata": {
    "execution": {
     "iopub.execute_input": "2025-02-23T09:52:14.382691Z",
     "iopub.status.busy": "2025-02-23T09:52:14.382259Z",
     "iopub.status.idle": "2025-02-23T09:52:14.431555Z",
     "shell.execute_reply": "2025-02-23T09:52:14.430456Z"
    },
    "papermill": {
     "duration": 0.061798,
     "end_time": "2025-02-23T09:52:14.433230",
     "exception": false,
     "start_time": "2025-02-23T09:52:14.371432",
     "status": "completed"
    },
    "tags": []
   },
   "outputs": [],
   "source": [
    "#support_url and support_email: Create flag to identify games that have any support link and remove original fields\n",
    "df[\"has_support\"] = [True if len(val) > 0 else False for val in df[\"support_url\"] + df[\"support_email\"]]\n",
    "cols_to_remove.extend([\"support_url\", \"support_email\"])"
   ]
  },
  {
   "cell_type": "code",
   "execution_count": 29,
   "id": "c420afbd",
   "metadata": {
    "execution": {
     "iopub.execute_input": "2025-02-23T09:52:14.453323Z",
     "iopub.status.busy": "2025-02-23T09:52:14.452934Z",
     "iopub.status.idle": "2025-02-23T09:52:14.474358Z",
     "shell.execute_reply": "2025-02-23T09:52:14.473453Z"
    },
    "papermill": {
     "duration": 0.033269,
     "end_time": "2025-02-23T09:52:14.476142",
     "exception": false,
     "start_time": "2025-02-23T09:52:14.442873",
     "status": "completed"
    },
    "tags": []
   },
   "outputs": [],
   "source": [
    "#metacritic_score and metacritic_url: Treat 0s as nulls and remove metacritic_url\n",
    "df[\"metacritic_score\"] = [score if score > 0 else np.nan for score in df[\"metacritic_score\"]]\n",
    "cols_to_remove.append(\"metacritic_url\")"
   ]
  },
  {
   "cell_type": "code",
   "execution_count": 30,
   "id": "7fae4d6e",
   "metadata": {
    "execution": {
     "iopub.execute_input": "2025-02-23T09:52:14.496564Z",
     "iopub.status.busy": "2025-02-23T09:52:14.496245Z",
     "iopub.status.idle": "2025-02-23T09:52:14.500716Z",
     "shell.execute_reply": "2025-02-23T09:52:14.499807Z"
    },
    "papermill": {
     "duration": 0.016372,
     "end_time": "2025-02-23T09:52:14.502419",
     "exception": false,
     "start_time": "2025-02-23T09:52:14.486047",
     "status": "completed"
    },
    "tags": []
   },
   "outputs": [],
   "source": [
    "#achievements: Include a flag for identify games with and without achievements \n",
    "# We are not going to replace 0s for nulls since our understanding is these values do not cause distortions in future analyses\n",
    "df[\"has_achievements\"] = df[\"achievements\"] == 0"
   ]
  },
  {
   "cell_type": "code",
   "execution_count": 31,
   "id": "96bf990d",
   "metadata": {
    "execution": {
     "iopub.execute_input": "2025-02-23T09:52:14.523207Z",
     "iopub.status.busy": "2025-02-23T09:52:14.522824Z",
     "iopub.status.idle": "2025-02-23T09:52:14.535849Z",
     "shell.execute_reply": "2025-02-23T09:52:14.534636Z"
    },
    "papermill": {
     "duration": 0.025608,
     "end_time": "2025-02-23T09:52:14.537795",
     "exception": false,
     "start_time": "2025-02-23T09:52:14.512187",
     "status": "completed"
    },
    "tags": []
   },
   "outputs": [],
   "source": [
    "#notes: Add a flag for identifying games with disclaimers. The original field will not be removed at this moment to allow for transformations later on\n",
    "df[\"has_disclaimer\"] = df[\"notes\"] != \"\""
   ]
  },
  {
   "cell_type": "code",
   "execution_count": 32,
   "id": "9743b949",
   "metadata": {
    "execution": {
     "iopub.execute_input": "2025-02-23T09:52:14.558143Z",
     "iopub.status.busy": "2025-02-23T09:52:14.557780Z",
     "iopub.status.idle": "2025-02-23T09:52:14.640863Z",
     "shell.execute_reply": "2025-02-23T09:52:14.639854Z"
    },
    "papermill": {
     "duration": 0.095232,
     "end_time": "2025-02-23T09:52:14.642880",
     "exception": false,
     "start_time": "2025-02-23T09:52:14.547648",
     "status": "completed"
    },
    "tags": []
   },
   "outputs": [],
   "source": [
    "#screenshots and movies: Replace original fields by counts\n",
    "df[\"number_of_screenshots\"] = [len(lst) for lst in df[\"screenshots\"]]\n",
    "df[\"number_of_movies\"] = [len(lst) for lst in df[\"movies\"]]\n",
    "\n",
    "cols_to_remove.extend([\"screenshots\", \"movies\"])"
   ]
  },
  {
   "cell_type": "code",
   "execution_count": 33,
   "id": "641f5ec5",
   "metadata": {
    "execution": {
     "iopub.execute_input": "2025-02-23T09:52:14.664220Z",
     "iopub.status.busy": "2025-02-23T09:52:14.663909Z",
     "iopub.status.idle": "2025-02-23T09:52:14.667541Z",
     "shell.execute_reply": "2025-02-23T09:52:14.666725Z"
    },
    "papermill": {
     "duration": 0.015988,
     "end_time": "2025-02-23T09:52:14.669430",
     "exception": false,
     "start_time": "2025-02-23T09:52:14.653442",
     "status": "completed"
    },
    "tags": []
   },
   "outputs": [],
   "source": [
    "#score_rank: Drop since most values are non-existing\n",
    "cols_to_remove.append(\"score_rank\")"
   ]
  },
  {
   "cell_type": "code",
   "execution_count": 34,
   "id": "cd4daa83",
   "metadata": {
    "execution": {
     "iopub.execute_input": "2025-02-23T09:52:14.690892Z",
     "iopub.status.busy": "2025-02-23T09:52:14.690547Z",
     "iopub.status.idle": "2025-02-23T09:52:14.694539Z",
     "shell.execute_reply": "2025-02-23T09:52:14.693546Z"
    },
    "papermill": {
     "duration": 0.016445,
     "end_time": "2025-02-23T09:52:14.696388",
     "exception": false,
     "start_time": "2025-02-23T09:52:14.679943",
     "status": "completed"
    },
    "tags": []
   },
   "outputs": [],
   "source": [
    "#average_playtime_forever, average_playtime_2weeks, median_playtime_forever and median_playtime_2weeks: Think later"
   ]
  },
  {
   "cell_type": "markdown",
   "id": "17b94e3f",
   "metadata": {
    "papermill": {
     "duration": 0.009243,
     "end_time": "2025-02-23T09:52:14.715665",
     "exception": false,
     "start_time": "2025-02-23T09:52:14.706422",
     "status": "completed"
    },
    "tags": []
   },
   "source": [
    "## 3.2. Splitting the Data \n",
    "\n",
    "For some of the investigated fields, the best transformation we could recommend was to simply detach the data from the main dataset into a separate one. This would allow us to investigate these fields further without having to resort to applying transformations everytime we needed them. The fields in question are:\n",
    "* `supported_languages`\n",
    "* `full_audio_languages`\n",
    "* `packages`\n",
    "* `categories`\n",
    "* `genres`\n",
    "* `tags`"
   ]
  },
  {
   "cell_type": "markdown",
   "id": "ddc9371a",
   "metadata": {
    "papermill": {
     "duration": 0.009357,
     "end_time": "2025-02-23T09:52:14.734709",
     "exception": false,
     "start_time": "2025-02-23T09:52:14.725352",
     "status": "completed"
    },
    "tags": []
   },
   "source": [
    "### 3.2.1. Languages Dataframe"
   ]
  },
  {
   "cell_type": "code",
   "execution_count": 35,
   "id": "b31e65a1",
   "metadata": {
    "execution": {
     "iopub.execute_input": "2025-02-23T09:52:14.755715Z",
     "iopub.status.busy": "2025-02-23T09:52:14.755326Z",
     "iopub.status.idle": "2025-02-23T09:52:14.761288Z",
     "shell.execute_reply": "2025-02-23T09:52:14.759701Z"
    },
    "papermill": {
     "duration": 0.018726,
     "end_time": "2025-02-23T09:52:14.763340",
     "exception": false,
     "start_time": "2025-02-23T09:52:14.744614",
     "status": "completed"
    },
    "tags": []
   },
   "outputs": [],
   "source": [
    "# Function to clean languages data\n",
    "def transform_language(language):\n",
    "    transformed_language = language\n",
    "\n",
    "    # Replace common occurrences such as breaklines\n",
    "    replace_list = [\"\\r\", \"\\n\", \"[b]\", \"[/b]\", \";\"]\n",
    "    for rep in replace_list:\n",
    "        transformed_language = transformed_language.replace(rep, '')\n",
    "\n",
    "    # Remove references to HTML entities and other external elements\n",
    "    trim_list = [\"&\", \"#\", \"(\"]\n",
    "    for val in trim_list:\n",
    "        pos = transformed_language.find(val)\n",
    "        if pos > -1:\n",
    "            transformed_language = transformed_language[:pos]\n",
    "\n",
    "    return transformed_language.strip()"
   ]
  },
  {
   "cell_type": "code",
   "execution_count": 36,
   "id": "940d267f",
   "metadata": {
    "execution": {
     "iopub.execute_input": "2025-02-23T09:52:14.785284Z",
     "iopub.status.busy": "2025-02-23T09:52:14.784953Z",
     "iopub.status.idle": "2025-02-23T09:52:15.730294Z",
     "shell.execute_reply": "2025-02-23T09:52:15.729363Z"
    },
    "papermill": {
     "duration": 0.958791,
     "end_time": "2025-02-23T09:52:15.732124",
     "exception": false,
     "start_time": "2025-02-23T09:52:14.773333",
     "status": "completed"
    },
    "tags": []
   },
   "outputs": [],
   "source": [
    "# Transform supported_languages in a separate dataframe\n",
    "languages_df = df[\"supported_languages\"].explode().reset_index().rename(columns={\"supported_languages\": \"language\"})\n",
    "languages_df = languages_df.dropna()\n",
    "languages_df[\"language\"] = [transform_language(val) for val in languages_df[\"language\"]]\n",
    "\n",
    "languages_df.index = [hash(val) for val in languages_df[\"app_id\"].astype(\"str\") + languages_df[\"language\"]]\n",
    "languages_df.index.rename(\"app_language_id\", inplace=True)\n",
    "\n",
    "languages_df = languages_df.drop_duplicates()"
   ]
  },
  {
   "cell_type": "code",
   "execution_count": 37,
   "id": "fb4cf912",
   "metadata": {
    "execution": {
     "iopub.execute_input": "2025-02-23T09:52:15.752717Z",
     "iopub.status.busy": "2025-02-23T09:52:15.752348Z",
     "iopub.status.idle": "2025-02-23T09:52:15.825011Z",
     "shell.execute_reply": "2025-02-23T09:52:15.824020Z"
    },
    "papermill": {
     "duration": 0.084886,
     "end_time": "2025-02-23T09:52:15.826892",
     "exception": false,
     "start_time": "2025-02-23T09:52:15.742006",
     "status": "completed"
    },
    "tags": []
   },
   "outputs": [],
   "source": [
    "# Mark data unsucssessfuly transformed to be removed \n",
    "\"\"\"\n",
    "While we could easily handle the remaining records for which the applied transformation were not successful, we are opting for flagging these \n",
    "as nulls. This choice was made based on three reasons:\n",
    "1. It does not appear is these languages are accurate, from visiting some of the Steam title pages;\n",
    "2. These cases are likely caused by poor data input at the beginning of the process;\n",
    "3. Given how few records are impacted, this would not produce any distortion in our analysis \n",
    "    (we are only removing data on the languages, not about the titles themselves).\n",
    "\"\"\"\n",
    "languages_to_remove = [\n",
    "    \"Hungarian,Polish\", \n",
    "    \"RussianEnglishSpanish - SpainFrenchJapaneseCzech\", \n",
    "    \"English Dutch  English\", \n",
    "    \"English,German,Spanish - Spain,\",\n",
    "    \"EnglishRussianSpanish - SpainJapaneseCzech\"\n",
    "]\n",
    "languages_df = languages_df.query(\"language.isin(@languages_to_remove) == False\")"
   ]
  },
  {
   "cell_type": "code",
   "execution_count": 38,
   "id": "1e4baf9c",
   "metadata": {
    "execution": {
     "iopub.execute_input": "2025-02-23T09:52:15.848670Z",
     "iopub.status.busy": "2025-02-23T09:52:15.848232Z",
     "iopub.status.idle": "2025-02-23T09:52:16.095752Z",
     "shell.execute_reply": "2025-02-23T09:52:16.094829Z"
    },
    "papermill": {
     "duration": 0.26026,
     "end_time": "2025-02-23T09:52:16.097487",
     "exception": false,
     "start_time": "2025-02-23T09:52:15.837227",
     "status": "completed"
    },
    "tags": []
   },
   "outputs": [],
   "source": [
    "# Tranform full_audio_language in a separate dataframe\n",
    "audio_languages = df[\"full_audio_languages\"].explode().reset_index().rename(columns={\"full_audio_languages\": \"language\"})\n",
    "audio_languages = audio_languages.dropna()\n",
    "audio_languages[\"language\"] = [transform_language(val) for val in audio_languages[\"language\"]]\n",
    "audio_languages = audio_languages.drop_duplicates()\n",
    "audio_languages[\"has_audio\"] = True"
   ]
  },
  {
   "cell_type": "code",
   "execution_count": 39,
   "id": "8eb4a090",
   "metadata": {
    "execution": {
     "iopub.execute_input": "2025-02-23T09:52:16.118035Z",
     "iopub.status.busy": "2025-02-23T09:52:16.117677Z",
     "iopub.status.idle": "2025-02-23T09:52:16.360339Z",
     "shell.execute_reply": "2025-02-23T09:52:16.359573Z"
    },
    "papermill": {
     "duration": 0.254025,
     "end_time": "2025-02-23T09:52:16.361740",
     "exception": false,
     "start_time": "2025-02-23T09:52:16.107715",
     "status": "completed"
    },
    "tags": []
   },
   "outputs": [
    {
     "name": "stderr",
     "output_type": "stream",
     "text": [
      "<ipython-input-39-265471232089>:5: FutureWarning: Downcasting object dtype arrays on .fillna, .ffill, .bfill is deprecated and will change in a future version. Call result.infer_objects(copy=False) instead. To opt-in to the future behavior, set `pd.set_option('future.no_silent_downcasting', True)`\n",
      "  ).fillna(False)\n"
     ]
    }
   ],
   "source": [
    "# Consolidate supported and audio languages\n",
    "languages_df = languages_df.join(\n",
    "    on=[\"app_id\", \"language\"],\n",
    "    other=audio_languages.set_index([\"app_id\", \"language\"])\n",
    ").fillna(False)"
   ]
  },
  {
   "cell_type": "code",
   "execution_count": 40,
   "id": "2ef7b534",
   "metadata": {
    "execution": {
     "iopub.execute_input": "2025-02-23T09:52:16.382143Z",
     "iopub.status.busy": "2025-02-23T09:52:16.381799Z",
     "iopub.status.idle": "2025-02-23T09:52:16.485605Z",
     "shell.execute_reply": "2025-02-23T09:52:16.484842Z"
    },
    "papermill": {
     "duration": 0.115634,
     "end_time": "2025-02-23T09:52:16.487045",
     "exception": false,
     "start_time": "2025-02-23T09:52:16.371411",
     "status": "completed"
    },
    "tags": []
   },
   "outputs": [
    {
     "name": "stdout",
     "output_type": "stream",
     "text": [
      "Validations:\n",
      " No duplicates: True\n",
      " Complete matches with audio language:True\n"
     ]
    }
   ],
   "source": [
    "# Validate language_df final version\n",
    "print(\n",
    "    \"Validations:\\n No duplicates: {}\\n Complete matches with audio language:{}\".format(\n",
    "        len(languages_df) == len(languages_df.drop_duplicates()),\n",
    "        len(audio_languages) == len(languages_df.query(\"has_audio == True\"))\n",
    "    )\n",
    ")"
   ]
  },
  {
   "cell_type": "markdown",
   "id": "4db96fac",
   "metadata": {
    "papermill": {
     "duration": 0.009133,
     "end_time": "2025-02-23T09:52:16.506117",
     "exception": false,
     "start_time": "2025-02-23T09:52:16.496984",
     "status": "completed"
    },
    "tags": []
   },
   "source": [
    "### 3.2.2. Packages Dataframe"
   ]
  },
  {
   "cell_type": "code",
   "execution_count": 41,
   "id": "4b3a1462",
   "metadata": {
    "execution": {
     "iopub.execute_input": "2025-02-23T09:52:16.525968Z",
     "iopub.status.busy": "2025-02-23T09:52:16.525621Z",
     "iopub.status.idle": "2025-02-23T09:52:16.781159Z",
     "shell.execute_reply": "2025-02-23T09:52:16.779804Z"
    },
    "papermill": {
     "duration": 0.267632,
     "end_time": "2025-02-23T09:52:16.783014",
     "exception": false,
     "start_time": "2025-02-23T09:52:16.515382",
     "status": "completed"
    },
    "tags": []
   },
   "outputs": [],
   "source": [
    "# Move packages data into separate dataframe\n",
    "packages_df = df[\"packages\"].explode().dropna().to_frame()\n",
    "packages_df[\"packages\"] = [package[\"subs\"] for package in packages_df[\"packages\"]]\n",
    "packages_df = packages_df[\"packages\"].explode()\n",
    "\n",
    "app_ids = packages_df.index\n",
    "packages_df = pd.DataFrame.from_records(packages_df.values)\n",
    "packages_df.index = app_ids"
   ]
  },
  {
   "cell_type": "code",
   "execution_count": 42,
   "id": "72cacd21",
   "metadata": {
    "execution": {
     "iopub.execute_input": "2025-02-23T09:52:16.803587Z",
     "iopub.status.busy": "2025-02-23T09:52:16.803172Z",
     "iopub.status.idle": "2025-02-23T09:52:17.021723Z",
     "shell.execute_reply": "2025-02-23T09:52:17.020812Z"
    },
    "papermill": {
     "duration": 0.230657,
     "end_time": "2025-02-23T09:52:17.023525",
     "exception": false,
     "start_time": "2025-02-23T09:52:16.792868",
     "status": "completed"
    },
    "tags": []
   },
   "outputs": [],
   "source": [
    "# Apply transformations\n",
    "packages_df = packages_df.drop_duplicates()\n",
    "packages_df = packages_df.rename(columns={\"text\": \"package_name\"})\n",
    "packages_df[\"is_subscription\"] = [True if \"subscription\" in desc else False for desc in packages_df[\"description\"]]\n",
    "packages_df = packages_df.drop(columns=[\"description\"])\n",
    "\n",
    "packages_df = packages_df.reset_index()\n",
    "packages_df.index = [\n",
    "    hash(concat) \n",
    "    for concat \n",
    "    in packages_df[\"app_id\"].astype(\"str\") + packages_df[\"package_name\"] + packages_df[\"price\"].astype(\"str\")\n",
    "]"
   ]
  },
  {
   "cell_type": "markdown",
   "id": "f6e4155d",
   "metadata": {
    "papermill": {
     "duration": 0.009034,
     "end_time": "2025-02-23T09:52:17.042644",
     "exception": false,
     "start_time": "2025-02-23T09:52:17.033610",
     "status": "completed"
    },
    "tags": []
   },
   "source": [
    "### 3.2.3. Categories Dataframe"
   ]
  },
  {
   "cell_type": "code",
   "execution_count": 43,
   "id": "3e00861d",
   "metadata": {
    "execution": {
     "iopub.execute_input": "2025-02-23T09:52:17.062745Z",
     "iopub.status.busy": "2025-02-23T09:52:17.062379Z",
     "iopub.status.idle": "2025-02-23T09:52:17.183206Z",
     "shell.execute_reply": "2025-02-23T09:52:17.181801Z"
    },
    "papermill": {
     "duration": 0.133107,
     "end_time": "2025-02-23T09:52:17.185161",
     "exception": false,
     "start_time": "2025-02-23T09:52:17.052054",
     "status": "completed"
    },
    "tags": []
   },
   "outputs": [],
   "source": [
    "#Move categories data into separate dataframe\n",
    "categories_df = df[\"categories\"].explode()\n",
    "categories_df = categories_df.rename(\"category\")\n",
    "categories_df = categories_df.reset_index().dropna()"
   ]
  },
  {
   "cell_type": "code",
   "execution_count": 44,
   "id": "13a5674e",
   "metadata": {
    "execution": {
     "iopub.execute_input": "2025-02-23T09:52:17.206360Z",
     "iopub.status.busy": "2025-02-23T09:52:17.206066Z",
     "iopub.status.idle": "2025-02-23T09:52:17.368957Z",
     "shell.execute_reply": "2025-02-23T09:52:17.368012Z"
    },
    "papermill": {
     "duration": 0.174649,
     "end_time": "2025-02-23T09:52:17.370606",
     "exception": false,
     "start_time": "2025-02-23T09:52:17.195957",
     "status": "completed"
    },
    "tags": []
   },
   "outputs": [],
   "source": [
    "#Create category_group field\n",
    "category_groups = []\n",
    "groups = [\"Remote Play\", \"Split Screen\", \"VR\", \"LAN\"]\n",
    "\n",
    "for category in categories_df[\"category\"]:\n",
    "    next_group = np.nan\n",
    "    for group in groups:\n",
    "        if group in category:\n",
    "            next_group = group\n",
    "            break\n",
    "\n",
    "    category_groups.append(next_group)\n",
    "\n",
    "categories_df[\"category_group\"] = category_groups"
   ]
  },
  {
   "cell_type": "code",
   "execution_count": 45,
   "id": "e74e893e",
   "metadata": {
    "execution": {
     "iopub.execute_input": "2025-02-23T09:52:17.390592Z",
     "iopub.status.busy": "2025-02-23T09:52:17.390261Z",
     "iopub.status.idle": "2025-02-23T09:52:17.641840Z",
     "shell.execute_reply": "2025-02-23T09:52:17.640552Z"
    },
    "papermill": {
     "duration": 0.263554,
     "end_time": "2025-02-23T09:52:17.643638",
     "exception": false,
     "start_time": "2025-02-23T09:52:17.380084",
     "status": "completed"
    },
    "tags": []
   },
   "outputs": [],
   "source": [
    "#Crete unique key for categories_df\n",
    "categories_df.index = [hash(concat) for concat in categories_df[\"app_id\"].astype(\"str\") + categories_df[\"category\"]]\n",
    "categories_df.index.rename(\"app_category_id\", inplace=True)"
   ]
  },
  {
   "cell_type": "markdown",
   "id": "3973a98b",
   "metadata": {
    "papermill": {
     "duration": 0.009462,
     "end_time": "2025-02-23T09:52:17.663175",
     "exception": false,
     "start_time": "2025-02-23T09:52:17.653713",
     "status": "completed"
    },
    "tags": []
   },
   "source": [
    "### 3.2.4. Genres Dataframe"
   ]
  },
  {
   "cell_type": "code",
   "execution_count": 46,
   "id": "82280291",
   "metadata": {
    "execution": {
     "iopub.execute_input": "2025-02-23T09:52:17.683688Z",
     "iopub.status.busy": "2025-02-23T09:52:17.683294Z",
     "iopub.status.idle": "2025-02-23T09:52:18.134436Z",
     "shell.execute_reply": "2025-02-23T09:52:18.133463Z"
    },
    "papermill": {
     "duration": 0.463426,
     "end_time": "2025-02-23T09:52:18.136150",
     "exception": false,
     "start_time": "2025-02-23T09:52:17.672724",
     "status": "completed"
    },
    "tags": []
   },
   "outputs": [],
   "source": [
    "#Move genres data into separate dataframe\n",
    "genres_df = df[\"genres\"].explode().reset_index().rename(columns={\"genres\": \"genre\"})\n",
    "genres_df[\"genre\"] = genres_df[\"genre\"].str.upper()\n",
    "genres_df = genres_df.drop_duplicates()\n",
    "\n",
    "genres_df.index = [hash(concat) for concat in genres_df[\"app_id\"].astype(\"str\") + genres_df[\"genre\"]]\n",
    "genres_df.index.rename(\"app_genre_id\", inplace=True)"
   ]
  },
  {
   "cell_type": "markdown",
   "id": "c8c0494f",
   "metadata": {
    "papermill": {
     "duration": 0.009191,
     "end_time": "2025-02-23T09:52:18.155618",
     "exception": false,
     "start_time": "2025-02-23T09:52:18.146427",
     "status": "completed"
    },
    "tags": []
   },
   "source": [
    "### 3.2.5. Tags Dataframe"
   ]
  },
  {
   "cell_type": "code",
   "execution_count": 47,
   "id": "31fd0811",
   "metadata": {
    "execution": {
     "iopub.execute_input": "2025-02-23T09:52:18.175682Z",
     "iopub.status.busy": "2025-02-23T09:52:18.175314Z",
     "iopub.status.idle": "2025-02-23T09:52:23.403083Z",
     "shell.execute_reply": "2025-02-23T09:52:23.402121Z"
    },
    "papermill": {
     "duration": 5.239863,
     "end_time": "2025-02-23T09:52:23.404871",
     "exception": false,
     "start_time": "2025-02-23T09:52:18.165008",
     "status": "completed"
    },
    "tags": []
   },
   "outputs": [],
   "source": [
    "#Move tags data into separate dataframe\n",
    "tags_df = df[\"tags\"]\n",
    "\n",
    "tags_df = tags_df[tags_df.apply(isinstance, args=(dict,))]\n",
    "tags_df = pd.DataFrame.from_records(tags_df.values, index=tags_df.index)\n",
    "tags_df = pd.melt(\n",
    "    tags_df, \n",
    "    var_name=\"tag\", \n",
    "    value_name=\"attribution_amount\", \n",
    "    ignore_index=False\n",
    ").dropna()\n",
    "\n",
    "tags_df = tags_df.reset_index()\n",
    "tags_df.index = [hash(concat) for concat in tags_df[\"app_id\"].astype(\"str\") + tags_df[\"tag\"]]\n",
    "tags_df.index.rename(\"app_tag_id\", inplace=True)"
   ]
  }
 ],
 "metadata": {
  "kaggle": {
   "accelerator": "none",
   "dataSources": [
    {
     "datasetId": 2109585,
     "sourceId": 9310676,
     "sourceType": "datasetVersion"
    }
   ],
   "dockerImageVersionId": 30886,
   "isGpuEnabled": false,
   "isInternetEnabled": true,
   "language": "python",
   "sourceType": "notebook"
  },
  "kernelspec": {
   "display_name": "Python 3",
   "language": "python",
   "name": "python3"
  },
  "language_info": {
   "codemirror_mode": {
    "name": "ipython",
    "version": 3
   },
   "file_extension": ".py",
   "mimetype": "text/x-python",
   "name": "python",
   "nbconvert_exporter": "python",
   "pygments_lexer": "ipython3",
   "version": "3.10.12"
  },
  "papermill": {
   "default_parameters": {},
   "duration": 149.125504,
   "end_time": "2025-02-23T09:52:25.338894",
   "environment_variables": {},
   "exception": null,
   "input_path": "__notebook__.ipynb",
   "output_path": "__notebook__.ipynb",
   "parameters": {},
   "start_time": "2025-02-23T09:49:56.213390",
   "version": "2.6.0"
  }
 },
 "nbformat": 4,
 "nbformat_minor": 5
}
