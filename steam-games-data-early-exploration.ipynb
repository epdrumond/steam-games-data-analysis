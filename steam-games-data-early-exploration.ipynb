{
 "cells": [
  {
   "cell_type": "markdown",
   "id": "c2ec0f0a",
   "metadata": {
    "papermill": {
     "duration": 0.009379,
     "end_time": "2025-02-20T22:03:18.345684",
     "exception": false,
     "start_time": "2025-02-20T22:03:18.336305",
     "status": "completed"
    },
    "tags": []
   },
   "source": [
    "# 1. Initial Setup\n",
    "\n",
    "In this first section, we'll simply do some of the initial stuff before actually getting to work with data. This will include package imports, loading the datasets and, if the need arises, other configurations."
   ]
  },
  {
   "cell_type": "code",
   "execution_count": 1,
   "id": "545bc844",
   "metadata": {
    "_cell_guid": "b1076dfc-b9ad-4769-8c92-a6c4dae69d19",
    "_uuid": "8f2839f25d086af736a60e9eeb907d3b93b6e0e5",
    "execution": {
     "iopub.execute_input": "2025-02-20T22:03:18.365075Z",
     "iopub.status.busy": "2025-02-20T22:03:18.364554Z",
     "iopub.status.idle": "2025-02-20T22:03:19.856020Z",
     "shell.execute_reply": "2025-02-20T22:03:19.855053Z"
    },
    "papermill": {
     "duration": 1.503373,
     "end_time": "2025-02-20T22:03:19.857930",
     "exception": false,
     "start_time": "2025-02-20T22:03:18.354557",
     "status": "completed"
    },
    "tags": []
   },
   "outputs": [],
   "source": [
    "#Import packages\n",
    "import pandas as pd\n",
    "import numpy as np\n",
    "from datetime import datetime\n",
    "\n",
    "import requests\n",
    "from bs4 import BeautifulSoup"
   ]
  },
  {
   "cell_type": "code",
   "execution_count": 2,
   "id": "bcf36a12",
   "metadata": {
    "execution": {
     "iopub.execute_input": "2025-02-20T22:03:19.877128Z",
     "iopub.status.busy": "2025-02-20T22:03:19.876606Z",
     "iopub.status.idle": "2025-02-20T22:03:40.695354Z",
     "shell.execute_reply": "2025-02-20T22:03:40.694283Z"
    },
    "papermill": {
     "duration": 20.830691,
     "end_time": "2025-02-20T22:03:40.697445",
     "exception": false,
     "start_time": "2025-02-20T22:03:19.866754",
     "status": "completed"
    },
    "tags": []
   },
   "outputs": [],
   "source": [
    "#Load data\n",
    "INPUT_PATH = \"/kaggle/input/steam-games-dataset/\"\n",
    "df = pd.read_json(INPUT_PATH + \"games.json\", orient=\"index\")\n",
    "df.index.rename(\"app_id\", inplace=True)"
   ]
  },
  {
   "cell_type": "markdown",
   "id": "0c323040",
   "metadata": {
    "papermill": {
     "duration": 0.00903,
     "end_time": "2025-02-20T22:03:40.715846",
     "exception": false,
     "start_time": "2025-02-20T22:03:40.706816",
     "status": "completed"
    },
    "tags": []
   },
   "source": [
    "# 2. Early Exploration\n",
    "\n",
    "We now start actually looking into the data. The goal here is to have a sense of what we are working with. The main outcomes from this step are getting more familiar with the dataset and also possibly excluding data that clearly will not be used in the following analyses."
   ]
  },
  {
   "cell_type": "code",
   "execution_count": 3,
   "id": "2d5d1733",
   "metadata": {
    "execution": {
     "iopub.execute_input": "2025-02-20T22:03:40.736072Z",
     "iopub.status.busy": "2025-02-20T22:03:40.735702Z",
     "iopub.status.idle": "2025-02-20T22:03:40.791156Z",
     "shell.execute_reply": "2025-02-20T22:03:40.789958Z"
    },
    "papermill": {
     "duration": 0.068447,
     "end_time": "2025-02-20T22:03:40.793509",
     "exception": false,
     "start_time": "2025-02-20T22:03:40.725062",
     "status": "completed"
    },
    "tags": []
   },
   "outputs": [
    {
     "data": {
      "text/html": [
       "<div>\n",
       "<style scoped>\n",
       "    .dataframe tbody tr th:only-of-type {\n",
       "        vertical-align: middle;\n",
       "    }\n",
       "\n",
       "    .dataframe tbody tr th {\n",
       "        vertical-align: top;\n",
       "    }\n",
       "\n",
       "    .dataframe thead th {\n",
       "        text-align: right;\n",
       "    }\n",
       "</style>\n",
       "<table border=\"1\" class=\"dataframe\">\n",
       "  <thead>\n",
       "    <tr style=\"text-align: right;\">\n",
       "      <th></th>\n",
       "      <th>name</th>\n",
       "      <th>release_date</th>\n",
       "      <th>required_age</th>\n",
       "      <th>price</th>\n",
       "      <th>dlc_count</th>\n",
       "      <th>detailed_description</th>\n",
       "      <th>about_the_game</th>\n",
       "      <th>short_description</th>\n",
       "      <th>reviews</th>\n",
       "      <th>header_image</th>\n",
       "      <th>...</th>\n",
       "      <th>score_rank</th>\n",
       "      <th>positive</th>\n",
       "      <th>negative</th>\n",
       "      <th>estimated_owners</th>\n",
       "      <th>average_playtime_forever</th>\n",
       "      <th>average_playtime_2weeks</th>\n",
       "      <th>median_playtime_forever</th>\n",
       "      <th>median_playtime_2weeks</th>\n",
       "      <th>peak_ccu</th>\n",
       "      <th>tags</th>\n",
       "    </tr>\n",
       "    <tr>\n",
       "      <th>app_id</th>\n",
       "      <th></th>\n",
       "      <th></th>\n",
       "      <th></th>\n",
       "      <th></th>\n",
       "      <th></th>\n",
       "      <th></th>\n",
       "      <th></th>\n",
       "      <th></th>\n",
       "      <th></th>\n",
       "      <th></th>\n",
       "      <th></th>\n",
       "      <th></th>\n",
       "      <th></th>\n",
       "      <th></th>\n",
       "      <th></th>\n",
       "      <th></th>\n",
       "      <th></th>\n",
       "      <th></th>\n",
       "      <th></th>\n",
       "      <th></th>\n",
       "      <th></th>\n",
       "    </tr>\n",
       "  </thead>\n",
       "  <tbody>\n",
       "    <tr>\n",
       "      <th>20200</th>\n",
       "      <td>Galactic Bowling</td>\n",
       "      <td>Oct 21, 2008</td>\n",
       "      <td>0</td>\n",
       "      <td>19.99</td>\n",
       "      <td>0</td>\n",
       "      <td>Galactic Bowling is an exaggerated and stylize...</td>\n",
       "      <td>Galactic Bowling is an exaggerated and stylize...</td>\n",
       "      <td>Galactic Bowling is an exaggerated and stylize...</td>\n",
       "      <td></td>\n",
       "      <td>https://cdn.akamai.steamstatic.com/steam/apps/...</td>\n",
       "      <td>...</td>\n",
       "      <td></td>\n",
       "      <td>6</td>\n",
       "      <td>11</td>\n",
       "      <td>0 - 20000</td>\n",
       "      <td>0</td>\n",
       "      <td>0</td>\n",
       "      <td>0</td>\n",
       "      <td>0</td>\n",
       "      <td>0</td>\n",
       "      <td>{'Indie': 22, 'Casual': 21, 'Sports': 21, 'Bow...</td>\n",
       "    </tr>\n",
       "    <tr>\n",
       "      <th>655370</th>\n",
       "      <td>Train Bandit</td>\n",
       "      <td>Oct 12, 2017</td>\n",
       "      <td>0</td>\n",
       "      <td>0.99</td>\n",
       "      <td>0</td>\n",
       "      <td>THE LAW!! Looks to be a showdown atop a train....</td>\n",
       "      <td>THE LAW!! Looks to be a showdown atop a train....</td>\n",
       "      <td>THE LAW!! Looks to be a showdown atop a train....</td>\n",
       "      <td></td>\n",
       "      <td>https://cdn.akamai.steamstatic.com/steam/apps/...</td>\n",
       "      <td>...</td>\n",
       "      <td></td>\n",
       "      <td>53</td>\n",
       "      <td>5</td>\n",
       "      <td>0 - 20000</td>\n",
       "      <td>0</td>\n",
       "      <td>0</td>\n",
       "      <td>0</td>\n",
       "      <td>0</td>\n",
       "      <td>0</td>\n",
       "      <td>{'Indie': 109, 'Action': 103, 'Pixel Graphics'...</td>\n",
       "    </tr>\n",
       "    <tr>\n",
       "      <th>1732930</th>\n",
       "      <td>Jolt Project</td>\n",
       "      <td>Nov 17, 2021</td>\n",
       "      <td>0</td>\n",
       "      <td>4.99</td>\n",
       "      <td>0</td>\n",
       "      <td>Jolt Project: The army now has a new robotics ...</td>\n",
       "      <td>Jolt Project: The army now has a new robotics ...</td>\n",
       "      <td>Shoot vehicles, blow enemies with a special at...</td>\n",
       "      <td></td>\n",
       "      <td>https://cdn.akamai.steamstatic.com/steam/apps/...</td>\n",
       "      <td>...</td>\n",
       "      <td></td>\n",
       "      <td>0</td>\n",
       "      <td>0</td>\n",
       "      <td>0 - 20000</td>\n",
       "      <td>0</td>\n",
       "      <td>0</td>\n",
       "      <td>0</td>\n",
       "      <td>0</td>\n",
       "      <td>0</td>\n",
       "      <td>[]</td>\n",
       "    </tr>\n",
       "    <tr>\n",
       "      <th>1355720</th>\n",
       "      <td>Henosis™</td>\n",
       "      <td>Jul 23, 2020</td>\n",
       "      <td>0</td>\n",
       "      <td>5.99</td>\n",
       "      <td>0</td>\n",
       "      <td>HENOSIS™ is a mysterious 2D Platform Puzzler w...</td>\n",
       "      <td>HENOSIS™ is a mysterious 2D Platform Puzzler w...</td>\n",
       "      <td>HENOSIS™ is a mysterious 2D Platform Puzzler w...</td>\n",
       "      <td></td>\n",
       "      <td>https://cdn.akamai.steamstatic.com/steam/apps/...</td>\n",
       "      <td>...</td>\n",
       "      <td></td>\n",
       "      <td>3</td>\n",
       "      <td>0</td>\n",
       "      <td>0 - 20000</td>\n",
       "      <td>0</td>\n",
       "      <td>0</td>\n",
       "      <td>0</td>\n",
       "      <td>0</td>\n",
       "      <td>0</td>\n",
       "      <td>{'2D Platformer': 161, 'Atmospheric': 154, 'Su...</td>\n",
       "    </tr>\n",
       "    <tr>\n",
       "      <th>1139950</th>\n",
       "      <td>Two Weeks in Painland</td>\n",
       "      <td>Feb 3, 2020</td>\n",
       "      <td>0</td>\n",
       "      <td>0.00</td>\n",
       "      <td>0</td>\n",
       "      <td>ABOUT THE GAME Play as a hacker who has arrang...</td>\n",
       "      <td>ABOUT THE GAME Play as a hacker who has arrang...</td>\n",
       "      <td>Two Weeks in Painland is a story-driven game a...</td>\n",
       "      <td></td>\n",
       "      <td>https://cdn.akamai.steamstatic.com/steam/apps/...</td>\n",
       "      <td>...</td>\n",
       "      <td></td>\n",
       "      <td>50</td>\n",
       "      <td>8</td>\n",
       "      <td>0 - 20000</td>\n",
       "      <td>0</td>\n",
       "      <td>0</td>\n",
       "      <td>0</td>\n",
       "      <td>0</td>\n",
       "      <td>0</td>\n",
       "      <td>{'Indie': 42, 'Adventure': 41, 'Nudity': 22, '...</td>\n",
       "    </tr>\n",
       "  </tbody>\n",
       "</table>\n",
       "<p>5 rows × 41 columns</p>\n",
       "</div>"
      ],
      "text/plain": [
       "                          name  release_date  required_age  price  dlc_count  \\\n",
       "app_id                                                                         \n",
       "20200         Galactic Bowling  Oct 21, 2008             0  19.99          0   \n",
       "655370            Train Bandit  Oct 12, 2017             0   0.99          0   \n",
       "1732930           Jolt Project  Nov 17, 2021             0   4.99          0   \n",
       "1355720               Henosis™  Jul 23, 2020             0   5.99          0   \n",
       "1139950  Two Weeks in Painland   Feb 3, 2020             0   0.00          0   \n",
       "\n",
       "                                      detailed_description  \\\n",
       "app_id                                                       \n",
       "20200    Galactic Bowling is an exaggerated and stylize...   \n",
       "655370   THE LAW!! Looks to be a showdown atop a train....   \n",
       "1732930  Jolt Project: The army now has a new robotics ...   \n",
       "1355720  HENOSIS™ is a mysterious 2D Platform Puzzler w...   \n",
       "1139950  ABOUT THE GAME Play as a hacker who has arrang...   \n",
       "\n",
       "                                            about_the_game  \\\n",
       "app_id                                                       \n",
       "20200    Galactic Bowling is an exaggerated and stylize...   \n",
       "655370   THE LAW!! Looks to be a showdown atop a train....   \n",
       "1732930  Jolt Project: The army now has a new robotics ...   \n",
       "1355720  HENOSIS™ is a mysterious 2D Platform Puzzler w...   \n",
       "1139950  ABOUT THE GAME Play as a hacker who has arrang...   \n",
       "\n",
       "                                         short_description reviews  \\\n",
       "app_id                                                               \n",
       "20200    Galactic Bowling is an exaggerated and stylize...           \n",
       "655370   THE LAW!! Looks to be a showdown atop a train....           \n",
       "1732930  Shoot vehicles, blow enemies with a special at...           \n",
       "1355720  HENOSIS™ is a mysterious 2D Platform Puzzler w...           \n",
       "1139950  Two Weeks in Painland is a story-driven game a...           \n",
       "\n",
       "                                              header_image  ... score_rank  \\\n",
       "app_id                                                      ...              \n",
       "20200    https://cdn.akamai.steamstatic.com/steam/apps/...  ...              \n",
       "655370   https://cdn.akamai.steamstatic.com/steam/apps/...  ...              \n",
       "1732930  https://cdn.akamai.steamstatic.com/steam/apps/...  ...              \n",
       "1355720  https://cdn.akamai.steamstatic.com/steam/apps/...  ...              \n",
       "1139950  https://cdn.akamai.steamstatic.com/steam/apps/...  ...              \n",
       "\n",
       "        positive negative  estimated_owners  average_playtime_forever  \\\n",
       "app_id                                                                  \n",
       "20200          6       11         0 - 20000                         0   \n",
       "655370        53        5         0 - 20000                         0   \n",
       "1732930        0        0         0 - 20000                         0   \n",
       "1355720        3        0         0 - 20000                         0   \n",
       "1139950       50        8         0 - 20000                         0   \n",
       "\n",
       "         average_playtime_2weeks  median_playtime_forever  \\\n",
       "app_id                                                      \n",
       "20200                          0                        0   \n",
       "655370                         0                        0   \n",
       "1732930                        0                        0   \n",
       "1355720                        0                        0   \n",
       "1139950                        0                        0   \n",
       "\n",
       "        median_playtime_2weeks  peak_ccu  \\\n",
       "app_id                                     \n",
       "20200                        0         0   \n",
       "655370                       0         0   \n",
       "1732930                      0         0   \n",
       "1355720                      0         0   \n",
       "1139950                      0         0   \n",
       "\n",
       "                                                      tags  \n",
       "app_id                                                      \n",
       "20200    {'Indie': 22, 'Casual': 21, 'Sports': 21, 'Bow...  \n",
       "655370   {'Indie': 109, 'Action': 103, 'Pixel Graphics'...  \n",
       "1732930                                                 []  \n",
       "1355720  {'2D Platformer': 161, 'Atmospheric': 154, 'Su...  \n",
       "1139950  {'Indie': 42, 'Adventure': 41, 'Nudity': 22, '...  \n",
       "\n",
       "[5 rows x 41 columns]"
      ]
     },
     "execution_count": 3,
     "metadata": {},
     "output_type": "execute_result"
    }
   ],
   "source": [
    "#Get a sense of what the data looks like\n",
    "df.head()"
   ]
  },
  {
   "cell_type": "code",
   "execution_count": 4,
   "id": "249011ed",
   "metadata": {
    "execution": {
     "iopub.execute_input": "2025-02-20T22:03:40.815951Z",
     "iopub.status.busy": "2025-02-20T22:03:40.815609Z",
     "iopub.status.idle": "2025-02-20T22:03:40.838110Z",
     "shell.execute_reply": "2025-02-20T22:03:40.837157Z"
    },
    "papermill": {
     "duration": 0.036958,
     "end_time": "2025-02-20T22:03:40.839911",
     "exception": false,
     "start_time": "2025-02-20T22:03:40.802953",
     "status": "completed"
    },
    "tags": []
   },
   "outputs": [
    {
     "data": {
      "text/plain": [
       "app_id\n",
       "20200      1\n",
       "2016110    1\n",
       "2193610    1\n",
       "1997040    1\n",
       "1965920    1\n",
       "          ..\n",
       "380        1\n",
       "1475740    1\n",
       "1021680    1\n",
       "816250     1\n",
       "3054200    1\n",
       "Name: count, Length: 97410, dtype: int64"
      ]
     },
     "execution_count": 4,
     "metadata": {},
     "output_type": "execute_result"
    }
   ],
   "source": [
    "#Ensure the index (app_id) is the unique key\n",
    "df.index.value_counts()"
   ]
  },
  {
   "cell_type": "code",
   "execution_count": 5,
   "id": "0c92589a",
   "metadata": {
    "execution": {
     "iopub.execute_input": "2025-02-20T22:03:40.860847Z",
     "iopub.status.busy": "2025-02-20T22:03:40.860286Z",
     "iopub.status.idle": "2025-02-20T22:03:41.197610Z",
     "shell.execute_reply": "2025-02-20T22:03:41.196326Z"
    },
    "papermill": {
     "duration": 0.350136,
     "end_time": "2025-02-20T22:03:41.199849",
     "exception": false,
     "start_time": "2025-02-20T22:03:40.849713",
     "status": "completed"
    },
    "tags": []
   },
   "outputs": [
    {
     "name": "stdout",
     "output_type": "stream",
     "text": [
      "<class 'pandas.core.frame.DataFrame'>\n",
      "Index: 97410 entries, 20200 to 3054200\n",
      "Data columns (total 41 columns):\n",
      " #   Column                    Non-Null Count  Dtype  \n",
      "---  ------                    --------------  -----  \n",
      " 0   name                      97410 non-null  object \n",
      " 1   release_date              97410 non-null  object \n",
      " 2   required_age              97410 non-null  int64  \n",
      " 3   price                     97410 non-null  float64\n",
      " 4   dlc_count                 97410 non-null  int64  \n",
      " 5   detailed_description      97410 non-null  object \n",
      " 6   about_the_game            97410 non-null  object \n",
      " 7   short_description         97410 non-null  object \n",
      " 8   reviews                   97410 non-null  object \n",
      " 9   header_image              97410 non-null  object \n",
      " 10  website                   97410 non-null  object \n",
      " 11  support_url               97410 non-null  object \n",
      " 12  support_email             97410 non-null  object \n",
      " 13  windows                   97410 non-null  bool   \n",
      " 14  mac                       97410 non-null  bool   \n",
      " 15  linux                     97410 non-null  bool   \n",
      " 16  metacritic_score          97410 non-null  int64  \n",
      " 17  metacritic_url            97410 non-null  object \n",
      " 18  achievements              97410 non-null  int64  \n",
      " 19  recommendations           97410 non-null  int64  \n",
      " 20  notes                     97410 non-null  object \n",
      " 21  supported_languages       97410 non-null  object \n",
      " 22  full_audio_languages      97410 non-null  object \n",
      " 23  packages                  97410 non-null  object \n",
      " 24  developers                97410 non-null  object \n",
      " 25  publishers                97410 non-null  object \n",
      " 26  categories                97410 non-null  object \n",
      " 27  genres                    97410 non-null  object \n",
      " 28  screenshots               97410 non-null  object \n",
      " 29  movies                    97410 non-null  object \n",
      " 30  user_score                97410 non-null  int64  \n",
      " 31  score_rank                97410 non-null  object \n",
      " 32  positive                  97410 non-null  int64  \n",
      " 33  negative                  97410 non-null  int64  \n",
      " 34  estimated_owners          97410 non-null  object \n",
      " 35  average_playtime_forever  97410 non-null  int64  \n",
      " 36  average_playtime_2weeks   97410 non-null  int64  \n",
      " 37  median_playtime_forever   97410 non-null  int64  \n",
      " 38  median_playtime_2weeks    97410 non-null  int64  \n",
      " 39  peak_ccu                  97410 non-null  int64  \n",
      " 40  tags                      97410 non-null  object \n",
      "dtypes: bool(3), float64(1), int64(13), object(24)\n",
      "memory usage: 29.3+ MB\n"
     ]
    }
   ],
   "source": [
    "#Look into the data columns\n",
    "df.info()"
   ]
  },
  {
   "cell_type": "markdown",
   "id": "fce88b01",
   "metadata": {
    "papermill": {
     "duration": 0.009651,
     "end_time": "2025-02-20T22:03:41.219965",
     "exception": false,
     "start_time": "2025-02-20T22:03:41.210314",
     "status": "completed"
    },
    "tags": []
   },
   "source": [
    "From this step, it looks as though all fields hold valid values for the entire dataset. While a positive surprise, we should try and look deeper into some specific fields. At this moment, we want to understand if columns such as `notes` hold any insightful data."
   ]
  },
  {
   "cell_type": "markdown",
   "id": "dc1d4aa6",
   "metadata": {
    "papermill": {
     "duration": 0.009229,
     "end_time": "2025-02-20T22:03:41.239716",
     "exception": false,
     "start_time": "2025-02-20T22:03:41.230487",
     "status": "completed"
    },
    "tags": []
   },
   "source": [
    "## 2.1. Early Exclusion Candidates\n",
    "\n",
    "Here, we are going to attempt to perform an initial filter on fields we might deem irrelevant for the analysis. As we have explored the data much at this point, the selected fields for investigation are based on the sample data we already saw and on the perceived information they hold based on their names.\n",
    "\n",
    "For each field, we might perform different evaluations. What you are going to see here is the result of some behind the curtain analysis."
   ]
  },
  {
   "cell_type": "code",
   "execution_count": 6,
   "id": "a5b4fd97",
   "metadata": {
    "execution": {
     "iopub.execute_input": "2025-02-20T22:03:41.259994Z",
     "iopub.status.busy": "2025-02-20T22:03:41.259650Z",
     "iopub.status.idle": "2025-02-20T22:03:41.371669Z",
     "shell.execute_reply": "2025-02-20T22:03:41.369929Z"
    },
    "papermill": {
     "duration": 0.1257,
     "end_time": "2025-02-20T22:03:41.374806",
     "exception": false,
     "start_time": "2025-02-20T22:03:41.249106",
     "status": "completed"
    },
    "tags": []
   },
   "outputs": [
    {
     "data": {
      "text/plain": [
       "header_image\n",
       "https://cdn.akamai.steamstatic.com/steam/apps/750920/header.jpg?t=1644931091                          20\n",
       "https://cdn.akamai.steamstatic.com/steam/apps/24010/header.jpg?t=1658409119                            5\n",
       "https://cdn.akamai.steamstatic.com/steam/apps/359550/header.jpg?t=1655223333                           5\n",
       "https://cdn.akamai.steamstatic.com/steam/apps/37960/header.jpg?t=1447352428                            4\n",
       "https://cdn.akamai.steamstatic.com/steam/apps/2195250/header.jpg?t=1701266064                          4\n",
       "                                                                                                      ..\n",
       "https://cdn.akamai.steamstatic.com/steam/apps/29700/header.jpg?t=1598612361                            1\n",
       "https://cdn.akamai.steamstatic.com/steam/apps/804700/header.jpg?t=1647259710                           1\n",
       "https://cdn.akamai.steamstatic.com/steam/apps/365580/header.jpg?t=1447373140                           1\n",
       "https://cdn.akamai.steamstatic.com/steam/apps/1837470/header.jpg?t=1639726708                          1\n",
       "https://shared.akamai.steamstatic.com/store_item_assets/steam/apps/3054200/header.jpg?t=1725032216     1\n",
       "Name: count, Length: 97301, dtype: int64"
      ]
     },
     "execution_count": 6,
     "metadata": {},
     "output_type": "execute_result"
    }
   ],
   "source": [
    "#header_image\n",
    "df.header_image.value_counts()"
   ]
  },
  {
   "cell_type": "code",
   "execution_count": 7,
   "id": "02557e4e",
   "metadata": {
    "execution": {
     "iopub.execute_input": "2025-02-20T22:03:41.397209Z",
     "iopub.status.busy": "2025-02-20T22:03:41.396848Z",
     "iopub.status.idle": "2025-02-20T22:03:41.445529Z",
     "shell.execute_reply": "2025-02-20T22:03:41.444305Z"
    },
    "papermill": {
     "duration": 0.062288,
     "end_time": "2025-02-20T22:03:41.447297",
     "exception": false,
     "start_time": "2025-02-20T22:03:41.385009",
     "status": "completed"
    },
    "tags": []
   },
   "outputs": [
    {
     "data": {
      "text/plain": [
       "website\n",
       "                                                 54673\n",
       "https://www.facebook.com/8FloorGames/              274\n",
       "http://www.exosyphen.com                           204\n",
       "https://www.choiceofgames.com/                     153\n",
       "https://steamcommunity.com/groups/alawargames       92\n",
       "                                                 ...  \n",
       "https://vasonastudios.com/                           1\n",
       "https://www.facebook.com/MistSurvival/               1\n",
       "http://www.xperienciavirtual.es/                     1\n",
       "https://tendaystowar.zerobyter.net/                  1\n",
       "https://www.dreamengineproductions.com/              1\n",
       "Name: count, Length: 34763, dtype: int64"
      ]
     },
     "execution_count": 7,
     "metadata": {},
     "output_type": "execute_result"
    }
   ],
   "source": [
    "#website\n",
    "df.website.value_counts()"
   ]
  },
  {
   "cell_type": "code",
   "execution_count": 8,
   "id": "18cbc415",
   "metadata": {
    "execution": {
     "iopub.execute_input": "2025-02-20T22:03:41.468830Z",
     "iopub.status.busy": "2025-02-20T22:03:41.468494Z",
     "iopub.status.idle": "2025-02-20T22:03:41.518062Z",
     "shell.execute_reply": "2025-02-20T22:03:41.516880Z"
    },
    "papermill": {
     "duration": 0.062532,
     "end_time": "2025-02-20T22:03:41.520011",
     "exception": false,
     "start_time": "2025-02-20T22:03:41.457479",
     "status": "completed"
    },
    "tags": []
   },
   "outputs": [
    {
     "data": {
      "text/plain": [
       "support_url\n",
       "                                              51463\n",
       "https://www.facebook.com/8FloorGames            298\n",
       "https://bigfishgames.zendesk.com/hc/en-us/      260\n",
       "https://bigfishgames.custhelp.com/app/home      223\n",
       "https://www.choiceofgames.com/contact-us/       204\n",
       "                                              ...  \n",
       "http://support.immersedgames.com                  1\n",
       "https://discord.gg/QnnUMCM2w3                     1\n",
       "touwaku.com                                       1\n",
       "https://twitter.com/TD12734                       1\n",
       "https://www.dreamengineproductions.com/           1\n",
       "Name: count, Length: 30083, dtype: int64"
      ]
     },
     "execution_count": 8,
     "metadata": {},
     "output_type": "execute_result"
    }
   ],
   "source": [
    "#support_url\n",
    "df.support_url.value_counts()"
   ]
  },
  {
   "cell_type": "code",
   "execution_count": 9,
   "id": "4c6e10a5",
   "metadata": {
    "execution": {
     "iopub.execute_input": "2025-02-20T22:03:41.542926Z",
     "iopub.status.busy": "2025-02-20T22:03:41.542589Z",
     "iopub.status.idle": "2025-02-20T22:03:41.601743Z",
     "shell.execute_reply": "2025-02-20T22:03:41.600526Z"
    },
    "papermill": {
     "duration": 0.072823,
     "end_time": "2025-02-20T22:03:41.603510",
     "exception": false,
     "start_time": "2025-02-20T22:03:41.530687",
     "status": "completed"
    },
    "tags": []
   },
   "outputs": [
    {
     "name": "stderr",
     "output_type": "stream",
     "text": [
      "<ipython-input-9-e99ee1aebd4f>:3: SettingWithCopyWarning: \n",
      "A value is trying to be set on a copy of a slice from a DataFrame.\n",
      "Try using .loc[row_indexer,col_indexer] = value instead\n",
      "\n",
      "See the caveats in the documentation: https://pandas.pydata.org/pandas-docs/stable/user_guide/indexing.html#returning-a-view-versus-a-copy\n",
      "  aux[\"has_support\"] = (aux != '').max(axis=1)\n"
     ]
    },
    {
     "data": {
      "text/plain": [
       "has_support\n",
       "True     91586\n",
       "False     5824\n",
       "Name: count, dtype: int64"
      ]
     },
     "execution_count": 9,
     "metadata": {},
     "output_type": "execute_result"
    }
   ],
   "source": [
    "#support_email and support_url\n",
    "aux = df[[\"support_url\", \"support_email\"]]\n",
    "aux[\"has_support\"] = (aux != '').max(axis=1)\n",
    "aux.has_support.value_counts()"
   ]
  },
  {
   "cell_type": "code",
   "execution_count": 10,
   "id": "564b73ec",
   "metadata": {
    "execution": {
     "iopub.execute_input": "2025-02-20T22:03:41.626073Z",
     "iopub.status.busy": "2025-02-20T22:03:41.625736Z",
     "iopub.status.idle": "2025-02-20T22:03:41.637432Z",
     "shell.execute_reply": "2025-02-20T22:03:41.636233Z"
    },
    "papermill": {
     "duration": 0.024725,
     "end_time": "2025-02-20T22:03:41.639381",
     "exception": false,
     "start_time": "2025-02-20T22:03:41.614656",
     "status": "completed"
    },
    "tags": []
   },
   "outputs": [
    {
     "data": {
      "text/plain": [
       "achievements\n",
       "0       50189\n",
       "1        1058\n",
       "2         594\n",
       "3         801\n",
       "4        1011\n",
       "        ...  \n",
       "4997        1\n",
       "4999        1\n",
       "5000       59\n",
       "5394        1\n",
       "9821        1\n",
       "Name: count, Length: 434, dtype: int64"
      ]
     },
     "execution_count": 10,
     "metadata": {},
     "output_type": "execute_result"
    }
   ],
   "source": [
    "#achievements\n",
    "df.achievements.value_counts().sort_index()"
   ]
  },
  {
   "cell_type": "code",
   "execution_count": 11,
   "id": "a2db3933",
   "metadata": {
    "execution": {
     "iopub.execute_input": "2025-02-20T22:03:41.661563Z",
     "iopub.status.busy": "2025-02-20T22:03:41.661169Z",
     "iopub.status.idle": "2025-02-20T22:03:41.671550Z",
     "shell.execute_reply": "2025-02-20T22:03:41.669898Z"
    },
    "papermill": {
     "duration": 0.024454,
     "end_time": "2025-02-20T22:03:41.674082",
     "exception": false,
     "start_time": "2025-02-20T22:03:41.649628",
     "status": "completed"
    },
    "tags": []
   },
   "outputs": [
    {
     "data": {
      "text/plain": [
       "recommendations\n",
       "0        83062\n",
       "116         69\n",
       "105         68\n",
       "106         67\n",
       "109         66\n",
       "         ...  \n",
       "9528         1\n",
       "1459         1\n",
       "10535        1\n",
       "3539         1\n",
       "6520         1\n",
       "Name: count, Length: 4094, dtype: int64"
      ]
     },
     "execution_count": 11,
     "metadata": {},
     "output_type": "execute_result"
    }
   ],
   "source": [
    "#recommendations\n",
    "df.recommendations.value_counts()"
   ]
  },
  {
   "cell_type": "code",
   "execution_count": 12,
   "id": "44a71707",
   "metadata": {
    "execution": {
     "iopub.execute_input": "2025-02-20T22:03:41.698516Z",
     "iopub.status.busy": "2025-02-20T22:03:41.698118Z",
     "iopub.status.idle": "2025-02-20T22:03:41.728655Z",
     "shell.execute_reply": "2025-02-20T22:03:41.726985Z"
    },
    "papermill": {
     "duration": 0.045013,
     "end_time": "2025-02-20T22:03:41.730660",
     "exception": false,
     "start_time": "2025-02-20T22:03:41.685647",
     "status": "completed"
    },
    "tags": []
   },
   "outputs": [
    {
     "data": {
      "text/plain": [
       "notes\n",
       "                                                                                                                                                                                                                           81936\n",
       "This Game may contain content not appropriate for all ages, or may not be appropriate for viewing at work: Frequent Violence or Gore, General Mature Content                                                                 122\n",
       "Nakedness. All characters appearing in this game are over 18 years of age.                                                                                                                                                   115\n",
       "-Nudity or sexual content -Not suitable for watching at work -Not suitable for all ages -All characters in the game are over 18 years old                                                                                     67\n",
       "This Game may contain content not appropriate for all ages, or may not be appropriate for viewing at work: Nudity or Sexual Content, General Mature Content                                                                   41\n",
       "                                                                                                                                                                                                                           ...  \n",
       "This game depicts gratuitous cartoon violence, partial nudity, adult situations, and explicit language some may find offensive. Viewer discretion is advised.                                                                  1\n",
       "Contains cartoon violence/nudity, occasional strong language and adult themes.                                                                                                                                                 1\n",
       "Hentai Block Breaker contains nudity as a main part of the game. No other mature content is included.                                                                                                                          1\n",
       "Excessive pixelated gore, partial pixelated nudity, use of tobacco, and reference to alcohol.                                                                                                                                  1\n",
       "WARNING! This game is for ADULTS only and contains sexually explicit material that some viewers may find offensive. The game contains bondage, BDSM and incest. All characters shown in the game are over 18 years old.        1\n",
       "Name: count, Length: 12718, dtype: int64"
      ]
     },
     "execution_count": 12,
     "metadata": {},
     "output_type": "execute_result"
    }
   ],
   "source": [
    "#notes\n",
    "df.notes.value_counts()"
   ]
  },
  {
   "cell_type": "code",
   "execution_count": 13,
   "id": "fe33b0db",
   "metadata": {
    "execution": {
     "iopub.execute_input": "2025-02-20T22:03:41.753960Z",
     "iopub.status.busy": "2025-02-20T22:03:41.753564Z",
     "iopub.status.idle": "2025-02-20T22:03:41.764899Z",
     "shell.execute_reply": "2025-02-20T22:03:41.763292Z"
    },
    "papermill": {
     "duration": 0.025471,
     "end_time": "2025-02-20T22:03:41.767010",
     "exception": false,
     "start_time": "2025-02-20T22:03:41.741539",
     "status": "completed"
    },
    "tags": []
   },
   "outputs": [
    {
     "data": {
      "text/plain": [
       "app_id\n",
       "20200      [{'title': 'Buy Galactic Bowling', 'descriptio...\n",
       "655370     [{'title': 'Buy Train Bandit', 'description': ...\n",
       "1732930    [{'title': 'Buy Jolt Project', 'description': ...\n",
       "1355720    [{'title': 'Buy Henosis™', 'description': '', ...\n",
       "1139950                                                   []\n",
       "Name: packages, dtype: object"
      ]
     },
     "execution_count": 13,
     "metadata": {},
     "output_type": "execute_result"
    }
   ],
   "source": [
    "#packages\n",
    "df.packages.head()"
   ]
  },
  {
   "cell_type": "code",
   "execution_count": 14,
   "id": "c7a2769c",
   "metadata": {
    "execution": {
     "iopub.execute_input": "2025-02-20T22:03:41.794572Z",
     "iopub.status.busy": "2025-02-20T22:03:41.794148Z",
     "iopub.status.idle": "2025-02-20T22:03:41.801987Z",
     "shell.execute_reply": "2025-02-20T22:03:41.800582Z"
    },
    "papermill": {
     "duration": 0.022789,
     "end_time": "2025-02-20T22:03:41.804119",
     "exception": false,
     "start_time": "2025-02-20T22:03:41.781330",
     "status": "completed"
    },
    "tags": []
   },
   "outputs": [
    {
     "data": {
      "text/plain": [
       "array([list([{'title': 'Buy Galactic Bowling', 'description': '', 'subs': [{'text': 'Galactic Bowling - $19.99', 'description': '', 'price': 19.99}]}]),\n",
       "       list([{'title': 'Buy Train Bandit', 'description': '', 'subs': [{'text': 'Train Bandit - $0.99', 'description': '', 'price': 0.99}]}]),\n",
       "       list([{'title': 'Buy Jolt Project', 'description': '', 'subs': [{'text': 'Jolt Project - $4.99', 'description': '', 'price': 4.99}]}]),\n",
       "       list([{'title': 'Buy Henosis™', 'description': '', 'subs': [{'text': 'Henosis - $5.99', 'description': '', 'price': 5.99}]}]),\n",
       "       list([]), list([]),\n",
       "       list([{'title': 'Buy TD Worlds', 'description': '', 'subs': [{'text': 'TD Worlds - $10.99', 'description': '', 'price': 10.99}]}]),\n",
       "       list([{'title': 'Buy Legend of Rome - The Wrath of Mars', 'description': '', 'subs': [{'text': 'Legend of Rome - The Wrath of Mars - $9.99', 'description': '', 'price': 9.99}]}]),\n",
       "       list([{'title': 'Buy MazM: Jekyll and Hyde', 'description': '', 'subs': [{'text': 'Jekyll & Hyde - $14.99', 'description': '', 'price': 14.99}]}]),\n",
       "       list([{'title': 'Buy Deadlings: Rotten Edition', 'description': '', 'subs': [{'text': 'Deadlings - Rotten Edition - $3.99', 'description': '', 'price': 3.99}]}])],\n",
       "      dtype=object)"
      ]
     },
     "execution_count": 14,
     "metadata": {},
     "output_type": "execute_result"
    }
   ],
   "source": [
    "df.packages.head(10).values"
   ]
  },
  {
   "cell_type": "code",
   "execution_count": 15,
   "id": "ec54fd63",
   "metadata": {
    "execution": {
     "iopub.execute_input": "2025-02-20T22:03:41.828295Z",
     "iopub.status.busy": "2025-02-20T22:03:41.827895Z",
     "iopub.status.idle": "2025-02-20T22:03:41.836785Z",
     "shell.execute_reply": "2025-02-20T22:03:41.835115Z"
    },
    "papermill": {
     "duration": 0.022968,
     "end_time": "2025-02-20T22:03:41.839009",
     "exception": false,
     "start_time": "2025-02-20T22:03:41.816041",
     "status": "completed"
    },
    "tags": []
   },
   "outputs": [
    {
     "data": {
      "text/plain": [
       "app_id\n",
       "20200      [https://cdn.akamai.steamstatic.com/steam/apps...\n",
       "655370     [https://cdn.akamai.steamstatic.com/steam/apps...\n",
       "1732930    [https://cdn.akamai.steamstatic.com/steam/apps...\n",
       "1355720    [https://cdn.akamai.steamstatic.com/steam/apps...\n",
       "1139950    [https://cdn.akamai.steamstatic.com/steam/apps...\n",
       "Name: screenshots, dtype: object"
      ]
     },
     "execution_count": 15,
     "metadata": {},
     "output_type": "execute_result"
    }
   ],
   "source": [
    "#screenshots\n",
    "df.screenshots.head()"
   ]
  },
  {
   "cell_type": "code",
   "execution_count": 16,
   "id": "5ceb42b7",
   "metadata": {
    "execution": {
     "iopub.execute_input": "2025-02-20T22:03:41.862968Z",
     "iopub.status.busy": "2025-02-20T22:03:41.862473Z",
     "iopub.status.idle": "2025-02-20T22:03:41.872468Z",
     "shell.execute_reply": "2025-02-20T22:03:41.870676Z"
    },
    "papermill": {
     "duration": 0.024936,
     "end_time": "2025-02-20T22:03:41.874860",
     "exception": false,
     "start_time": "2025-02-20T22:03:41.849924",
     "status": "completed"
    },
    "tags": []
   },
   "outputs": [
    {
     "data": {
      "text/plain": [
       "app_id\n",
       "20200      [http://cdn.akamai.steamstatic.com/steam/apps/...\n",
       "655370     [http://cdn.akamai.steamstatic.com/steam/apps/...\n",
       "1732930    [http://cdn.akamai.steamstatic.com/steam/apps/...\n",
       "1355720    [http://cdn.akamai.steamstatic.com/steam/apps/...\n",
       "1139950    [http://cdn.akamai.steamstatic.com/steam/apps/...\n",
       "Name: movies, dtype: object"
      ]
     },
     "execution_count": 16,
     "metadata": {},
     "output_type": "execute_result"
    }
   ],
   "source": [
    "#movies\n",
    "df.movies.head()"
   ]
  },
  {
   "cell_type": "markdown",
   "id": "cdfd81cc",
   "metadata": {
    "papermill": {
     "duration": 0.016574,
     "end_time": "2025-02-20T22:03:41.905712",
     "exception": false,
     "start_time": "2025-02-20T22:03:41.889138",
     "status": "completed"
    },
    "tags": []
   },
   "source": [
    "From a quick analysis of the columns above, we came if a few insights:\n",
    "* None of the investigated fields should be removed at this moment. In one way or another, they present some potential for the upcoming analyses;\n",
    "* **Some of the fields could use some transformation**. For instance, the `screenshots` column is not very useful as is. We could, however, count the amount of existing screenshot for a title and use it instead;\n",
    "* The `header_image` distritibution showed some very interesting behaviour. Even though we validated the index coming from the data is unique, we see a **number of instances in which different games have the same header image**. While this is not necessarily an issue, the best course of action is to explore this further to ensure data quality.\n",
    "\n",
    "Let's now take care of the highlighed points, starting with the data quality concerns."
   ]
  },
  {
   "cell_type": "markdown",
   "id": "f43bf7ca",
   "metadata": {
    "execution": {
     "iopub.execute_input": "2025-02-18T22:14:00.627551Z",
     "iopub.status.busy": "2025-02-18T22:14:00.626817Z",
     "iopub.status.idle": "2025-02-18T22:14:00.633549Z",
     "shell.execute_reply": "2025-02-18T22:14:00.631621Z",
     "shell.execute_reply.started": "2025-02-18T22:14:00.627513Z"
    },
    "papermill": {
     "duration": 0.020059,
     "end_time": "2025-02-20T22:03:41.938125",
     "exception": false,
     "start_time": "2025-02-20T22:03:41.918066",
     "status": "completed"
    },
    "tags": []
   },
   "source": [
    "## 2.2. Investigate Potential Duplicates"
   ]
  },
  {
   "cell_type": "code",
   "execution_count": 17,
   "id": "4f97b709",
   "metadata": {
    "execution": {
     "iopub.execute_input": "2025-02-20T22:03:41.967673Z",
     "iopub.status.busy": "2025-02-20T22:03:41.967245Z",
     "iopub.status.idle": "2025-02-20T22:03:42.119027Z",
     "shell.execute_reply": "2025-02-20T22:03:42.118148Z"
    },
    "papermill": {
     "duration": 0.168102,
     "end_time": "2025-02-20T22:03:42.120853",
     "exception": false,
     "start_time": "2025-02-20T22:03:41.952751",
     "status": "completed"
    },
    "tags": []
   },
   "outputs": [],
   "source": [
    "#Identify potential duplicates\n",
    "duplicates = df.header_image.value_counts()\n",
    "duplicates = duplicates[duplicates > 1]\n",
    "\n",
    "duplicates_df = df.join(on=\"header_image\", other=duplicates, how=\"inner\").sort_values(by=\"header_image\")"
   ]
  },
  {
   "cell_type": "code",
   "execution_count": 18,
   "id": "a855425a",
   "metadata": {
    "execution": {
     "iopub.execute_input": "2025-02-20T22:03:42.145451Z",
     "iopub.status.busy": "2025-02-20T22:03:42.145084Z",
     "iopub.status.idle": "2025-02-20T22:03:42.201671Z",
     "shell.execute_reply": "2025-02-20T22:03:42.200525Z"
    },
    "papermill": {
     "duration": 0.070421,
     "end_time": "2025-02-20T22:03:42.203485",
     "exception": false,
     "start_time": "2025-02-20T22:03:42.133064",
     "status": "completed"
    },
    "tags": []
   },
   "outputs": [
    {
     "data": {
      "text/html": [
       "<div>\n",
       "<style scoped>\n",
       "    .dataframe tbody tr th:only-of-type {\n",
       "        vertical-align: middle;\n",
       "    }\n",
       "\n",
       "    .dataframe tbody tr th {\n",
       "        vertical-align: top;\n",
       "    }\n",
       "\n",
       "    .dataframe thead th {\n",
       "        text-align: right;\n",
       "    }\n",
       "</style>\n",
       "<table border=\"1\" class=\"dataframe\">\n",
       "  <thead>\n",
       "    <tr style=\"text-align: right;\">\n",
       "      <th></th>\n",
       "      <th>field_name</th>\n",
       "      <th>instances_with_distinct_values</th>\n",
       "    </tr>\n",
       "  </thead>\n",
       "  <tbody>\n",
       "    <tr>\n",
       "      <th>32</th>\n",
       "      <td>positive</td>\n",
       "      <td>67</td>\n",
       "    </tr>\n",
       "    <tr>\n",
       "      <th>33</th>\n",
       "      <td>negative</td>\n",
       "      <td>67</td>\n",
       "    </tr>\n",
       "    <tr>\n",
       "      <th>40</th>\n",
       "      <td>tags</td>\n",
       "      <td>66</td>\n",
       "    </tr>\n",
       "    <tr>\n",
       "      <th>37</th>\n",
       "      <td>median_playtime_forever</td>\n",
       "      <td>66</td>\n",
       "    </tr>\n",
       "    <tr>\n",
       "      <th>35</th>\n",
       "      <td>average_playtime_forever</td>\n",
       "      <td>66</td>\n",
       "    </tr>\n",
       "    <tr>\n",
       "      <th>39</th>\n",
       "      <td>peak_ccu</td>\n",
       "      <td>62</td>\n",
       "    </tr>\n",
       "    <tr>\n",
       "      <th>34</th>\n",
       "      <td>estimated_owners</td>\n",
       "      <td>51</td>\n",
       "    </tr>\n",
       "    <tr>\n",
       "      <th>19</th>\n",
       "      <td>recommendations</td>\n",
       "      <td>30</td>\n",
       "    </tr>\n",
       "    <tr>\n",
       "      <th>38</th>\n",
       "      <td>median_playtime_2weeks</td>\n",
       "      <td>22</td>\n",
       "    </tr>\n",
       "    <tr>\n",
       "      <th>36</th>\n",
       "      <td>average_playtime_2weeks</td>\n",
       "      <td>22</td>\n",
       "    </tr>\n",
       "    <tr>\n",
       "      <th>23</th>\n",
       "      <td>packages</td>\n",
       "      <td>2</td>\n",
       "    </tr>\n",
       "    <tr>\n",
       "      <th>3</th>\n",
       "      <td>price</td>\n",
       "      <td>2</td>\n",
       "    </tr>\n",
       "    <tr>\n",
       "      <th>22</th>\n",
       "      <td>full_audio_languages</td>\n",
       "      <td>0</td>\n",
       "    </tr>\n",
       "    <tr>\n",
       "      <th>31</th>\n",
       "      <td>score_rank</td>\n",
       "      <td>0</td>\n",
       "    </tr>\n",
       "    <tr>\n",
       "      <th>30</th>\n",
       "      <td>user_score</td>\n",
       "      <td>0</td>\n",
       "    </tr>\n",
       "    <tr>\n",
       "      <th>29</th>\n",
       "      <td>movies</td>\n",
       "      <td>0</td>\n",
       "    </tr>\n",
       "    <tr>\n",
       "      <th>28</th>\n",
       "      <td>screenshots</td>\n",
       "      <td>0</td>\n",
       "    </tr>\n",
       "    <tr>\n",
       "      <th>27</th>\n",
       "      <td>genres</td>\n",
       "      <td>0</td>\n",
       "    </tr>\n",
       "    <tr>\n",
       "      <th>26</th>\n",
       "      <td>categories</td>\n",
       "      <td>0</td>\n",
       "    </tr>\n",
       "    <tr>\n",
       "      <th>25</th>\n",
       "      <td>publishers</td>\n",
       "      <td>0</td>\n",
       "    </tr>\n",
       "    <tr>\n",
       "      <th>24</th>\n",
       "      <td>developers</td>\n",
       "      <td>0</td>\n",
       "    </tr>\n",
       "    <tr>\n",
       "      <th>0</th>\n",
       "      <td>name</td>\n",
       "      <td>0</td>\n",
       "    </tr>\n",
       "    <tr>\n",
       "      <th>21</th>\n",
       "      <td>supported_languages</td>\n",
       "      <td>0</td>\n",
       "    </tr>\n",
       "    <tr>\n",
       "      <th>1</th>\n",
       "      <td>release_date</td>\n",
       "      <td>0</td>\n",
       "    </tr>\n",
       "    <tr>\n",
       "      <th>10</th>\n",
       "      <td>website</td>\n",
       "      <td>0</td>\n",
       "    </tr>\n",
       "    <tr>\n",
       "      <th>2</th>\n",
       "      <td>required_age</td>\n",
       "      <td>0</td>\n",
       "    </tr>\n",
       "    <tr>\n",
       "      <th>4</th>\n",
       "      <td>dlc_count</td>\n",
       "      <td>0</td>\n",
       "    </tr>\n",
       "    <tr>\n",
       "      <th>5</th>\n",
       "      <td>detailed_description</td>\n",
       "      <td>0</td>\n",
       "    </tr>\n",
       "    <tr>\n",
       "      <th>6</th>\n",
       "      <td>about_the_game</td>\n",
       "      <td>0</td>\n",
       "    </tr>\n",
       "    <tr>\n",
       "      <th>7</th>\n",
       "      <td>short_description</td>\n",
       "      <td>0</td>\n",
       "    </tr>\n",
       "    <tr>\n",
       "      <th>8</th>\n",
       "      <td>reviews</td>\n",
       "      <td>0</td>\n",
       "    </tr>\n",
       "    <tr>\n",
       "      <th>9</th>\n",
       "      <td>header_image</td>\n",
       "      <td>0</td>\n",
       "    </tr>\n",
       "    <tr>\n",
       "      <th>11</th>\n",
       "      <td>support_url</td>\n",
       "      <td>0</td>\n",
       "    </tr>\n",
       "    <tr>\n",
       "      <th>20</th>\n",
       "      <td>notes</td>\n",
       "      <td>0</td>\n",
       "    </tr>\n",
       "    <tr>\n",
       "      <th>12</th>\n",
       "      <td>support_email</td>\n",
       "      <td>0</td>\n",
       "    </tr>\n",
       "    <tr>\n",
       "      <th>13</th>\n",
       "      <td>windows</td>\n",
       "      <td>0</td>\n",
       "    </tr>\n",
       "    <tr>\n",
       "      <th>14</th>\n",
       "      <td>mac</td>\n",
       "      <td>0</td>\n",
       "    </tr>\n",
       "    <tr>\n",
       "      <th>15</th>\n",
       "      <td>linux</td>\n",
       "      <td>0</td>\n",
       "    </tr>\n",
       "    <tr>\n",
       "      <th>16</th>\n",
       "      <td>metacritic_score</td>\n",
       "      <td>0</td>\n",
       "    </tr>\n",
       "    <tr>\n",
       "      <th>17</th>\n",
       "      <td>metacritic_url</td>\n",
       "      <td>0</td>\n",
       "    </tr>\n",
       "    <tr>\n",
       "      <th>18</th>\n",
       "      <td>achievements</td>\n",
       "      <td>0</td>\n",
       "    </tr>\n",
       "    <tr>\n",
       "      <th>41</th>\n",
       "      <td>count</td>\n",
       "      <td>0</td>\n",
       "    </tr>\n",
       "  </tbody>\n",
       "</table>\n",
       "</div>"
      ],
      "text/plain": [
       "                  field_name  instances_with_distinct_values\n",
       "32                  positive                              67\n",
       "33                  negative                              67\n",
       "40                      tags                              66\n",
       "37   median_playtime_forever                              66\n",
       "35  average_playtime_forever                              66\n",
       "39                  peak_ccu                              62\n",
       "34          estimated_owners                              51\n",
       "19           recommendations                              30\n",
       "38    median_playtime_2weeks                              22\n",
       "36   average_playtime_2weeks                              22\n",
       "23                  packages                               2\n",
       "3                      price                               2\n",
       "22      full_audio_languages                               0\n",
       "31                score_rank                               0\n",
       "30                user_score                               0\n",
       "29                    movies                               0\n",
       "28               screenshots                               0\n",
       "27                    genres                               0\n",
       "26                categories                               0\n",
       "25                publishers                               0\n",
       "24                developers                               0\n",
       "0                       name                               0\n",
       "21       supported_languages                               0\n",
       "1               release_date                               0\n",
       "10                   website                               0\n",
       "2               required_age                               0\n",
       "4                  dlc_count                               0\n",
       "5       detailed_description                               0\n",
       "6             about_the_game                               0\n",
       "7          short_description                               0\n",
       "8                    reviews                               0\n",
       "9               header_image                               0\n",
       "11               support_url                               0\n",
       "20                     notes                               0\n",
       "12             support_email                               0\n",
       "13                   windows                               0\n",
       "14                       mac                               0\n",
       "15                     linux                               0\n",
       "16          metacritic_score                               0\n",
       "17            metacritic_url                               0\n",
       "18              achievements                               0\n",
       "41                     count                               0"
      ]
     },
     "execution_count": 18,
     "metadata": {},
     "output_type": "execute_result"
    }
   ],
   "source": [
    "#Validate which field are equal and which are not across potential duplicates\n",
    "for col in duplicates_df.columns:\n",
    "    duplicates_df[col] = [str(val) for val in duplicates_df[col]]\n",
    "\n",
    "duplicates_agg = duplicates_df.groupby(by=\"header_image\").agg(\n",
    "    {col: \"nunique\" for col in duplicates_df.columns}\n",
    ")\n",
    "\n",
    "duplicate_fields = []\n",
    "for col in duplicates_agg.columns:\n",
    "    duplicate_fields.append([col, sum(duplicates_agg[col] > 1)])\n",
    "\n",
    "duplicate_fields = pd.DataFrame(duplicate_fields, columns=[\"field_name\", \"instances_with_distinct_values\"])\n",
    "duplicate_fields.sort_values(by=\"instances_with_distinct_values\", ascending=False)"
   ]
  },
  {
   "cell_type": "markdown",
   "id": "64f43dbc",
   "metadata": {
    "papermill": {
     "duration": 0.010596,
     "end_time": "2025-02-20T22:03:42.225290",
     "exception": false,
     "start_time": "2025-02-20T22:03:42.214694",
     "status": "completed"
    },
    "tags": []
   },
   "source": [
    "From the analysis above, we can draw a few conclusions:\n",
    "* The major part of fields hold the exact same value across records with the same `header_image`;\n",
    "* Some of these fields with no change are `name`, `screenshots`, `movies` and `detailed_description`. It's really hard to imagine completely distinct titles would share the same values for all those fields at the same time;\n",
    "* Finally, we do have a smaller amount of fields for which is more common to have discrepant values. Some of them are `tags` and `medium_playtime_forever`.\n",
    "\n",
    "While this analysis does point to these being duplicate records. We don't feel confident enough to act on it at this point. Another reason for this is we have no means of identifying the \"correct\" record, the one that should be kept. As some fields to present different values for the same potential duplicate instance, this choice could have repercussions later on.\n",
    "\n",
    "What we did then was to actually visit the Steam pages for some of those games. Even though we don't have the actual URLs in the data, game pages are all structured like `https://store.steampowered.com/app/{app_id}`. As we do have the app ID as the dataset index, we have the opportunity to test a few of those cases. On the tested examples, we were able to see links for different `app_ids` were redirected to the same page. This is yet another strong indication these are indeed duplicate records.\n",
    "\n",
    "Unfortunately, this does not addresses the issue of selecting the \"right\" row for each case. To do so, we are going to compare the provided app IDs in the data with the identifier found in the URL after being redirected."
   ]
  },
  {
   "cell_type": "code",
   "execution_count": 19,
   "id": "a941a004",
   "metadata": {
    "execution": {
     "iopub.execute_input": "2025-02-20T22:03:42.248602Z",
     "iopub.status.busy": "2025-02-20T22:03:42.248051Z",
     "iopub.status.idle": "2025-02-20T22:05:21.599443Z",
     "shell.execute_reply": "2025-02-20T22:05:21.598295Z"
    },
    "papermill": {
     "duration": 99.365426,
     "end_time": "2025-02-20T22:05:21.601584",
     "exception": false,
     "start_time": "2025-02-20T22:03:42.236158",
     "status": "completed"
    },
    "tags": []
   },
   "outputs": [],
   "source": [
    "#Identify the \"main\" app_id for duplicate cases\n",
    "duplicates_df[\"redirect_url_app_id\"] = [\n",
    "    requests.get(url=f\"https://store.steampowered.com/app/{app_id}\", allow_redirects=True).url \n",
    "    for app_id in duplicates_df.index\n",
    "]\n",
    "\n",
    "duplicates_df[\"redirect_url_app_id\"] = [\n",
    "    int(url.replace(\"https://store.steampowered.com/app/\", \"\").replace(\"/\", \"\")) for url in duplicates_df[\"redirect_url_app_id\"]\n",
    "]"
   ]
  },
  {
   "cell_type": "code",
   "execution_count": 20,
   "id": "ad6c15ff",
   "metadata": {
    "execution": {
     "iopub.execute_input": "2025-02-20T22:05:21.627575Z",
     "iopub.status.busy": "2025-02-20T22:05:21.627166Z",
     "iopub.status.idle": "2025-02-20T22:05:21.650514Z",
     "shell.execute_reply": "2025-02-20T22:05:21.649218Z"
    },
    "papermill": {
     "duration": 0.038594,
     "end_time": "2025-02-20T22:05:21.652758",
     "exception": false,
     "start_time": "2025-02-20T22:05:21.614164",
     "status": "completed"
    },
    "tags": []
   },
   "outputs": [
    {
     "data": {
      "text/plain": [
       "has_match  matches_count\n",
       "True       1                71\n",
       "Name: count, dtype: int64"
      ]
     },
     "execution_count": 20,
     "metadata": {},
     "output_type": "execute_result"
    }
   ],
   "source": [
    "#Check matches between app_id and redirected_url_app_id\n",
    "duplicates_df[\"is_match\"] = duplicates_df.index == duplicates_df[\"redirect_url_app_id\"]\n",
    "\n",
    "duplicates_validation = duplicates_df.groupby(by=\"header_image\").agg({\n",
    "    \"is_match\": [\"max\", \"sum\"]\n",
    "})\n",
    "duplicates_validation.columns = [\"has_match\", \"matches_count\"]\n",
    "\n",
    "duplicates_validation.value_counts()"
   ]
  },
  {
   "cell_type": "markdown",
   "id": "338a5f78",
   "metadata": {
    "execution": {
     "iopub.execute_input": "2025-02-18T22:53:40.354561Z",
     "iopub.status.busy": "2025-02-18T22:53:40.354144Z",
     "iopub.status.idle": "2025-02-18T22:53:40.360829Z",
     "shell.execute_reply": "2025-02-18T22:53:40.359670Z",
     "shell.execute_reply.started": "2025-02-18T22:53:40.354530Z"
    },
    "papermill": {
     "duration": 0.010803,
     "end_time": "2025-02-20T22:05:21.675721",
     "exception": false,
     "start_time": "2025-02-20T22:05:21.664918",
     "status": "completed"
    },
    "tags": []
   },
   "source": [
    "The results above show all 71 duplicate cases have only a single match between the app ID and the identifier coming from the redirected URL. It also shows there is only one match for each case. From these results, we can conclude this approach is valid for deduplicating records."
   ]
  },
  {
   "cell_type": "code",
   "execution_count": 21,
   "id": "e8fa79f1",
   "metadata": {
    "execution": {
     "iopub.execute_input": "2025-02-20T22:05:21.701327Z",
     "iopub.status.busy": "2025-02-20T22:05:21.700933Z",
     "iopub.status.idle": "2025-02-20T22:05:21.816694Z",
     "shell.execute_reply": "2025-02-20T22:05:21.815582Z"
    },
    "papermill": {
     "duration": 0.131741,
     "end_time": "2025-02-20T22:05:21.818591",
     "exception": false,
     "start_time": "2025-02-20T22:05:21.686850",
     "status": "completed"
    },
    "tags": []
   },
   "outputs": [],
   "source": [
    "#Remove duplicates based on the redirect URL logic\n",
    "apps_to_remove = duplicates_df.query(\"is_match == False\").index\n",
    "df = df.drop(index=apps_to_remove)"
   ]
  },
  {
   "cell_type": "markdown",
   "id": "ce959f56",
   "metadata": {
    "papermill": {
     "duration": 0.011575,
     "end_time": "2025-02-20T22:05:21.842028",
     "exception": false,
     "start_time": "2025-02-20T22:05:21.830453",
     "status": "completed"
    },
    "tags": []
   },
   "source": [
    "# 3. Data Transformation\n",
    "\n",
    "After looking into some fields, and adressing the issue of duplicate records, we want to look into which transformations could we to be able to extract more insights from our data. Additionally, we are going to select the fields that are going to be removed from the dataset for one reason or another."
   ]
  },
  {
   "cell_type": "code",
   "execution_count": 22,
   "id": "30c34398",
   "metadata": {
    "execution": {
     "iopub.execute_input": "2025-02-20T22:05:21.866758Z",
     "iopub.status.busy": "2025-02-20T22:05:21.866259Z",
     "iopub.status.idle": "2025-02-20T22:05:21.870957Z",
     "shell.execute_reply": "2025-02-20T22:05:21.869717Z"
    },
    "papermill": {
     "duration": 0.019054,
     "end_time": "2025-02-20T22:05:21.872743",
     "exception": false,
     "start_time": "2025-02-20T22:05:21.853689",
     "status": "completed"
    },
    "tags": []
   },
   "outputs": [],
   "source": [
    "#Define list to store fields to be removed\n",
    "cols_to_remove = []"
   ]
  },
  {
   "cell_type": "code",
   "execution_count": 23,
   "id": "079b8b9d",
   "metadata": {
    "execution": {
     "iopub.execute_input": "2025-02-20T22:05:21.906277Z",
     "iopub.status.busy": "2025-02-20T22:05:21.905660Z",
     "iopub.status.idle": "2025-02-20T22:05:21.914240Z",
     "shell.execute_reply": "2025-02-20T22:05:21.912796Z"
    },
    "papermill": {
     "duration": 0.03022,
     "end_time": "2025-02-20T22:05:21.916270",
     "exception": false,
     "start_time": "2025-02-20T22:05:21.886050",
     "status": "completed"
    },
    "tags": []
   },
   "outputs": [
    {
     "data": {
      "text/plain": [
       "Index(['name', 'release_date', 'required_age', 'price', 'dlc_count',\n",
       "       'detailed_description', 'about_the_game', 'short_description',\n",
       "       'reviews', 'header_image', 'website', 'support_url', 'support_email',\n",
       "       'windows', 'mac', 'linux', 'metacritic_score', 'metacritic_url',\n",
       "       'achievements', 'recommendations', 'notes', 'supported_languages',\n",
       "       'full_audio_languages', 'packages', 'developers', 'publishers',\n",
       "       'categories', 'genres', 'screenshots', 'movies', 'user_score',\n",
       "       'score_rank', 'positive', 'negative', 'estimated_owners',\n",
       "       'average_playtime_forever', 'average_playtime_2weeks',\n",
       "       'median_playtime_forever', 'median_playtime_2weeks', 'peak_ccu',\n",
       "       'tags'],\n",
       "      dtype='object')"
      ]
     },
     "execution_count": 23,
     "metadata": {},
     "output_type": "execute_result"
    }
   ],
   "source": [
    "df.columns"
   ]
  },
  {
   "cell_type": "code",
   "execution_count": 24,
   "id": "07a911b7",
   "metadata": {
    "execution": {
     "iopub.execute_input": "2025-02-20T22:05:21.957236Z",
     "iopub.status.busy": "2025-02-20T22:05:21.956735Z",
     "iopub.status.idle": "2025-02-20T22:05:22.943413Z",
     "shell.execute_reply": "2025-02-20T22:05:22.942217Z"
    },
    "papermill": {
     "duration": 1.008733,
     "end_time": "2025-02-20T22:05:22.946113",
     "exception": false,
     "start_time": "2025-02-20T22:05:21.937380",
     "status": "completed"
    },
    "tags": []
   },
   "outputs": [],
   "source": [
    "#relase_date: Transform into datetime\n",
    "date_format = \"%b %d, %Y\"\n",
    "date_format_fallback = '%b %Y'\n",
    "\n",
    "df[\"release_date\"] = [\n",
    "    datetime.strptime(date, date_format) if \",\" in date\n",
    "    else datetime.strptime(date, date_format_fallback) \n",
    "    for date in df[\"release_date\"]\n",
    "]"
   ]
  },
  {
   "cell_type": "code",
   "execution_count": 25,
   "id": "4cec1f04",
   "metadata": {
    "execution": {
     "iopub.execute_input": "2025-02-20T22:05:22.971880Z",
     "iopub.status.busy": "2025-02-20T22:05:22.971541Z",
     "iopub.status.idle": "2025-02-20T22:05:23.005353Z",
     "shell.execute_reply": "2025-02-20T22:05:23.004401Z"
    },
    "papermill": {
     "duration": 0.04821,
     "end_time": "2025-02-20T22:05:23.007279",
     "exception": false,
     "start_time": "2025-02-20T22:05:22.959069",
     "status": "completed"
    },
    "tags": []
   },
   "outputs": [],
   "source": [
    "#required_age: Treat 0s as null and include flag for games with age restrictions\n",
    "df[\"has_age_restriction\"] = df[\"required_age\"] == 0\n",
    "df[\"required_age\"] = [age if age > 0 else np.nan for age in df[\"required_age\"]]"
   ]
  },
  {
   "cell_type": "code",
   "execution_count": 26,
   "id": "2191218f",
   "metadata": {
    "execution": {
     "iopub.execute_input": "2025-02-20T22:05:23.031398Z",
     "iopub.status.busy": "2025-02-20T22:05:23.030991Z",
     "iopub.status.idle": "2025-02-20T22:05:23.036886Z",
     "shell.execute_reply": "2025-02-20T22:05:23.035611Z"
    },
    "papermill": {
     "duration": 0.020298,
     "end_time": "2025-02-20T22:05:23.038972",
     "exception": false,
     "start_time": "2025-02-20T22:05:23.018674",
     "status": "completed"
    },
    "tags": []
   },
   "outputs": [],
   "source": [
    "#dlc_count: Add field has_dlc\n",
    "df[\"has_dlc\"] = df[\"dlc_count\"] > 0"
   ]
  },
  {
   "cell_type": "code",
   "execution_count": 27,
   "id": "f626f9ae",
   "metadata": {
    "execution": {
     "iopub.execute_input": "2025-02-20T22:05:23.128071Z",
     "iopub.status.busy": "2025-02-20T22:05:23.127727Z",
     "iopub.status.idle": "2025-02-20T22:05:23.131710Z",
     "shell.execute_reply": "2025-02-20T22:05:23.130721Z"
    },
    "papermill": {
     "duration": 0.082992,
     "end_time": "2025-02-20T22:05:23.133516",
     "exception": false,
     "start_time": "2025-02-20T22:05:23.050524",
     "status": "completed"
    },
    "tags": []
   },
   "outputs": [],
   "source": [
    "# df[df[\"reviews\"] == '']"
   ]
  },
  {
   "cell_type": "code",
   "execution_count": 28,
   "id": "5651cade",
   "metadata": {
    "execution": {
     "iopub.execute_input": "2025-02-20T22:05:23.158332Z",
     "iopub.status.busy": "2025-02-20T22:05:23.157921Z",
     "iopub.status.idle": "2025-02-20T22:05:23.178634Z",
     "shell.execute_reply": "2025-02-20T22:05:23.176898Z"
    },
    "papermill": {
     "duration": 0.035615,
     "end_time": "2025-02-20T22:05:23.180864",
     "exception": false,
     "start_time": "2025-02-20T22:05:23.145249",
     "status": "completed"
    },
    "tags": []
   },
   "outputs": [],
   "source": [
    "#website: Include a flag for identifying games with website provided and remove original field\n",
    "df[\"has_website\"] = df[\"website\"] != ''\n",
    "cols_to_remove.append(\"website\")"
   ]
  },
  {
   "cell_type": "code",
   "execution_count": 29,
   "id": "a67ea03e",
   "metadata": {
    "execution": {
     "iopub.execute_input": "2025-02-20T22:05:23.205619Z",
     "iopub.status.busy": "2025-02-20T22:05:23.205271Z",
     "iopub.status.idle": "2025-02-20T22:05:23.268792Z",
     "shell.execute_reply": "2025-02-20T22:05:23.267847Z"
    },
    "papermill": {
     "duration": 0.077932,
     "end_time": "2025-02-20T22:05:23.270853",
     "exception": false,
     "start_time": "2025-02-20T22:05:23.192921",
     "status": "completed"
    },
    "tags": []
   },
   "outputs": [],
   "source": [
    "#support_url and support_email: Create flag to identify games that have any support link and remove original fields\n",
    "df[\"has_support\"] = [True if len(val) > 0 else False for val in df[\"support_url\"] + df[\"support_email\"]]\n",
    "cols_to_remove.extend([\"support_url\", \"support_email\"])"
   ]
  },
  {
   "cell_type": "code",
   "execution_count": 30,
   "id": "cadff381",
   "metadata": {
    "execution": {
     "iopub.execute_input": "2025-02-20T22:05:23.298787Z",
     "iopub.status.busy": "2025-02-20T22:05:23.298437Z",
     "iopub.status.idle": "2025-02-20T22:05:23.332835Z",
     "shell.execute_reply": "2025-02-20T22:05:23.331026Z"
    },
    "papermill": {
     "duration": 0.050867,
     "end_time": "2025-02-20T22:05:23.335326",
     "exception": false,
     "start_time": "2025-02-20T22:05:23.284459",
     "status": "completed"
    },
    "tags": []
   },
   "outputs": [],
   "source": [
    "#metacritic_score and metacritic_url: Treat 0s as nulls and remove metacritic_url\n",
    "df[\"metacritic_score\"] = [score if score > 0 else np.nan for score in df[\"metacritic_score\"]]\n",
    "cols_to_remove.append(\"metacritic_url\")"
   ]
  },
  {
   "cell_type": "code",
   "execution_count": 31,
   "id": "8501b0a2",
   "metadata": {
    "execution": {
     "iopub.execute_input": "2025-02-20T22:05:23.361394Z",
     "iopub.status.busy": "2025-02-20T22:05:23.361002Z",
     "iopub.status.idle": "2025-02-20T22:05:23.366367Z",
     "shell.execute_reply": "2025-02-20T22:05:23.365299Z"
    },
    "papermill": {
     "duration": 0.019677,
     "end_time": "2025-02-20T22:05:23.367967",
     "exception": false,
     "start_time": "2025-02-20T22:05:23.348290",
     "status": "completed"
    },
    "tags": []
   },
   "outputs": [],
   "source": [
    "#achievements: Include a flag for identify games with and without achievements \n",
    "# We are not going to replace 0s for nulls since our understanding is these values do not cause distortions in future analyses\n",
    "df[\"has_achievements\"] = df[\"achievements\"] == 0"
   ]
  },
  {
   "cell_type": "code",
   "execution_count": 32,
   "id": "a672979f",
   "metadata": {
    "execution": {
     "iopub.execute_input": "2025-02-20T22:05:23.392958Z",
     "iopub.status.busy": "2025-02-20T22:05:23.392637Z",
     "iopub.status.idle": "2025-02-20T22:05:23.407553Z",
     "shell.execute_reply": "2025-02-20T22:05:23.406318Z"
    },
    "papermill": {
     "duration": 0.030098,
     "end_time": "2025-02-20T22:05:23.410379",
     "exception": false,
     "start_time": "2025-02-20T22:05:23.380281",
     "status": "completed"
    },
    "tags": []
   },
   "outputs": [],
   "source": [
    "#notes: Add a flag for identifying games with disclaimers. The original field will not be removed at this moment to allow for transformations later on\n",
    "df[\"has_disclaimer\"] = df[\"notes\"] != \"\""
   ]
  },
  {
   "cell_type": "code",
   "execution_count": 33,
   "id": "78f7a112",
   "metadata": {
    "execution": {
     "iopub.execute_input": "2025-02-20T22:05:23.435575Z",
     "iopub.status.busy": "2025-02-20T22:05:23.435181Z",
     "iopub.status.idle": "2025-02-20T22:05:23.439546Z",
     "shell.execute_reply": "2025-02-20T22:05:23.438424Z"
    },
    "papermill": {
     "duration": 0.018508,
     "end_time": "2025-02-20T22:05:23.441278",
     "exception": false,
     "start_time": "2025-02-20T22:05:23.422770",
     "status": "completed"
    },
    "tags": []
   },
   "outputs": [],
   "source": [
    "#supported_languages and full_audio_languages: Move data into a separate dataframe"
   ]
  },
  {
   "cell_type": "code",
   "execution_count": 34,
   "id": "581a91fd",
   "metadata": {
    "execution": {
     "iopub.execute_input": "2025-02-20T22:05:23.466406Z",
     "iopub.status.busy": "2025-02-20T22:05:23.466028Z",
     "iopub.status.idle": "2025-02-20T22:05:23.470280Z",
     "shell.execute_reply": "2025-02-20T22:05:23.468964Z"
    },
    "papermill": {
     "duration": 0.019123,
     "end_time": "2025-02-20T22:05:23.472102",
     "exception": false,
     "start_time": "2025-02-20T22:05:23.452979",
     "status": "completed"
    },
    "tags": []
   },
   "outputs": [],
   "source": [
    "#packages: Move data into separate dataframe"
   ]
  },
  {
   "cell_type": "code",
   "execution_count": 35,
   "id": "49c821af",
   "metadata": {
    "execution": {
     "iopub.execute_input": "2025-02-20T22:05:23.497346Z",
     "iopub.status.busy": "2025-02-20T22:05:23.496940Z",
     "iopub.status.idle": "2025-02-20T22:05:23.501146Z",
     "shell.execute_reply": "2025-02-20T22:05:23.499779Z"
    },
    "papermill": {
     "duration": 0.019166,
     "end_time": "2025-02-20T22:05:23.502949",
     "exception": false,
     "start_time": "2025-02-20T22:05:23.483783",
     "status": "completed"
    },
    "tags": []
   },
   "outputs": [],
   "source": [
    "#categories: Move data into separate dataframe"
   ]
  },
  {
   "cell_type": "code",
   "execution_count": 36,
   "id": "b7f08fbd",
   "metadata": {
    "execution": {
     "iopub.execute_input": "2025-02-20T22:05:23.527690Z",
     "iopub.status.busy": "2025-02-20T22:05:23.527295Z",
     "iopub.status.idle": "2025-02-20T22:05:23.531236Z",
     "shell.execute_reply": "2025-02-20T22:05:23.530158Z"
    },
    "papermill": {
     "duration": 0.018126,
     "end_time": "2025-02-20T22:05:23.532969",
     "exception": false,
     "start_time": "2025-02-20T22:05:23.514843",
     "status": "completed"
    },
    "tags": []
   },
   "outputs": [],
   "source": [
    "#genres: Move data into separate dataframe"
   ]
  },
  {
   "cell_type": "code",
   "execution_count": 37,
   "id": "90d84ead",
   "metadata": {
    "execution": {
     "iopub.execute_input": "2025-02-20T22:05:23.557492Z",
     "iopub.status.busy": "2025-02-20T22:05:23.557069Z",
     "iopub.status.idle": "2025-02-20T22:05:23.670654Z",
     "shell.execute_reply": "2025-02-20T22:05:23.669485Z"
    },
    "papermill": {
     "duration": 0.128221,
     "end_time": "2025-02-20T22:05:23.672731",
     "exception": false,
     "start_time": "2025-02-20T22:05:23.544510",
     "status": "completed"
    },
    "tags": []
   },
   "outputs": [],
   "source": [
    "#screenshots and movies: Replace original fields by counts\n",
    "df[\"number_of_screenshots\"] = [len(lst) for lst in df[\"screenshots\"]]\n",
    "df[\"number_of_movies\"] = [len(lst) for lst in df[\"movies\"]]\n",
    "\n",
    "cols_to_remove.extend([\"screenshots\", \"movies\"])"
   ]
  },
  {
   "cell_type": "code",
   "execution_count": 38,
   "id": "45ab52aa",
   "metadata": {
    "execution": {
     "iopub.execute_input": "2025-02-20T22:05:23.697648Z",
     "iopub.status.busy": "2025-02-20T22:05:23.697240Z",
     "iopub.status.idle": "2025-02-20T22:05:23.703923Z",
     "shell.execute_reply": "2025-02-20T22:05:23.702580Z"
    },
    "papermill": {
     "duration": 0.021107,
     "end_time": "2025-02-20T22:05:23.705834",
     "exception": false,
     "start_time": "2025-02-20T22:05:23.684727",
     "status": "completed"
    },
    "tags": []
   },
   "outputs": [
    {
     "data": {
      "text/plain": [
       "(\"'peak_ccu',\", \"'tags'\")"
      ]
     },
     "execution_count": 38,
     "metadata": {},
     "output_type": "execute_result"
    }
   ],
   "source": [
    ", 'peak_ccu', 'tags'"
   ]
  },
  {
   "cell_type": "code",
   "execution_count": 39,
   "id": "59f9830d",
   "metadata": {
    "execution": {
     "iopub.execute_input": "2025-02-20T22:05:23.730654Z",
     "iopub.status.busy": "2025-02-20T22:05:23.730238Z",
     "iopub.status.idle": "2025-02-20T22:05:23.735443Z",
     "shell.execute_reply": "2025-02-20T22:05:23.734331Z"
    },
    "papermill": {
     "duration": 0.019335,
     "end_time": "2025-02-20T22:05:23.737153",
     "exception": false,
     "start_time": "2025-02-20T22:05:23.717818",
     "status": "completed"
    },
    "tags": []
   },
   "outputs": [],
   "source": [
    "#score_rank: Drop since most values are non-existing\n",
    "cols_to_remove.append(\"score_rank\")"
   ]
  },
  {
   "cell_type": "code",
   "execution_count": 40,
   "id": "05c5037a",
   "metadata": {
    "execution": {
     "iopub.execute_input": "2025-02-20T22:05:23.762339Z",
     "iopub.status.busy": "2025-02-20T22:05:23.761897Z",
     "iopub.status.idle": "2025-02-20T22:05:23.765857Z",
     "shell.execute_reply": "2025-02-20T22:05:23.764841Z"
    },
    "papermill": {
     "duration": 0.01811,
     "end_time": "2025-02-20T22:05:23.767604",
     "exception": false,
     "start_time": "2025-02-20T22:05:23.749494",
     "status": "completed"
    },
    "tags": []
   },
   "outputs": [],
   "source": [
    "#average_playtime_forever, average_playtime_2weeks, median_playtime_forever and median_playtime_2weeks: Think later"
   ]
  },
  {
   "cell_type": "code",
   "execution_count": 41,
   "id": "316b9d0f",
   "metadata": {
    "execution": {
     "iopub.execute_input": "2025-02-20T22:05:23.793220Z",
     "iopub.status.busy": "2025-02-20T22:05:23.792833Z",
     "iopub.status.idle": "2025-02-20T22:05:23.796775Z",
     "shell.execute_reply": "2025-02-20T22:05:23.795617Z"
    },
    "papermill": {
     "duration": 0.01833,
     "end_time": "2025-02-20T22:05:23.798572",
     "exception": false,
     "start_time": "2025-02-20T22:05:23.780242",
     "status": "completed"
    },
    "tags": []
   },
   "outputs": [],
   "source": [
    "#tags: Move data into separate dataframe"
   ]
  }
 ],
 "metadata": {
  "kaggle": {
   "accelerator": "none",
   "dataSources": [
    {
     "datasetId": 2109585,
     "sourceId": 9310676,
     "sourceType": "datasetVersion"
    }
   ],
   "dockerImageVersionId": 30886,
   "isGpuEnabled": false,
   "isInternetEnabled": true,
   "language": "python",
   "sourceType": "notebook"
  },
  "kernelspec": {
   "display_name": "Python 3",
   "language": "python",
   "name": "python3"
  },
  "language_info": {
   "codemirror_mode": {
    "name": "ipython",
    "version": 3
   },
   "file_extension": ".py",
   "mimetype": "text/x-python",
   "name": "python",
   "nbconvert_exporter": "python",
   "pygments_lexer": "ipython3",
   "version": "3.10.12"
  },
  "papermill": {
   "default_parameters": {},
   "duration": 130.481181,
   "end_time": "2025-02-20T22:05:25.738263",
   "environment_variables": {},
   "exception": null,
   "input_path": "__notebook__.ipynb",
   "output_path": "__notebook__.ipynb",
   "parameters": {},
   "start_time": "2025-02-20T22:03:15.257082",
   "version": "2.6.0"
  }
 },
 "nbformat": 4,
 "nbformat_minor": 5
}
